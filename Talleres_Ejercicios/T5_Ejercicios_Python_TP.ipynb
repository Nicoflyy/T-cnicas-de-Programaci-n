{
  "nbformat": 4,
  "nbformat_minor": 0,
  "metadata": {
    "colab": {
      "provenance": [],
      "authorship_tag": "ABX9TyO9w/L+dAaygRf9t+fY+pqu",
      "include_colab_link": true
    },
    "kernelspec": {
      "name": "python3",
      "display_name": "Python 3"
    },
    "language_info": {
      "name": "python"
    }
  },
  "cells": [
    {
      "cell_type": "markdown",
      "metadata": {
        "id": "view-in-github",
        "colab_type": "text"
      },
      "source": [
        "<a href=\"https://colab.research.google.com/github/Nicoflyy/T-cnicas-de-Programaci-n/blob/main/Talleres_Ejercicios/T5_Ejercicios_Python_TP.ipynb\" target=\"_parent\"><img src=\"https://colab.research.google.com/assets/colab-badge.svg\" alt=\"Open In Colab\"/></a>"
      ]
    },
    {
      "cell_type": "markdown",
      "source": [
        "1. **Sumatoria de 1 hasta n.**"
      ],
      "metadata": {
        "id": "KOv0JNO7yL-6"
      }
    },
    {
      "cell_type": "code",
      "execution_count": null,
      "metadata": {
        "colab": {
          "base_uri": "https://localhost:8080/"
        },
        "id": "Xifl2vwCxbaw",
        "outputId": "c1e074e5-eb12-49bb-e589-317923327542"
      },
      "outputs": [
        {
          "output_type": "stream",
          "name": "stdout",
          "text": [
            "Ingrese el límite de la sumatoria: 7\n",
            "la sumatoria de 1 hasta 7 es 28\n"
          ]
        }
      ],
      "source": [
        "def sumatoria(n):\n",
        "  if n == 1:\n",
        "    return 1\n",
        "  return n + sumatoria(n-1)\n",
        "\n",
        "x = int(input('Ingrese el límite de la sumatoria: '))\n",
        "resultado = sumatoria(x)\n",
        "print(f'la sumatoria de 1 hasta {x} es {resultado}')"
      ]
    },
    {
      "cell_type": "markdown",
      "source": [
        "2. **Factorial de un número natural.**"
      ],
      "metadata": {
        "id": "nyqEuUZR3KUf"
      }
    },
    {
      "cell_type": "code",
      "source": [
        "def factorial(n):\n",
        "  if n == 0 or n == 1:\n",
        "    return 1\n",
        "  else:\n",
        "    return n*factorial(n-1)\n",
        "\n",
        "z = int(input('Ingrese un número natural: '))\n",
        "print(f'{z}! = {factorial(z)}')"
      ],
      "metadata": {
        "colab": {
          "base_uri": "https://localhost:8080/"
        },
        "id": "NcTdECRt6CVL",
        "outputId": "ae28175e-a720-4671-a307-0185b1e803b3"
      },
      "execution_count": null,
      "outputs": [
        {
          "output_type": "stream",
          "name": "stdout",
          "text": [
            "10! = 3628800\n"
          ]
        }
      ]
    },
    {
      "cell_type": "markdown",
      "source": [
        "3. **Dados dos valores naturales, calcular su producto (sin usar la multiplicación).**"
      ],
      "metadata": {
        "id": "Q-ODRpik6Trj"
      }
    },
    {
      "cell_type": "code",
      "source": [
        "def producto_recursivo(a, b):\n",
        "    # Caso base: si alguno de los números es 0, el producto es 0\n",
        "    if a == 0 or b == 0:\n",
        "        return 0\n",
        "    # Caso base: si b es 1, el producto es a\n",
        "    elif b == 1:\n",
        "        return a\n",
        "    # Caso recursivo: sumar a a sí mismo b veces\n",
        "    else:\n",
        "        return a + producto_recursivo(a, b - 1)\n",
        "\n",
        "# Ejemplo de uso\n",
        "num1 = 4\n",
        "num2 = 10\n",
        "print(\"El producto de\", num1, \"y\", num2, \"es:\", producto_recursivo(num1, num2))"
      ],
      "metadata": {
        "id": "UDqRn6ru6gT2",
        "colab": {
          "base_uri": "https://localhost:8080/"
        },
        "outputId": "76342eff-2e95-468a-93d8-459a50ac2525"
      },
      "execution_count": null,
      "outputs": [
        {
          "output_type": "stream",
          "name": "stdout",
          "text": [
            "El producto de 4 y 10 es: 40\n"
          ]
        }
      ]
    },
    {
      "cell_type": "markdown",
      "source": [
        "4. Dada una lista de valores, calcular el producto de todos los elementos."
      ],
      "metadata": {
        "id": "Le57rtDDNeIg"
      }
    },
    {
      "cell_type": "code",
      "source": [
        "def multiplicar(x):\n",
        "  if len(x) == 0:\n",
        "    return 1\n",
        "  return x[0] * multiplicar(x[1:])\n",
        "\n",
        "lista = [1, 2, 3, 4, 5]\n",
        "solucion = multiplicar(lista)\n",
        "print(solucion)"
      ],
      "metadata": {
        "id": "PRTS-hlq0jmt",
        "colab": {
          "base_uri": "https://localhost:8080/"
        },
        "outputId": "8f09a603-fac5-4ef0-82ed-a7f2dd1f7d37"
      },
      "execution_count": null,
      "outputs": [
        {
          "output_type": "stream",
          "name": "stdout",
          "text": [
            "120\n"
          ]
        }
      ]
    },
    {
      "cell_type": "markdown",
      "source": [
        "5. El valor menor de una lista."
      ],
      "metadata": {
        "id": "AWMqNB0PSurB"
      }
    },
    {
      "cell_type": "code",
      "source": [
        "def encontrar_minimo(lista):\n",
        "    # Caso base: Si la lista está vacía, no hay mínimo\n",
        "    if not lista:\n",
        "        return None\n",
        "    # Caso base: Si la lista tiene un solo elemento, ese es el mínimo\n",
        "    elif len(lista) == 1:\n",
        "        return lista[0]\n",
        "    # Comparar el primer elemento con el mínimo del resto de la lista\n",
        "    resto_min = encontrar_minimo(lista[1:])\n",
        "    # Devolver el mínimo entre el primer elemento y el mínimo del resto de la lista\n",
        "    return lista[0] if lista[0] < resto_min else resto_min\n",
        "\n",
        "# Ejemplo de uso\n",
        "mi_lista = [5, 8, 9, 4, 7]\n",
        "print(\"El valor mínimo de la lista es:\", encontrar_minimo(mi_lista))"
      ],
      "metadata": {
        "colab": {
          "base_uri": "https://localhost:8080/"
        },
        "id": "IUrVIpT6WbIn",
        "outputId": "be278036-35be-4fbc-bd83-a9a63e627109"
      },
      "execution_count": null,
      "outputs": [
        {
          "output_type": "stream",
          "name": "stdout",
          "text": [
            "El valor mínimo de la lista es: 4\n"
          ]
        }
      ]
    }
  ]
}