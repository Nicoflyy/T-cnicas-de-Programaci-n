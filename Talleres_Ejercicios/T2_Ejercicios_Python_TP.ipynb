{
  "cells": [
    {
      "cell_type": "markdown",
      "metadata": {
        "id": "view-in-github",
        "colab_type": "text"
      },
      "source": [
        "<a href=\"https://colab.research.google.com/github/Nicoflyy/T-cnicas-de-Programaci-n/blob/main/Talleres_Ejercicios/T2_Ejercicios_Python_TP.ipynb\" target=\"_parent\"><img src=\"https://colab.research.google.com/assets/colab-badge.svg\" alt=\"Open In Colab\"/></a>"
      ]
    },
    {
      "cell_type": "markdown",
      "source": [
        "2. Leer el nombre, el peso y la talla de una persona, calcular su índice de masa corporal.\n",
        "Determinar y escribir si está en estado de bajo peso, normal, sobrepreso, u obesidad."
      ],
      "metadata": {
        "id": "qQPt7Geff3qU"
      }
    },
    {
      "cell_type": "code",
      "execution_count": null,
      "metadata": {
        "colab": {
          "base_uri": "https://localhost:8080/"
        },
        "id": "LBIdjAbdTdHe",
        "outputId": "861edb31-3e7a-491b-eb91-8cfd8cd63327"
      },
      "outputs": [
        {
          "output_type": "stream",
          "name": "stdout",
          "text": [
            "Ingrese el nombre completo de la persona: Nicolas\n",
            "Ingrese el peso de la persona en Kg: 64\n",
            "Ingrese la talla/altura de la persona en m: 1.7\n",
            "Hola Nicolas, su peso es: 64.0 [Kg] y su talla/altura es: 1.7 [m]\n",
            "22.1\n",
            "El individuo está en estado normal\n"
          ]
        }
      ],
      "source": [
        "def IBM (P, T):\n",
        "  ibm = round(P/T**2, 1)\n",
        "  return ibm\n",
        "\n",
        "def ESTADO (x):\n",
        "  if x < 18.5:\n",
        "    return 'El individuo está en estado bajo de peso'\n",
        "\n",
        "  elif 18.5 <= x <= 24.9:\n",
        "    return 'El individuo está en estado normal'\n",
        "\n",
        "  elif 25.0 <= x <= 29.9:\n",
        "    return 'El individuo está en estado de sobrepeso'\n",
        "\n",
        "  elif x > 30.0:\n",
        "    return 'El individuo está en estado de obesidad'\n",
        "\n",
        "\n",
        "nom = input('Ingrese el nombre completo de la persona: ')\n",
        "P = float(input('Ingrese el peso de la persona en Kg: '))\n",
        "T = float(input('Ingrese la talla/altura de la persona en m: '))\n",
        "print(f'Hola {nom}, su peso es: {P} [Kg] y su talla/altura es: {T} [m]')\n",
        "\n",
        "X = IBM(P, T)\n",
        "print(X)\n",
        "\n",
        "esd = ESTADO(X)\n",
        "print(esd)\n"
      ]
    },
    {
      "cell_type": "markdown",
      "source": [
        "1. Leer tres valores, determinar si corresponden a los lados de un triángulo. Si es así, calcular\n",
        "y escribir el perímetro si el triángulo es rectángulo o su área, en otro caso"
      ],
      "metadata": {
        "id": "dVcz1OTrfwgy"
      }
    },
    {
      "cell_type": "code",
      "source": [
        "from numpy import *\n",
        "from math import *\n",
        "\n",
        "def A_P(a, b, c):                                                   #La función define si el triángulo es rectangulo o no, si es rectangulo calcula su perimetro en caso contrario calcula su area.\n",
        "  if a**2+b**2 == c**2 or  b**2+c**2 == a**2 or c**2+a**2 == b**2:\n",
        "    x = a + b + c\n",
        "    return 'El perimetro del triangulo es: ', x\n",
        "  else:\n",
        "    s = (a+b+c)/2\n",
        "    A = round(sqrt(s*(s-a)*(s-b)*(s-c)), 4)\n",
        "    return 'El area del triangulo es: ', A\n",
        "\n",
        "a = float(input('Ingrese un valor: '))\n",
        "b = float(input('Ingrese un valor: '))\n",
        "c = float(input('Ingrese un valor: '))\n",
        "\n",
        "if a+b>c and b+c>a and c+a>b:\n",
        "  trgl = A_P(a, b, c)\n",
        "  print(trgl)\n",
        "\n",
        "else:\n",
        "  print('Los valores de los lados a, b y c no pertenecen a un triangulo')\n",
        "\n",
        "\n",
        "\n"
      ],
      "metadata": {
        "colab": {
          "base_uri": "https://localhost:8080/"
        },
        "id": "IJ5b2b4ld5oc",
        "outputId": "5f401af2-17ce-4086-8ec6-e8d890ad55d2"
      },
      "execution_count": null,
      "outputs": [
        {
          "output_type": "stream",
          "name": "stdout",
          "text": [
            "Ingrese un valor: 5\n",
            "Ingrese un valor: 6\n",
            "Ingrese un valor: 7\n",
            "('El area del triangulo es: ', 14.6969)\n"
          ]
        }
      ]
    },
    {
      "cell_type": "markdown",
      "source": [
        "3. Leer 3 valores, escribirlos en orden ascendente."
      ],
      "metadata": {
        "id": "JMmy0LvB5nTc"
      }
    },
    {
      "cell_type": "code",
      "source": [
        "a = int(input('Ingrese un valor entero: '))\n",
        "b = int(input('Ingrese un valor entero: '))\n",
        "c = int(input('Ingrese un valor entero: '))\n",
        "\n",
        "Lista = [a, b, c]\n",
        "\n",
        "Lista.sort()\n",
        "print(Lista)"
      ],
      "metadata": {
        "colab": {
          "base_uri": "https://localhost:8080/"
        },
        "id": "qTO3rTAY6ip0",
        "outputId": "fd135b72-2dbc-45be-f15c-75b6a9fd7fa2"
      },
      "execution_count": null,
      "outputs": [
        {
          "output_type": "stream",
          "name": "stdout",
          "text": [
            "Ingrese un valor entero: 9\n",
            "Ingrese un valor entero: 5\n",
            "Ingrese un valor entero: 7\n",
            "[5, 7, 9]\n"
          ]
        }
      ]
    },
    {
      "cell_type": "markdown",
      "source": [
        "4. Leer las coordenadas (x, y) de un punto en el plano cartesiano, determinar y escribir a qué cuadrante pertenece basado en el signo, de acuerdo con el gráfico siguiente:\n",
        "\n",
        "\n",
        "![image.png](data:image/png;base64,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)"
      ],
      "metadata": {
        "id": "9BqyM7QT9GpC"
      }
    },
    {
      "cell_type": "code",
      "source": [
        "x = float(input('Escriba un valor para X: '))\n",
        "y = float(input('Escriba un valor para y: '))\n",
        "\n",
        "if x > 0 and y > 0:                                           #Primer cuadrante\n",
        "  print('El punto pertenece al cuadrante 1 del plano xy')\n",
        "\n",
        "elif x < 0 and y > 0:                                         #Segundo cuadrante\n",
        "  print('El punto pertenece al cuadrante 2 del plano xy')\n",
        "\n",
        "elif x < 0 and y < 0:                                          #Tercer cuadrante\n",
        "  print('El punto pertenece al cuadrante 3 del plano xy')\n",
        "\n",
        "elif x > 0 and y < 0:                                          #Cuarto cuadrante\n",
        "  print('El punto pertenece al cuadrante 4 del plano xy')"
      ],
      "metadata": {
        "colab": {
          "base_uri": "https://localhost:8080/"
        },
        "id": "jNzMJCVq9gxi",
        "outputId": "06b96db5-bd96-48b0-d312-4da5a23e326c"
      },
      "execution_count": null,
      "outputs": [
        {
          "output_type": "stream",
          "name": "stdout",
          "text": [
            "Escriba un valor para X: 5\n",
            "Escriba un valor para y: -3\n",
            "El punto pertenece al cuadrante 4 del plano xy\n"
          ]
        }
      ]
    },
    {
      "cell_type": "markdown",
      "source": [
        "3. Leer el consumo en metros cúbicos de agua de una familia, calcular y escribir el valor de su factura, teniendo en cuenta lo siguiente: los primeros 20 metros cúbicos se cobran $2000, los siguientes 6 a $2500 y los restantes a $4.000. Así, por ejemplo, una familia que consuma 35 m3 pagaría 20 en la primera tarifa, 6 en la segunda y el resto (9) en la última tarifa."
      ],
      "metadata": {
        "id": "p1K4GomPBb-C"
      }
    },
    {
      "cell_type": "code",
      "source": [
        "def calcular_factura(consumo):\n",
        "    costo_total = 0\n",
        "\n",
        "    # Tarifa para los primeros 20 metros cúbicos\n",
        "    if consumo >= 20:\n",
        "        costo_total += 20 * 2000\n",
        "        consumo -= 20\n",
        "    else:\n",
        "        costo_total += consumo * 2000\n",
        "        return costo_total\n",
        "\n",
        "    # Tarifa para los siguientes 6 metros cúbicos\n",
        "    if consumo >= 6:\n",
        "        costo_total += 6 * 2500\n",
        "        consumo -= 6\n",
        "    else:\n",
        "        costo_total += consumo * 2500\n",
        "        return costo_total\n",
        "\n",
        "    # Tarifa para el resto\n",
        "    costo_total += consumo * 4000\n",
        "\n",
        "    return costo_total\n",
        "\n",
        "# Pedir al usuario que ingrese el consumo en metros cúbicos\n",
        "consumo = float(input(\"Ingrese el consumo en metros cúbicos de agua: \"))\n",
        "\n",
        "# Calcular y mostrar la factura\n",
        "factura = calcular_factura(consumo)\n",
        "print(\"La factura por el consumo de {:.2f} metros cúbicos es de ${:.2f}\".format(consumo, factura))"
      ],
      "metadata": {
        "colab": {
          "base_uri": "https://localhost:8080/"
        },
        "id": "basVzzM2nEHL",
        "outputId": "4867a527-d2bd-4bb7-903c-2e7cc4e482ba"
      },
      "execution_count": 2,
      "outputs": [
        {
          "output_type": "stream",
          "name": "stdout",
          "text": [
            "Ingrese el consumo en metros cúbicos de agua: 35\n",
            "La factura por el consumo de 35.00 metros cúbicos es de $91000.00\n"
          ]
        }
      ]
    }
  ],
  "metadata": {
    "colab": {
      "provenance": [],
      "authorship_tag": "ABX9TyOKYYrJy3QZXqnztaZrzTzP",
      "include_colab_link": true
    },
    "kernelspec": {
      "display_name": "Python 3",
      "name": "python3"
    },
    "language_info": {
      "name": "python"
    }
  },
  "nbformat": 4,
  "nbformat_minor": 0
}