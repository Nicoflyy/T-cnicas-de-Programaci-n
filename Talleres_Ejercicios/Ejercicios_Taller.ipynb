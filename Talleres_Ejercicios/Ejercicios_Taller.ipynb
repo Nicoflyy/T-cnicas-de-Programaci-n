{
  "nbformat": 4,
  "nbformat_minor": 0,
  "metadata": {
    "colab": {
      "provenance": [],
      "authorship_tag": "ABX9TyPBubaCbO3MgYBLyZ88vahF",
      "include_colab_link": true
    },
    "kernelspec": {
      "name": "python3",
      "display_name": "Python 3"
    },
    "language_info": {
      "name": "python"
    }
  },
  "cells": [
    {
      "cell_type": "markdown",
      "metadata": {
        "id": "view-in-github",
        "colab_type": "text"
      },
      "source": [
        "<a href=\"https://colab.research.google.com/github/Nicoflyy/T-cnicas-de-Programaci-n/blob/main/Talleres_Ejercicios/Ejercicios_Taller.ipynb\" target=\"_parent\"><img src=\"https://colab.research.google.com/assets/colab-badge.svg\" alt=\"Open In Colab\"/></a>"
      ]
    },
    {
      "cell_type": "markdown",
      "source": [
        " 1. Leer tres valores, determinar si corresponden a los lados de un triángulo. Si es así, calcular\n",
        "y escribir el perímetro si el triángulo es rectángulo o su área, en otro caso."
      ],
      "metadata": {
        "id": "L4WpnLfnx25c"
      }
    },
    {
      "cell_type": "code",
      "source": [
        "from math import *\n",
        "\n",
        "def triangulo(a, b, c):\n",
        "  if a**2+b**2==c**2 or b**2+c**2==a**2 or c**2+a**2==b**2:\n",
        "    x = a + b + c\n",
        "    return 'El triangulo es un triangulo rectangulo y su perimetro es:', x\n",
        "  else:\n",
        "    s = (a+b+c)/2\n",
        "    A = round(sqrt(s*(s-a)*(s-b)*(s-c)), 4)\n",
        "    return 'El triangulo no es un triangulo rectanculo y su área es: ', A\n",
        "\n",
        "\n",
        "a = int(input('Ingrese un valor real: '))\n",
        "b = int(input('Ingrese un valor real: '))\n",
        "c = int(input('Ingrese un valor real: '))\n",
        "if a+b>c and b+c>a and c+a>b:\n",
        "  respuesta = triangulo(a, b, c)\n",
        "  print(respuesta)\n"
      ],
      "metadata": {
        "colab": {
          "base_uri": "https://localhost:8080/"
        },
        "id": "O_vzzUHzx5yL",
        "outputId": "d329e74a-348b-4659-bc8a-91a5be2ce9eb"
      },
      "execution_count": null,
      "outputs": [
        {
          "output_type": "stream",
          "name": "stdout",
          "text": [
            "Ingrese un valor real: 3\n",
            "Ingrese un valor real: 4\n",
            "Ingrese un valor real: 5\n",
            "('El triangulo es un triangulo rectangulo y su perimetro es:', 12)\n"
          ]
        }
      ]
    },
    {
      "cell_type": "markdown",
      "source": [
        "2. Leer el nombre, el peso y la talla de una persona, calcular su índice de masa corporal.\n",
        "Determinar y escribir si está en estado de bajo peso, normal, sobrepreso, u obesidad."
      ],
      "metadata": {
        "id": "deruy1qA4k2u"
      }
    },
    {
      "cell_type": "code",
      "source": [
        "def IMB(n,p,t):\n",
        "  imb = round((p/t**2), 1)\n",
        "  print(imb)\n",
        "\n",
        "  if imb < 18.5:\n",
        "    return 'El paciente', n,  'esta bajo de peso'\n",
        "  elif 18.5 < imb < 24.9:\n",
        "    return 'El paciente', n,  'esta bien de peso'\n",
        "  elif 25 < imb < 29.9:\n",
        "    return 'El paciente', n,  'se encuentra en sobrepeso'\n",
        "  elif imb > 30:\n",
        "    return 'El tiene obesidad'\n",
        "\n",
        "nombre = str(input('Ingrese el niombre delpaciente: '))\n",
        "peso = int(input('Ingrese el peso del paciente: '))\n",
        "estatura = float(input('Ingrese la estatura del paciente en m: '))\n",
        "\n",
        "etd_paciente = IMB(nombre, peso, estatura)\n",
        "print(etd_paciente)"
      ],
      "metadata": {
        "colab": {
          "base_uri": "https://localhost:8080/"
        },
        "id": "pAcpY8gM4uwR",
        "outputId": "8a7fe8bc-d757-4f9c-9019-6c15d1c7f319"
      },
      "execution_count": null,
      "outputs": [
        {
          "output_type": "stream",
          "name": "stdout",
          "text": [
            "Ingrese el niombre delpaciente: nicolas\n",
            "Ingrese el peso del paciente: 64\n",
            "Ingrese la estatura del paciente en cm: 1.7\n",
            "22.1\n",
            "('El paciente', 'nicolas', 'esta bien de peso')\n"
          ]
        }
      ]
    },
    {
      "cell_type": "markdown",
      "source": [
        "3.  Leer 3 valores, escribirlos en orden ascendente."
      ],
      "metadata": {
        "id": "zdJnzbHL74ma"
      }
    },
    {
      "cell_type": "code",
      "source": [
        "a = int(input('Ingresein valor entero: '))\n",
        "b = int(input('Ingresein valor entero: '))\n",
        "c = int(input('Ingresein valor entero: '))\n",
        "\n",
        "lista = [a, b, c]\n",
        "print(lista)\n",
        "lista.sort()\n",
        "print(lista)"
      ],
      "metadata": {
        "colab": {
          "base_uri": "https://localhost:8080/"
        },
        "id": "tMKSwhJB7-Ix",
        "outputId": "ae78f32b-61e2-4cfc-e1d7-bd099481d56c"
      },
      "execution_count": null,
      "outputs": [
        {
          "output_type": "stream",
          "name": "stdout",
          "text": [
            "Ingresein valor real: 6\n",
            "Ingresein valor real: 5\n",
            "Ingresein valor real: 4\n",
            "[6, 5, 4]\n",
            "[4, 5, 6]\n"
          ]
        }
      ]
    },
    {
      "cell_type": "markdown",
      "source": [
        "4. Leer las coordenadas (x, y) de un punto en el plano cartesiano, determinar y escribir a qué\n",
        "cuadrante pertenece basado en el signo, de acuerdo con el gráfico siguiente\n",
        "\n",
        "![image.png](data:image/png;base64,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)"
      ],
      "metadata": {
        "id": "k4mPEr0k9A7-"
      }
    },
    {
      "cell_type": "code",
      "source": [
        "x = float(input('Ingrese un valor real: '))\n",
        "y = float(input('Ingrese un valor real: '))\n",
        "\n",
        "if x>0 and y>0:\n",
        "  print(f'Las coordenadas {x} y {y} pertenecen al primer cuadrante del plano')\n",
        "elif x<0 and y>0:\n",
        "  print(f'Las coordenadas {x} y {y} pertenecen al segundo cuadrante del plano')\n",
        "elif x<0 and y<0:\n",
        "  print(f'Las coordenadas {x} y {y} pertenecen al tercer cuadrante del plano')\n",
        "elif x>0 and y<0:\n",
        "  print(f'Las coordenadas {x} y {y} pertenecen al cuarto cuadrante de lplano')\n",
        "elif x==0 and y==0:\n",
        "  print(f'Las coordenadas {x} y {y} pertenecen al origen del plano')"
      ],
      "metadata": {
        "colab": {
          "base_uri": "https://localhost:8080/"
        },
        "id": "3oLrjHX79Png",
        "outputId": "6beac289-7bf0-4c12-9733-22fc5edbb1c4"
      },
      "execution_count": null,
      "outputs": [
        {
          "output_type": "stream",
          "name": "stdout",
          "text": [
            "Ingrese un valor real: -2\n",
            "Ingrese un valor real: -5\n",
            "Las coordenadas -2.0 y -5.0 pertenecen al tercer cuadrante del plano\n"
          ]
        }
      ]
    },
    {
      "cell_type": "markdown",
      "source": [
        "5. Diseñar un algoritmo que imprima las tablas de multiplicar hasta el 9."
      ],
      "metadata": {
        "id": "c5BfsY6C-0Nh"
      }
    },
    {
      "cell_type": "code",
      "source": [
        "def imprimir_tablas_multiplicar(n):\n",
        "    for i in range(1, n + 1):\n",
        "        print(f\"Tabla del {i}:\")\n",
        "        for j in range(1, 11):  # Vamos del 1 al 10 para cada tabla\n",
        "            print(f\"{i} x {j} = {i * j}\")\n",
        "        print()  # Imprime una línea en blanco para separar las tablas\n",
        "\n",
        "# Llamar a la función para imprimir las tablas del 1 al 9\n",
        "imprimir_tablas_multiplicar(9)"
      ],
      "metadata": {
        "colab": {
          "base_uri": "https://localhost:8080/"
        },
        "id": "mMla8-Pf-6XA",
        "outputId": "4899c036-289c-4105-ba0a-706ab2e96f71"
      },
      "execution_count": null,
      "outputs": [
        {
          "output_type": "stream",
          "name": "stdout",
          "text": [
            "Tabla del 1:\n",
            "1 x 0 = 0\n",
            "1 x 1 = 1\n",
            "1 x 2 = 2\n",
            "1 x 3 = 3\n",
            "1 x 4 = 4\n",
            "1 x 5 = 5\n",
            "1 x 6 = 6\n",
            "1 x 7 = 7\n",
            "1 x 8 = 8\n",
            "1 x 9 = 9\n",
            "1 x 10 = 10\n",
            "\n",
            "Tabla del 2:\n",
            "2 x 0 = 0\n",
            "2 x 1 = 2\n",
            "2 x 2 = 4\n",
            "2 x 3 = 6\n",
            "2 x 4 = 8\n",
            "2 x 5 = 10\n",
            "2 x 6 = 12\n",
            "2 x 7 = 14\n",
            "2 x 8 = 16\n",
            "2 x 9 = 18\n",
            "2 x 10 = 20\n",
            "\n",
            "Tabla del 3:\n",
            "3 x 0 = 0\n",
            "3 x 1 = 3\n",
            "3 x 2 = 6\n",
            "3 x 3 = 9\n",
            "3 x 4 = 12\n",
            "3 x 5 = 15\n",
            "3 x 6 = 18\n",
            "3 x 7 = 21\n",
            "3 x 8 = 24\n",
            "3 x 9 = 27\n",
            "3 x 10 = 30\n",
            "\n",
            "Tabla del 4:\n",
            "4 x 0 = 0\n",
            "4 x 1 = 4\n",
            "4 x 2 = 8\n",
            "4 x 3 = 12\n",
            "4 x 4 = 16\n",
            "4 x 5 = 20\n",
            "4 x 6 = 24\n",
            "4 x 7 = 28\n",
            "4 x 8 = 32\n",
            "4 x 9 = 36\n",
            "4 x 10 = 40\n",
            "\n",
            "Tabla del 5:\n",
            "5 x 0 = 0\n",
            "5 x 1 = 5\n",
            "5 x 2 = 10\n",
            "5 x 3 = 15\n",
            "5 x 4 = 20\n",
            "5 x 5 = 25\n",
            "5 x 6 = 30\n",
            "5 x 7 = 35\n",
            "5 x 8 = 40\n",
            "5 x 9 = 45\n",
            "5 x 10 = 50\n",
            "\n",
            "Tabla del 6:\n",
            "6 x 0 = 0\n",
            "6 x 1 = 6\n",
            "6 x 2 = 12\n",
            "6 x 3 = 18\n",
            "6 x 4 = 24\n",
            "6 x 5 = 30\n",
            "6 x 6 = 36\n",
            "6 x 7 = 42\n",
            "6 x 8 = 48\n",
            "6 x 9 = 54\n",
            "6 x 10 = 60\n",
            "\n",
            "Tabla del 7:\n",
            "7 x 0 = 0\n",
            "7 x 1 = 7\n",
            "7 x 2 = 14\n",
            "7 x 3 = 21\n",
            "7 x 4 = 28\n",
            "7 x 5 = 35\n",
            "7 x 6 = 42\n",
            "7 x 7 = 49\n",
            "7 x 8 = 56\n",
            "7 x 9 = 63\n",
            "7 x 10 = 70\n",
            "\n",
            "Tabla del 8:\n",
            "8 x 0 = 0\n",
            "8 x 1 = 8\n",
            "8 x 2 = 16\n",
            "8 x 3 = 24\n",
            "8 x 4 = 32\n",
            "8 x 5 = 40\n",
            "8 x 6 = 48\n",
            "8 x 7 = 56\n",
            "8 x 8 = 64\n",
            "8 x 9 = 72\n",
            "8 x 10 = 80\n",
            "\n",
            "Tabla del 9:\n",
            "9 x 0 = 0\n",
            "9 x 1 = 9\n",
            "9 x 2 = 18\n",
            "9 x 3 = 27\n",
            "9 x 4 = 36\n",
            "9 x 5 = 45\n",
            "9 x 6 = 54\n",
            "9 x 7 = 63\n",
            "9 x 8 = 72\n",
            "9 x 9 = 81\n",
            "9 x 10 = 90\n",
            "\n"
          ]
        }
      ]
    },
    {
      "cell_type": "markdown",
      "source": [
        "6. Leer un ángulo en grados determinar y escribir a qué cuadrante pertenece."
      ],
      "metadata": {
        "id": "3Nvx4ZDKBYug"
      }
    },
    {
      "cell_type": "code",
      "source": [
        "alpha = float(input('ingrese el valor de aun ángulo de 0° hasta 360°: '))\n",
        "\n",
        "if 0<=alpha<=90:\n",
        "  print(f'El angulo {alpha} pertenece al primer cuadrante .')\n",
        "elif 90<=alpha<=180:\n",
        "  print(f'El angulo {alpha} pertenece al segundo cuadrante .')\n",
        "elif 180<=alpha<=270:\n",
        "  print(f'El angulo {alpha} pertenece al tercer cuadrante .')\n",
        "elif 270<=alpha<=360:\n",
        "  print(f'El angulo {alpha} pertenece al cuarto cuadrante .')\n",
        "else:\n",
        "  print(f'El angulo {alpha} se sale del rango puesto al inicio')"
      ],
      "metadata": {
        "colab": {
          "base_uri": "https://localhost:8080/"
        },
        "id": "DdKCGCK1BlT_",
        "outputId": "92e99845-5cac-4dce-f117-d55c82d50d55"
      },
      "execution_count": null,
      "outputs": [
        {
          "output_type": "stream",
          "name": "stdout",
          "text": [
            "ingrese el valor de aun ángulo de 0° hasta 360°: 285\n",
            "El angulo 285.0 pertenece al cuarto cuadrante .\n"
          ]
        }
      ]
    },
    {
      "cell_type": "markdown",
      "source": [
        "7. Leer el consumo en metros cúbicos de agua de una familia, calcular y escribir el valor de\n",
        "su factura, teniendo en cuenta lo siguiente: los primeros 20 metros cúbicos se cobran 2000, los siguientes 6 a 2500, y los restantes a $4.000. Así, por ejemplo, una familia que\n",
        "consuma 35 m3 pagaría 20 en la primera tarifa, 6 en la segunda y el resto (9) en la última\n",
        "tarifa"
      ],
      "metadata": {
        "id": "tt4ihPqNTA6r"
      }
    },
    {
      "cell_type": "code",
      "source": [
        "def TF(x):\n",
        "  if x <= 20:\n",
        "    precio = x*2000\n",
        "    return precio\n",
        "\n",
        "  elif 20 > x <= 26:\n",
        "    precio = 20*2000 + (x-20)*2500\n",
        "    return precio\n",
        "\n",
        "  else:\n",
        "    precio = 20*2000 + 6*2500 + (x-26)*4000\n",
        "    return precio\n",
        "\n",
        "consumo = int(input(f'Ingrese el consumo de agua de una familia en m3: '))\n",
        "tarifa = TF(consumo)\n",
        "print(tarifa)"
      ],
      "metadata": {
        "colab": {
          "base_uri": "https://localhost:8080/"
        },
        "id": "QskRrkL-U6kc",
        "outputId": "cc60f107-9a41-4534-d187-ca6d3bf1fde5"
      },
      "execution_count": 5,
      "outputs": [
        {
          "output_type": "stream",
          "name": "stdout",
          "text": [
            "Ingrese el consumo de agua de una familia en m3: 35\n",
            "91000\n"
          ]
        }
      ]
    },
    {
      "cell_type": "markdown",
      "source": [
        "8. Diseñar un programa que lea 20 valores y determine y escriba cuál fue el mayor valor\n",
        "leído."
      ],
      "metadata": {
        "id": "lAUWllvvaAzA"
      }
    },
    {
      "cell_type": "code",
      "source": [
        "n = 0\n",
        "lista = []\n",
        "\n",
        "while n < 20:\n",
        "  n += 1\n",
        "  x = float(input('Ingrese un valor numerico flotante o entero: '))\n",
        "  lista.append(x)\n",
        "\n",
        "Valor_Maximo = max(lista)\n",
        "\n",
        "print('El valor máximo de los valores ingresados es: 'Valor_Maximo)"
      ],
      "metadata": {
        "colab": {
          "base_uri": "https://localhost:8080/"
        },
        "id": "nTYX5jyraGRa",
        "outputId": "e4e49872-a65e-4c55-97d6-9d5df0a7937e"
      },
      "execution_count": 8,
      "outputs": [
        {
          "output_type": "stream",
          "name": "stdout",
          "text": [
            "Ingrese un valor numerico flotante o entero: 0\n",
            "Ingrese un valor numerico flotante o entero: 2\n",
            "Ingrese un valor numerico flotante o entero: 4\n",
            "Ingrese un valor numerico flotante o entero: 6\n",
            "Ingrese un valor numerico flotante o entero: 8\n",
            "Ingrese un valor numerico flotante o entero: 10\n",
            "Ingrese un valor numerico flotante o entero: 12\n",
            "Ingrese un valor numerico flotante o entero: 14\n",
            "Ingrese un valor numerico flotante o entero: 16\n",
            "Ingrese un valor numerico flotante o entero: 18\n",
            "Ingrese un valor numerico flotante o entero: 20\n",
            "Ingrese un valor numerico flotante o entero: 22\n",
            "Ingrese un valor numerico flotante o entero: 24\n",
            "Ingrese un valor numerico flotante o entero: 26\n",
            "Ingrese un valor numerico flotante o entero: 28\n",
            "Ingrese un valor numerico flotante o entero: 30\n",
            "Ingrese un valor numerico flotante o entero: 32\n",
            "Ingrese un valor numerico flotante o entero: 34\n",
            "Ingrese un valor numerico flotante o entero: 36\n",
            "Ingrese un valor numerico flotante o entero: 38\n",
            "38.0\n"
          ]
        }
      ]
    },
    {
      "cell_type": "markdown",
      "source": [
        "9. Calcular y escribir el valor de pi, dado por la serie:\n",
        "4(1-1/3+1/5-1/7+1/9-1/11+ …)"
      ],
      "metadata": {
        "id": "z4Q9g9ABcRNY"
      }
    },
    {
      "cell_type": "code",
      "source": [
        "def calcular_pi(num_terminos):\n",
        "    suma = 0.0\n",
        "    for i in range(num_terminos):\n",
        "        termino = (-1) ** i / (2 * i + 1)\n",
        "        suma += termino\n",
        "    pi = 4 * suma\n",
        "    return pi\n",
        "\n",
        "def main():\n",
        "    # Definir el número de términos en la serie\n",
        "    num_terminos = int(input(\"Introduce el número de términos para calcular π: \"))\n",
        "\n",
        "    # Calcular π\n",
        "    pi_estimado = calcular_pi(num_terminos)\n",
        "\n",
        "    # Mostrar el resultado\n",
        "    print(f\"La estimación de π con {num_terminos} términos es: {pi_estimado}\")\n",
        "\n",
        "if __name__ == \"__main__\":\n",
        "    main()\n",
        ""
      ],
      "metadata": {
        "id": "k34Qe1P_h9BP"
      },
      "execution_count": null,
      "outputs": []
    },
    {
      "cell_type": "markdown",
      "source": [
        "10. Diseñar un algoritmo que convierta una temperatura dada en una escala a temperatura en\n",
        "otra escala que se pida.\\\n",
        "La relación entre las diferentes escalas de temperaturas está dada por la siguiente relación:\\\n",
        "C/5 = R/4 = (F - 32) / 9 \\\n",
        "Siendo C=Celsius, R= Reamur, F=Fahrenhei"
      ],
      "metadata": {
        "id": "V_LYqMZrljds"
      }
    },
    {
      "cell_type": "code",
      "source": [
        "def Cambio_Escala(t, x, y):\n",
        "\n",
        "\n",
        "T = float(input('Ingrese el valor de la temperatura: '))\n",
        "origen = input('Ingrese la escala de temperatura en la que se encuentra el valor anterior (C, F, R): ')\n",
        "destino = input('Ingrese la escala de tempratura a la cual quiere llevar la temperatura (C, F, R): ')\n",
        "\n",
        "cambio_esc = Cambio_Escala(T, origen, destino)"
      ],
      "metadata": {
        "id": "GnBBW2RGl31K"
      },
      "execution_count": null,
      "outputs": []
    }
  ]
}