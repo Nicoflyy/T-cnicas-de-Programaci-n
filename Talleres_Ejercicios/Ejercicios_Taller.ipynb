{
  "nbformat": 4,
  "nbformat_minor": 0,
  "metadata": {
    "colab": {
      "provenance": [],
      "authorship_tag": "ABX9TyOuS5fpTFs1qC8eMvQ+PMi7",
      "include_colab_link": true
    },
    "kernelspec": {
      "name": "python3",
      "display_name": "Python 3"
    },
    "language_info": {
      "name": "python"
    }
  },
  "cells": [
    {
      "cell_type": "markdown",
      "metadata": {
        "id": "view-in-github",
        "colab_type": "text"
      },
      "source": [
        "<a href=\"https://colab.research.google.com/github/Nicoflyy/T-cnicas-de-Programaci-n/blob/main/Talleres_Ejercicios/Ejercicios_Taller.ipynb\" target=\"_parent\"><img src=\"https://colab.research.google.com/assets/colab-badge.svg\" alt=\"Open In Colab\"/></a>"
      ]
    },
    {
      "cell_type": "markdown",
      "source": [
        " 1. Leer tres valores, determinar si corresponden a los lados de un triángulo. Si es así, calcular\n",
        "y escribir el perímetro si el triángulo es rectángulo o su área, en otro caso."
      ],
      "metadata": {
        "id": "L4WpnLfnx25c"
      }
    },
    {
      "cell_type": "code",
      "source": [
        "from math import *\n",
        "\n",
        "def triangulo(a, b, c):\n",
        "  if a**2+b**2==c**2 or b**2+c**2==a**2 or c**2+a**2==b**2:\n",
        "    x = a + b + c\n",
        "    return 'El triangulo es un triangulo rectangulo y su perimetro es:', x\n",
        "  else:\n",
        "    s = (a+b+c)/2\n",
        "    A = round(sqrt(s*(s-a)*(s-b)*(s-c)), 4)\n",
        "    return 'El triangulo no es un triangulo rectanculo y su área es: ', A\n",
        "\n",
        "\n",
        "a = int(input('Ingrese un valor real: '))\n",
        "b = int(input('Ingrese un valor real: '))\n",
        "c = int(input('Ingrese un valor real: '))\n",
        "if a+b>c and b+c>a and c+a>b:\n",
        "  respuesta = triangulo(a, b, c)\n",
        "  print(respuesta)\n"
      ],
      "metadata": {
        "colab": {
          "base_uri": "https://localhost:8080/"
        },
        "id": "O_vzzUHzx5yL",
        "outputId": "d329e74a-348b-4659-bc8a-91a5be2ce9eb"
      },
      "execution_count": null,
      "outputs": [
        {
          "output_type": "stream",
          "name": "stdout",
          "text": [
            "Ingrese un valor real: 3\n",
            "Ingrese un valor real: 4\n",
            "Ingrese un valor real: 5\n",
            "('El triangulo es un triangulo rectangulo y su perimetro es:', 12)\n"
          ]
        }
      ]
    },
    {
      "cell_type": "markdown",
      "source": [
        "2. Leer el nombre, el peso y la talla de una persona, calcular su índice de masa corporal.\n",
        "Determinar y escribir si está en estado de bajo peso, normal, sobrepreso, u obesidad."
      ],
      "metadata": {
        "id": "deruy1qA4k2u"
      }
    },
    {
      "cell_type": "code",
      "source": [
        "def IMB(n,p,t):\n",
        "  imb = round((p/t**2), 1)\n",
        "  print(imb)\n",
        "\n",
        "  if imb < 18.5:\n",
        "    return 'El paciente', n,  'esta bajo de peso'\n",
        "  elif 18.5 < imb < 24.9:\n",
        "    return 'El paciente', n,  'esta bien de peso'\n",
        "  elif 25 < imb < 29.9:\n",
        "    return 'El paciente', n,  'se encuentra en sobrepeso'\n",
        "  elif imb > 30:\n",
        "    return 'El tiene obesidad'\n",
        "\n",
        "nombre = str(input('Ingrese el niombre delpaciente: '))\n",
        "peso = int(input('Ingrese el peso del paciente: '))\n",
        "estatura = float(input('Ingrese la estatura del paciente en m: '))\n",
        "\n",
        "etd_paciente = IMB(nombre, peso, estatura)\n",
        "print(etd_paciente)"
      ],
      "metadata": {
        "colab": {
          "base_uri": "https://localhost:8080/"
        },
        "id": "pAcpY8gM4uwR",
        "outputId": "8a7fe8bc-d757-4f9c-9019-6c15d1c7f319"
      },
      "execution_count": null,
      "outputs": [
        {
          "output_type": "stream",
          "name": "stdout",
          "text": [
            "Ingrese el niombre delpaciente: nicolas\n",
            "Ingrese el peso del paciente: 64\n",
            "Ingrese la estatura del paciente en cm: 1.7\n",
            "22.1\n",
            "('El paciente', 'nicolas', 'esta bien de peso')\n"
          ]
        }
      ]
    },
    {
      "cell_type": "markdown",
      "source": [
        "3.  Leer 3 valores, escribirlos en orden ascendente."
      ],
      "metadata": {
        "id": "zdJnzbHL74ma"
      }
    },
    {
      "cell_type": "code",
      "source": [
        "a = int(input('Ingresein valor entero: '))\n",
        "b = int(input('Ingresein valor entero: '))\n",
        "c = int(input('Ingresein valor entero: '))\n",
        "\n",
        "lista = [a, b, c]\n",
        "print(lista)\n",
        "lista.sort()\n",
        "print(lista)"
      ],
      "metadata": {
        "colab": {
          "base_uri": "https://localhost:8080/"
        },
        "id": "tMKSwhJB7-Ix",
        "outputId": "ae78f32b-61e2-4cfc-e1d7-bd099481d56c"
      },
      "execution_count": null,
      "outputs": [
        {
          "output_type": "stream",
          "name": "stdout",
          "text": [
            "Ingresein valor real: 6\n",
            "Ingresein valor real: 5\n",
            "Ingresein valor real: 4\n",
            "[6, 5, 4]\n",
            "[4, 5, 6]\n"
          ]
        }
      ]
    },
    {
      "cell_type": "markdown",
      "source": [
        "4. Leer las coordenadas (x, y) de un punto en el plano cartesiano, determinar y escribir a qué\n",
        "cuadrante pertenece basado en el signo, de acuerdo con el gráfico siguiente\n",
        "\n",
        "![image.png](data:image/png;base64,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)"
      ],
      "metadata": {
        "id": "k4mPEr0k9A7-"
      }
    },
    {
      "cell_type": "code",
      "source": [
        "x = float(input('Ingrese un valor real: '))\n",
        "y = float(input('Ingrese un valor real: '))\n",
        "\n",
        "if x>0 and y>0:\n",
        "  print(f'Las coordenadas {x} y {y} pertenecen al primer cuadrante del plano')\n",
        "elif x<0 and y>0:\n",
        "  print(f'Las coordenadas {x} y {y} pertenecen al segundo cuadrante del plano')\n",
        "elif x<0 and y<0:\n",
        "  print(f'Las coordenadas {x} y {y} pertenecen al tercer cuadrante del plano')\n",
        "elif x>0 and y<0:\n",
        "  print(f'Las coordenadas {x} y {y} pertenecen al cuarto cuadrante de lplano')\n",
        "elif x==0 and y==0:\n",
        "  print(f'Las coordenadas {x} y {y} pertenecen al origen del plano')"
      ],
      "metadata": {
        "colab": {
          "base_uri": "https://localhost:8080/"
        },
        "id": "3oLrjHX79Png",
        "outputId": "6beac289-7bf0-4c12-9733-22fc5edbb1c4"
      },
      "execution_count": null,
      "outputs": [
        {
          "output_type": "stream",
          "name": "stdout",
          "text": [
            "Ingrese un valor real: -2\n",
            "Ingrese un valor real: -5\n",
            "Las coordenadas -2.0 y -5.0 pertenecen al tercer cuadrante del plano\n"
          ]
        }
      ]
    },
    {
      "cell_type": "markdown",
      "source": [
        "5. Diseñar un algoritmo que imprima las tablas de multiplicar hasta el 9."
      ],
      "metadata": {
        "id": "c5BfsY6C-0Nh"
      }
    },
    {
      "cell_type": "code",
      "source": [
        "def imprimir_tablas_multiplicar(n):\n",
        "    for i in range(1, n + 1):\n",
        "        print(f\"Tabla del {i}:\")\n",
        "        for j in range(1, 11):  # Vamos del 1 al 10 para cada tabla\n",
        "            print(f\"{i} x {j} = {i * j}\")\n",
        "        print()  # Imprime una línea en blanco para separar las tablas\n",
        "\n",
        "# Llamar a la función para imprimir las tablas del 1 al 9\n",
        "imprimir_tablas_multiplicar(9)"
      ],
      "metadata": {
        "colab": {
          "base_uri": "https://localhost:8080/"
        },
        "id": "mMla8-Pf-6XA",
        "outputId": "4899c036-289c-4105-ba0a-706ab2e96f71"
      },
      "execution_count": null,
      "outputs": [
        {
          "output_type": "stream",
          "name": "stdout",
          "text": [
            "Tabla del 1:\n",
            "1 x 0 = 0\n",
            "1 x 1 = 1\n",
            "1 x 2 = 2\n",
            "1 x 3 = 3\n",
            "1 x 4 = 4\n",
            "1 x 5 = 5\n",
            "1 x 6 = 6\n",
            "1 x 7 = 7\n",
            "1 x 8 = 8\n",
            "1 x 9 = 9\n",
            "1 x 10 = 10\n",
            "\n",
            "Tabla del 2:\n",
            "2 x 0 = 0\n",
            "2 x 1 = 2\n",
            "2 x 2 = 4\n",
            "2 x 3 = 6\n",
            "2 x 4 = 8\n",
            "2 x 5 = 10\n",
            "2 x 6 = 12\n",
            "2 x 7 = 14\n",
            "2 x 8 = 16\n",
            "2 x 9 = 18\n",
            "2 x 10 = 20\n",
            "\n",
            "Tabla del 3:\n",
            "3 x 0 = 0\n",
            "3 x 1 = 3\n",
            "3 x 2 = 6\n",
            "3 x 3 = 9\n",
            "3 x 4 = 12\n",
            "3 x 5 = 15\n",
            "3 x 6 = 18\n",
            "3 x 7 = 21\n",
            "3 x 8 = 24\n",
            "3 x 9 = 27\n",
            "3 x 10 = 30\n",
            "\n",
            "Tabla del 4:\n",
            "4 x 0 = 0\n",
            "4 x 1 = 4\n",
            "4 x 2 = 8\n",
            "4 x 3 = 12\n",
            "4 x 4 = 16\n",
            "4 x 5 = 20\n",
            "4 x 6 = 24\n",
            "4 x 7 = 28\n",
            "4 x 8 = 32\n",
            "4 x 9 = 36\n",
            "4 x 10 = 40\n",
            "\n",
            "Tabla del 5:\n",
            "5 x 0 = 0\n",
            "5 x 1 = 5\n",
            "5 x 2 = 10\n",
            "5 x 3 = 15\n",
            "5 x 4 = 20\n",
            "5 x 5 = 25\n",
            "5 x 6 = 30\n",
            "5 x 7 = 35\n",
            "5 x 8 = 40\n",
            "5 x 9 = 45\n",
            "5 x 10 = 50\n",
            "\n",
            "Tabla del 6:\n",
            "6 x 0 = 0\n",
            "6 x 1 = 6\n",
            "6 x 2 = 12\n",
            "6 x 3 = 18\n",
            "6 x 4 = 24\n",
            "6 x 5 = 30\n",
            "6 x 6 = 36\n",
            "6 x 7 = 42\n",
            "6 x 8 = 48\n",
            "6 x 9 = 54\n",
            "6 x 10 = 60\n",
            "\n",
            "Tabla del 7:\n",
            "7 x 0 = 0\n",
            "7 x 1 = 7\n",
            "7 x 2 = 14\n",
            "7 x 3 = 21\n",
            "7 x 4 = 28\n",
            "7 x 5 = 35\n",
            "7 x 6 = 42\n",
            "7 x 7 = 49\n",
            "7 x 8 = 56\n",
            "7 x 9 = 63\n",
            "7 x 10 = 70\n",
            "\n",
            "Tabla del 8:\n",
            "8 x 0 = 0\n",
            "8 x 1 = 8\n",
            "8 x 2 = 16\n",
            "8 x 3 = 24\n",
            "8 x 4 = 32\n",
            "8 x 5 = 40\n",
            "8 x 6 = 48\n",
            "8 x 7 = 56\n",
            "8 x 8 = 64\n",
            "8 x 9 = 72\n",
            "8 x 10 = 80\n",
            "\n",
            "Tabla del 9:\n",
            "9 x 0 = 0\n",
            "9 x 1 = 9\n",
            "9 x 2 = 18\n",
            "9 x 3 = 27\n",
            "9 x 4 = 36\n",
            "9 x 5 = 45\n",
            "9 x 6 = 54\n",
            "9 x 7 = 63\n",
            "9 x 8 = 72\n",
            "9 x 9 = 81\n",
            "9 x 10 = 90\n",
            "\n"
          ]
        }
      ]
    },
    {
      "cell_type": "markdown",
      "source": [
        "6. Leer un ángulo en grados determinar y escribir a qué cuadrante pertenece."
      ],
      "metadata": {
        "id": "3Nvx4ZDKBYug"
      }
    },
    {
      "cell_type": "code",
      "source": [
        "alpha = float(input('ingrese el valor de aun ángulo de 0° hasta 360°: '))\n",
        "\n",
        "if 0<=alpha<=90:\n",
        "  print(f'El angulo {alpha} pertenece al primer cuadrante .')\n",
        "elif 90<=alpha<=180:\n",
        "  print(f'El angulo {alpha} pertenece al segundo cuadrante .')\n",
        "elif 180<=alpha<=270:\n",
        "  print(f'El angulo {alpha} pertenece al tercer cuadrante .')\n",
        "elif 270<=alpha<=360:\n",
        "  print(f'El angulo {alpha} pertenece al cuarto cuadrante .')\n",
        "else:\n",
        "  print(f'El angulo {alpha} se sale del rango puesto al inicio')"
      ],
      "metadata": {
        "colab": {
          "base_uri": "https://localhost:8080/"
        },
        "id": "DdKCGCK1BlT_",
        "outputId": "92e99845-5cac-4dce-f117-d55c82d50d55"
      },
      "execution_count": null,
      "outputs": [
        {
          "output_type": "stream",
          "name": "stdout",
          "text": [
            "ingrese el valor de aun ángulo de 0° hasta 360°: 285\n",
            "El angulo 285.0 pertenece al cuarto cuadrante .\n"
          ]
        }
      ]
    },
    {
      "cell_type": "markdown",
      "source": [
        "7. Leer el consumo en metros cúbicos de agua de una familia, calcular y escribir el valor de\n",
        "su factura, teniendo en cuenta lo siguiente: los primeros 20 metros cúbicos se cobran 2000, los siguientes 6 a 2500, y los restantes a $4.000. Así, por ejemplo, una familia que\n",
        "consuma 35 m3 pagaría 20 en la primera tarifa, 6 en la segunda y el resto (9) en la última\n",
        "tarifa"
      ],
      "metadata": {
        "id": "tt4ihPqNTA6r"
      }
    },
    {
      "cell_type": "code",
      "source": [
        "def TF(x):\n",
        "  if x <= 20:\n",
        "    precio = x*2000\n",
        "    return precio\n",
        "\n",
        "  elif 20 > x <= 26:\n",
        "    precio = 20*2000 + (x-20)*2500\n",
        "    return precio\n",
        "\n",
        "  else:\n",
        "    precio = 20*2000 + 6*2500 + (x-26)*4000\n",
        "    return precio\n",
        "\n",
        "consumo = int(input(f'Ingrese el consumo de agua de una familia en m3: '))\n",
        "tarifa = TF(consumo)\n",
        "print(tarifa)"
      ],
      "metadata": {
        "colab": {
          "base_uri": "https://localhost:8080/"
        },
        "id": "QskRrkL-U6kc",
        "outputId": "cc60f107-9a41-4534-d187-ca6d3bf1fde5"
      },
      "execution_count": null,
      "outputs": [
        {
          "output_type": "stream",
          "name": "stdout",
          "text": [
            "Ingrese el consumo de agua de una familia en m3: 35\n",
            "91000\n"
          ]
        }
      ]
    },
    {
      "cell_type": "markdown",
      "source": [
        "8. Diseñar un programa que lea 20 valores y determine y escriba cuál fue el mayor valor\n",
        "leído."
      ],
      "metadata": {
        "id": "lAUWllvvaAzA"
      }
    },
    {
      "cell_type": "code",
      "source": [
        "n = 0\n",
        "lista = []\n",
        "\n",
        "while n < 20:\n",
        "  n += 1\n",
        "  x = float(input('Ingrese un valor numerico flotante o entero: '))\n",
        "  lista.append(x)\n",
        "\n",
        "Valor_Maximo = max(lista)\n",
        "\n",
        "print('El valor máximo de los valores ingresados es: 'Valor_Maximo)"
      ],
      "metadata": {
        "colab": {
          "base_uri": "https://localhost:8080/"
        },
        "id": "nTYX5jyraGRa",
        "outputId": "e4e49872-a65e-4c55-97d6-9d5df0a7937e"
      },
      "execution_count": null,
      "outputs": [
        {
          "output_type": "stream",
          "name": "stdout",
          "text": [
            "Ingrese un valor numerico flotante o entero: 0\n",
            "Ingrese un valor numerico flotante o entero: 2\n",
            "Ingrese un valor numerico flotante o entero: 4\n",
            "Ingrese un valor numerico flotante o entero: 6\n",
            "Ingrese un valor numerico flotante o entero: 8\n",
            "Ingrese un valor numerico flotante o entero: 10\n",
            "Ingrese un valor numerico flotante o entero: 12\n",
            "Ingrese un valor numerico flotante o entero: 14\n",
            "Ingrese un valor numerico flotante o entero: 16\n",
            "Ingrese un valor numerico flotante o entero: 18\n",
            "Ingrese un valor numerico flotante o entero: 20\n",
            "Ingrese un valor numerico flotante o entero: 22\n",
            "Ingrese un valor numerico flotante o entero: 24\n",
            "Ingrese un valor numerico flotante o entero: 26\n",
            "Ingrese un valor numerico flotante o entero: 28\n",
            "Ingrese un valor numerico flotante o entero: 30\n",
            "Ingrese un valor numerico flotante o entero: 32\n",
            "Ingrese un valor numerico flotante o entero: 34\n",
            "Ingrese un valor numerico flotante o entero: 36\n",
            "Ingrese un valor numerico flotante o entero: 38\n",
            "38.0\n"
          ]
        }
      ]
    },
    {
      "cell_type": "markdown",
      "source": [
        "9. Calcular y escribir el valor de pi, dado por la serie:\n",
        "4(1-1/3+1/5-1/7+1/9-1/11+ …)"
      ],
      "metadata": {
        "id": "z4Q9g9ABcRNY"
      }
    },
    {
      "cell_type": "code",
      "source": [
        "def calcular_pi(num_terminos):\n",
        "    suma = 0.0\n",
        "    for i in range(num_terminos):\n",
        "        termino = (-1) ** i / (2 * i + 1)\n",
        "        suma += termino\n",
        "    pi = 4 * suma\n",
        "    return pi\n",
        "\n",
        "def main():\n",
        "    # Definir el número de términos en la serie\n",
        "    num_terminos = int(input(\"Introduce el número de términos para calcular π: \"))\n",
        "\n",
        "    # Calcular π\n",
        "    pi_estimado = calcular_pi(num_terminos)\n",
        "\n",
        "    # Mostrar el resultado\n",
        "    print(f\"La estimación de π con {num_terminos} términos es: {pi_estimado}\")\n",
        "\n",
        "if __name__ == \"__main__\":\n",
        "    main()\n"
      ],
      "metadata": {
        "id": "k34Qe1P_h9BP"
      },
      "execution_count": null,
      "outputs": []
    },
    {
      "cell_type": "markdown",
      "source": [
        "10. Diseñar un algoritmo que convierta una temperatura dada en una escala a temperatura en\n",
        "otra escala que se pida.\\\n",
        "La relación entre las diferentes escalas de temperaturas está dada por la siguiente relación:\\\n",
        "C/5 = R/4 = (F - 32) / 9 \\\n",
        "Siendo C=Celsius, R= Reamur, F=Fahrenhei"
      ],
      "metadata": {
        "id": "V_LYqMZrljds"
      }
    },
    {
      "cell_type": "code",
      "source": [
        "def Cambio_Escala(t, x, y):\n",
        "  if x == 'C' and y == 'F':\n",
        "    conv = ((9*t)/5)+32\n",
        "    return conv\n",
        "  elif x == 'C' and y == 'R':\n",
        "    conv = (4*t)/5\n",
        "    return conv\n",
        "  elif x == 'F' and y == 'C':\n",
        "    conv = (5*t-32)/9\n",
        "    return conv\n",
        "  elif x == 'F' and y == 'R':\n",
        "    conv = (4*t-32)/9\n",
        "    return conv\n",
        "  elif x == 'R' and y == 'C':\n",
        "    conv = (5*t)/4\n",
        "    return conv\n",
        "  elif x == 'R' and y == 'F':\n",
        "    conv = ((9*t)/9)+32\n",
        "    return conv\n",
        "\n",
        "T = float(input('Ingrese el valor de la temperatura: '))\n",
        "origen = str(input('Ingrese la escala de temperatura en la que se encuentra el valor anterior (C, F, R): '))\n",
        "o_may = origen.upper()    #Se utiliza el comando ¨.upper¨ para cambiar las variables minusculas a mayuscaulas.\n",
        "destino = str(input('Ingrese la escala de tempratura a la cual quiere llevar la temperatura (C, F, R): '))\n",
        "d_may = destino.upper()\n",
        "\n",
        "cambio_esc = Cambio_Escala(T, o_may, d_may)\n",
        "print(f'La temperatura de {T} en {origen} a {destino} es {cambio_esc} ')"
      ],
      "metadata": {
        "id": "GnBBW2RGl31K",
        "outputId": "220a2754-2c34-4311-d273-afe5d7b5cd2a",
        "colab": {
          "base_uri": "https://localhost:8080/"
        }
      },
      "execution_count": null,
      "outputs": [
        {
          "output_type": "stream",
          "name": "stdout",
          "text": [
            "Ingrese el valor de la temperatura: 45\n",
            "Ingrese la escala de temperatura en la que se encuentra el valor anterior (C, F, R): C\n",
            "Ingrese la escala de tempratura a la cual quiere llevar la temperatura (C, F, R): F\n",
            "La temperatura de 45.0 en C a F es 113.0 \n"
          ]
        }
      ]
    },
    {
      "cell_type": "markdown",
      "source": [
        "11. Leer una base real y un exponente entero, implementar y escribir su potencia con sólo\n",
        "multiplicaciones y sumas."
      ],
      "metadata": {
        "id": "StOpzNlWoIOt"
      }
    },
    {
      "cell_type": "code",
      "source": [
        "b_real = float(input('Ingrese una base real: '))\n",
        "e_entero = int(input('Ingrese un exponente entero: '))"
      ],
      "metadata": {
        "id": "4RaJ6uKFoPQe"
      },
      "execution_count": null,
      "outputs": []
    },
    {
      "cell_type": "markdown",
      "source": [
        "12. Leer dos números enteros, calcular y escribir su producto, usando sólo sumas y/o restas"
      ],
      "metadata": {
        "id": "7bD5EviU4XrH"
      }
    },
    {
      "cell_type": "code",
      "source": [
        "def multiplicar(a, b):\n",
        "  cont = 1\n",
        "  val = a\n",
        "  while cont < b:\n",
        "    a += val\n",
        "    cont +=1\n",
        "  return a\n",
        "\n",
        "\n",
        "x = int(input('Ingrese un valor entero: '))\n",
        "y = int(input('Ingrese un valor entero: '))\n",
        "\n",
        "\n",
        "res = multiplicar(x, y)\n",
        "print(f'La multiplicación entre {x} y {y} es: {res}')"
      ],
      "metadata": {
        "id": "T4WwivyX4lj4",
        "outputId": "71f3c864-7306-45d8-ef1f-37522fe256a0",
        "colab": {
          "base_uri": "https://localhost:8080/"
        }
      },
      "execution_count": null,
      "outputs": [
        {
          "output_type": "stream",
          "name": "stdout",
          "text": [
            "Ingrese un valor entero: 6\n",
            "Ingrese un valor entero: 5\n",
            "La multiplicación entre 6 y 5 es: 30\n"
          ]
        }
      ]
    },
    {
      "cell_type": "markdown",
      "source": [
        "13. Diseñar un algoritmo que encuentre el entero positivo más pequeño (num) para el cual la\n",
        "suma 1 + 2 + 3 + .... + num es mayor que un límite dado (lim)."
      ],
      "metadata": {
        "id": "U99jsnSE9InV"
      }
    },
    {
      "cell_type": "code",
      "source": [
        "def sumatoria(n):\n",
        "  num = 1\n",
        "  suma = 1\n",
        "  while suma <= n:\n",
        "    num += 1\n",
        "    suma += num\n",
        "  return (num)\n",
        "\n",
        "limite = int(input('Ingrese el limite de la sumatoria: '))\n",
        "\n",
        "res = sumatoria(limite)\n",
        "\n",
        "print(f\"El entero positivo más pequeño para el cual la suma es mayor que {limite} es {res}.\")"
      ],
      "metadata": {
        "id": "G5GFxNrG9Ni3",
        "outputId": "949161aa-a4da-4911-8716-8ef2e5026d5c",
        "colab": {
          "base_uri": "https://localhost:8080/"
        }
      },
      "execution_count": null,
      "outputs": [
        {
          "output_type": "stream",
          "name": "stdout",
          "text": [
            "Ingrese el limite de la sumatoria: 15\n",
            "El entero positivo más pequeño para el cual la suma es mayor que 15 es 6.\n"
          ]
        }
      ]
    },
    {
      "cell_type": "markdown",
      "source": [
        "14. Diseñar un algoritmo que lea un valor correspondiente a un mes y valide si es correcto,\n",
        "de lo contrario se debe escribir que es incorrecto y se debe volver a leer hasta que se entre\n",
        "bien. Cuando se haya leído bien el mes, se debe escribir el nombre del mes."
      ],
      "metadata": {
        "id": "RiJsVJpH34nv"
      }
    },
    {
      "cell_type": "code",
      "source": [
        "def Buscar_mes():\n",
        "  dic = {1: 'Enero', 2: 'Febrer0', 3: 'Marzo', 4: 'Abril', 5: 'Mayo', 6: 'Junio', 7: 'Julio', 8: 'Agosto', 9: 'Septiembre', 10: 'Octubre',\n",
        "         11: 'Nobiembre', 12: 'Diciembre'}\n",
        "\n",
        "  condicion = True\n",
        "  while condicion:\n",
        "    x = int(input('Ingrese el mes que desea buscar: '))\n",
        "    if 1 <= x <= 12:\n",
        "      Valor_encontrado = None\n",
        "      for clave, valor in dic.items():\n",
        "        if clave == x:\n",
        "          Valor_encontrado = valor\n",
        "          return f'El valor {x} pertenece al mes de {valor}'\n",
        "          break\n",
        "    else:\n",
        "      print('el valor de mes es erroneo por favor ingrese un valor que si pertezca a los mese del')\n",
        "      condicion = True\n",
        "\n",
        "res = Buscar_mes()\n",
        "print(res)"
      ],
      "metadata": {
        "id": "iXONu0ab4Cgu",
        "outputId": "3b4abb52-1d4e-4055-cfb7-fabeef7fcf71",
        "colab": {
          "base_uri": "https://localhost:8080/"
        }
      },
      "execution_count": 17,
      "outputs": [
        {
          "output_type": "stream",
          "name": "stdout",
          "text": [
            "Ingrese el mes que desea buscar: 15\n",
            "el valor de mes es erroneo por favor ingrese un valor que si pertezca a los mese del\n",
            "Ingrese el mes que desea buscar: 18\n",
            "el valor de mes es erroneo por favor ingrese un valor que si pertezca a los mese del\n",
            "Ingrese el mes que desea buscar: 9\n",
            "El valor 9 pertenece al mes de Septiembre\n"
          ]
        }
      ]
    },
    {
      "cell_type": "markdown",
      "source": [
        "15. Calcular y escribir los primeros 100 números primos."
      ],
      "metadata": {
        "id": "3t79BBddGQ_c"
      }
    },
    {
      "cell_type": "code",
      "source": [
        "def calcular_pri(x):\n",
        "  cont = 0\n",
        "  lista = []\n",
        "  while cont < x:\n",
        "    cont += 1\n",
        "    if cont % 2 != 0:\n",
        "      lista.append(cont)\n",
        "  return lista\n",
        "\n",
        "primos = 100\n",
        "\n",
        "res = calcular_pri(primos)\n",
        "print(res)"
      ],
      "metadata": {
        "id": "1AmzmUK7GWbG",
        "outputId": "24b9e84c-ccb5-4a5c-9e39-04a9cce899e8",
        "colab": {
          "base_uri": "https://localhost:8080/"
        }
      },
      "execution_count": 22,
      "outputs": [
        {
          "output_type": "stream",
          "name": "stdout",
          "text": [
            "[1, 3, 5, 7, 9, 11, 13, 15, 17, 19, 21, 23, 25, 27, 29, 31, 33, 35, 37, 39, 41, 43, 45, 47, 49, 51, 53, 55, 57, 59, 61, 63, 65, 67, 69, 71, 73, 75, 77, 79, 81, 83, 85, 87, 89, 91, 93, 95, 97, 99]\n"
          ]
        }
      ]
    },
    {
      "cell_type": "markdown",
      "source": [
        "16. Diseñar un algoritmo que lea las notas de Matemáticas y Física de un grupo de 25\n",
        "estudiantes. Determinar y escribir cuántos ganaron las dos y cuántos perdieron al menos\n",
        "una."
      ],
      "metadata": {
        "id": "L6_VLQBzI7sX"
      }
    },
    {
      "cell_type": "code",
      "source": [
        "def leer_notas(x, y, R):\n",
        "  cont = 0\n",
        "  lista_ganaron = []\n",
        "  lista_perdieron_una = []\n",
        "  while cont < R:\n",
        "    cont += 1\n",
        "    mat = float(input('Ingrese la nota matemáticas del estudiante: '))\n",
        "    fis = float(input('Ingrese las notas de física del estudiante: '))\n",
        "    x.append(mat)\n",
        "    y.append(fis)\n",
        "    for i in x:\n",
        "      for j in y:\n",
        "        if i >= 3.0 and j >= 3.0:\n",
        "          lista_ganaron.append(i)\n",
        "          lista_ganaron.append(j)\n",
        "          A = len(lista_ganaron)\n",
        "        elif (i >= 3.0 and j <= 3.0):\n",
        "          lista_perdieron_una.append(i)\n",
        "          B = len(lista_perdieron_una)\n",
        "        elif (i <= 3.0 and j >= 3.0):\n",
        "          lista_perdieron_una.append(j)\n",
        "          C = len(lista_perdieron_una)\n",
        "\n",
        "\n",
        "notas_mat = []\n",
        "notas_fis = []\n",
        "rango = 3\n",
        "\n",
        "res = leer_notas(notas_mat, notas_fis, rango)\n",
        "\n",
        "print(res)"
      ],
      "metadata": {
        "id": "SLR86os1Lk2a",
        "outputId": "7aa39371-311f-4eaa-94e6-f0a47e27b5da",
        "colab": {
          "base_uri": "https://localhost:8080/",
          "height": 436
        }
      },
      "execution_count": 31,
      "outputs": [
        {
          "name": "stdout",
          "output_type": "stream",
          "text": [
            "Ingrese la nota matemáticas del estudiante: 3.0\n",
            "Ingrese las notas de física del estudiante: 3.0\n",
            "Ingrese la nota matemáticas del estudiante: 2.0\n",
            "Ingrese las notas de física del estudiante: 3.0\n",
            "Ingrese la nota matemáticas del estudiante: 3.0\n",
            "Ingrese las notas de física del estudiante: 3.0\n"
          ]
        },
        {
          "output_type": "error",
          "ename": "UnboundLocalError",
          "evalue": "local variable 'B' referenced before assignment",
          "traceback": [
            "\u001b[0;31m---------------------------------------------------------------------------\u001b[0m",
            "\u001b[0;31mUnboundLocalError\u001b[0m                         Traceback (most recent call last)",
            "\u001b[0;32m<ipython-input-31-d748078b7566>\u001b[0m in \u001b[0;36m<cell line: 31>\u001b[0;34m()\u001b[0m\n\u001b[1;32m     29\u001b[0m \u001b[0mrango\u001b[0m \u001b[0;34m=\u001b[0m \u001b[0;36m3\u001b[0m\u001b[0;34m\u001b[0m\u001b[0;34m\u001b[0m\u001b[0m\n\u001b[1;32m     30\u001b[0m \u001b[0;34m\u001b[0m\u001b[0m\n\u001b[0;32m---> 31\u001b[0;31m \u001b[0mres\u001b[0m \u001b[0;34m=\u001b[0m \u001b[0mleer_notas\u001b[0m\u001b[0;34m(\u001b[0m\u001b[0mnotas_mat\u001b[0m\u001b[0;34m,\u001b[0m \u001b[0mnotas_fis\u001b[0m\u001b[0;34m,\u001b[0m \u001b[0mrango\u001b[0m\u001b[0;34m)\u001b[0m\u001b[0;34m\u001b[0m\u001b[0;34m\u001b[0m\u001b[0m\n\u001b[0m\u001b[1;32m     32\u001b[0m \u001b[0;34m\u001b[0m\u001b[0m\n\u001b[1;32m     33\u001b[0m \u001b[0mprint\u001b[0m\u001b[0;34m(\u001b[0m\u001b[0mres\u001b[0m\u001b[0;34m)\u001b[0m\u001b[0;34m\u001b[0m\u001b[0;34m\u001b[0m\u001b[0m\n",
            "\u001b[0;32m<ipython-input-31-d748078b7566>\u001b[0m in \u001b[0;36mleer_notas\u001b[0;34m(x, y, R)\u001b[0m\n\u001b[1;32m     21\u001b[0m           \u001b[0mlista_perdieron_una\u001b[0m\u001b[0;34m.\u001b[0m\u001b[0mappend\u001b[0m\u001b[0;34m(\u001b[0m\u001b[0mj\u001b[0m\u001b[0;34m)\u001b[0m\u001b[0;34m\u001b[0m\u001b[0;34m\u001b[0m\u001b[0m\n\u001b[1;32m     22\u001b[0m           \u001b[0mC\u001b[0m \u001b[0;34m=\u001b[0m \u001b[0mlen\u001b[0m\u001b[0;34m(\u001b[0m\u001b[0mlista_perdieron_una\u001b[0m\u001b[0;34m)\u001b[0m\u001b[0;34m\u001b[0m\u001b[0;34m\u001b[0m\u001b[0m\n\u001b[0;32m---> 23\u001b[0;31m   \u001b[0msuma\u001b[0m \u001b[0;34m=\u001b[0m \u001b[0mB\u001b[0m \u001b[0;34m+\u001b[0m \u001b[0mC\u001b[0m\u001b[0;34m\u001b[0m\u001b[0;34m\u001b[0m\u001b[0m\n\u001b[0m\u001b[1;32m     24\u001b[0m   \u001b[0;32mreturn\u001b[0m \u001b[0msuma\u001b[0m\u001b[0;34m,\u001b[0m \u001b[0mA\u001b[0m\u001b[0;34m\u001b[0m\u001b[0;34m\u001b[0m\u001b[0m\n\u001b[1;32m     25\u001b[0m \u001b[0;34m\u001b[0m\u001b[0m\n",
            "\u001b[0;31mUnboundLocalError\u001b[0m: local variable 'B' referenced before assignment"
          ]
        }
      ]
    },
    {
      "cell_type": "markdown",
      "source": [
        "17. Calcular y escribir los primeros 150 números de Fibonacci."
      ],
      "metadata": {
        "id": "bDsbCwPqjLXG"
      }
    },
    {
      "cell_type": "code",
      "source": [
        "def fibonacci(lim):\n",
        "  fib = [0,1]\n",
        "\n",
        "  for i in range(2, lim):\n",
        "    fib.append(fib[i-1] + fib[i-2])\n",
        "  return fib\n",
        "\n",
        "\n",
        "limite = 150\n",
        "respuesta = fibonacci(limite)\n",
        "print(respuesta)"
      ],
      "metadata": {
        "id": "JWU0KucgjSVT",
        "outputId": "df2a841c-2f59-4784-958a-f346ad6613ed",
        "colab": {
          "base_uri": "https://localhost:8080/"
        }
      },
      "execution_count": 32,
      "outputs": [
        {
          "output_type": "stream",
          "name": "stdout",
          "text": [
            "[0, 1, 1, 2, 3, 5, 8, 13, 21, 34, 55, 89, 144, 233, 377, 610, 987, 1597, 2584, 4181, 6765, 10946, 17711, 28657, 46368, 75025, 121393, 196418, 317811, 514229, 832040, 1346269, 2178309, 3524578, 5702887, 9227465, 14930352, 24157817, 39088169, 63245986, 102334155, 165580141, 267914296, 433494437, 701408733, 1134903170, 1836311903, 2971215073, 4807526976, 7778742049, 12586269025, 20365011074, 32951280099, 53316291173, 86267571272, 139583862445, 225851433717, 365435296162, 591286729879, 956722026041, 1548008755920, 2504730781961, 4052739537881, 6557470319842, 10610209857723, 17167680177565, 27777890035288, 44945570212853, 72723460248141, 117669030460994, 190392490709135, 308061521170129, 498454011879264, 806515533049393, 1304969544928657, 2111485077978050, 3416454622906707, 5527939700884757, 8944394323791464, 14472334024676221, 23416728348467685, 37889062373143906, 61305790721611591, 99194853094755497, 160500643816367088, 259695496911122585, 420196140727489673, 679891637638612258, 1100087778366101931, 1779979416004714189, 2880067194370816120, 4660046610375530309, 7540113804746346429, 12200160415121876738, 19740274219868223167, 31940434634990099905, 51680708854858323072, 83621143489848422977, 135301852344706746049, 218922995834555169026, 354224848179261915075, 573147844013817084101, 927372692193078999176, 1500520536206896083277, 2427893228399975082453, 3928413764606871165730, 6356306993006846248183, 10284720757613717413913, 16641027750620563662096, 26925748508234281076009, 43566776258854844738105, 70492524767089125814114, 114059301025943970552219, 184551825793033096366333, 298611126818977066918552, 483162952612010163284885, 781774079430987230203437, 1264937032042997393488322, 2046711111473984623691759, 3311648143516982017180081, 5358359254990966640871840, 8670007398507948658051921, 14028366653498915298923761, 22698374052006863956975682, 36726740705505779255899443, 59425114757512643212875125, 96151855463018422468774568, 155576970220531065681649693, 251728825683549488150424261, 407305795904080553832073954, 659034621587630041982498215, 1066340417491710595814572169, 1725375039079340637797070384, 2791715456571051233611642553, 4517090495650391871408712937, 7308805952221443105020355490, 11825896447871834976429068427, 19134702400093278081449423917, 30960598847965113057878492344, 50095301248058391139327916261, 81055900096023504197206408605, 131151201344081895336534324866, 212207101440105399533740733471, 343358302784187294870275058337, 555565404224292694404015791808, 898923707008479989274290850145, 1454489111232772683678306641953, 2353412818241252672952597492098, 3807901929474025356630904134051, 6161314747715278029583501626149]\n"
          ]
        }
      ]
    },
    {
      "cell_type": "markdown",
      "source": [
        " 18. Calcular y escribir la suma de los cuadrados de los impares menores a un número positivo\n",
        "dado"
      ],
      "metadata": {
        "id": "01taejYcjacz"
      }
    },
    {
      "cell_type": "code",
      "source": [
        "def calcular_impares(x):\n",
        "  cont = 0\n",
        "  suma = 0\n",
        "  while cont < x:\n",
        "    cont += 1\n",
        "    if cont % 2 != 0:\n",
        "      a = cont**2\n",
        "      suma += a\n",
        "  return suma\n",
        "\n",
        "num = 6\n",
        "\n",
        "res = calcular_impares(num)\n",
        "print(f'La suma de los cuadrados de los impares menores al limite {num} es {res}')"
      ],
      "metadata": {
        "id": "VWAbQ4uXjpeK",
        "outputId": "54bf5622-84a8-4e77-cb60-d2a2d1b9480b",
        "colab": {
          "base_uri": "https://localhost:8080/"
        }
      },
      "execution_count": 33,
      "outputs": [
        {
          "output_type": "stream",
          "name": "stdout",
          "text": [
            "La suma de los cuadrados de los impares menores al limite 6 es 35\n"
          ]
        }
      ]
    },
    {
      "cell_type": "markdown",
      "source": [
        "19. Generar y escribir el valor del seno de 0 a 360 grados, en incrementos de 5 grados."
      ],
      "metadata": {
        "id": "BnA1o48zl7K0"
      }
    },
    {
      "cell_type": "code",
      "source": [
        "import math\n",
        "\n",
        "def calcular_seno():\n",
        "    # Imprimir el encabezado\n",
        "    print(f\"{'Grados':<10} {'Seno':<10}\")\n",
        "\n",
        "    # Generar y mostrar valores del seno\n",
        "    for grados in range(0, 361, 5):\n",
        "        radianes = math.radians(grados)\n",
        "        seno = math.sin(radianes)\n",
        "        print(f\"{grados:<10} {seno:<10.4f}\")\n",
        "\n",
        "# Ejecutar la función\n",
        "calcular_seno()"
      ],
      "metadata": {
        "id": "DEIEsfM6mGMl",
        "outputId": "f176904a-7329-4a6f-c18f-36a12b120447",
        "colab": {
          "base_uri": "https://localhost:8080/"
        }
      },
      "execution_count": 34,
      "outputs": [
        {
          "output_type": "stream",
          "name": "stdout",
          "text": [
            "Grados     Seno      \n",
            "0          0.0000    \n",
            "5          0.0872    \n",
            "10         0.1736    \n",
            "15         0.2588    \n",
            "20         0.3420    \n",
            "25         0.4226    \n",
            "30         0.5000    \n",
            "35         0.5736    \n",
            "40         0.6428    \n",
            "45         0.7071    \n",
            "50         0.7660    \n",
            "55         0.8192    \n",
            "60         0.8660    \n",
            "65         0.9063    \n",
            "70         0.9397    \n",
            "75         0.9659    \n",
            "80         0.9848    \n",
            "85         0.9962    \n",
            "90         1.0000    \n",
            "95         0.9962    \n",
            "100        0.9848    \n",
            "105        0.9659    \n",
            "110        0.9397    \n",
            "115        0.9063    \n",
            "120        0.8660    \n",
            "125        0.8192    \n",
            "130        0.7660    \n",
            "135        0.7071    \n",
            "140        0.6428    \n",
            "145        0.5736    \n",
            "150        0.5000    \n",
            "155        0.4226    \n",
            "160        0.3420    \n",
            "165        0.2588    \n",
            "170        0.1736    \n",
            "175        0.0872    \n",
            "180        0.0000    \n",
            "185        -0.0872   \n",
            "190        -0.1736   \n",
            "195        -0.2588   \n",
            "200        -0.3420   \n",
            "205        -0.4226   \n",
            "210        -0.5000   \n",
            "215        -0.5736   \n",
            "220        -0.6428   \n",
            "225        -0.7071   \n",
            "230        -0.7660   \n",
            "235        -0.8192   \n",
            "240        -0.8660   \n",
            "245        -0.9063   \n",
            "250        -0.9397   \n",
            "255        -0.9659   \n",
            "260        -0.9848   \n",
            "265        -0.9962   \n",
            "270        -1.0000   \n",
            "275        -0.9962   \n",
            "280        -0.9848   \n",
            "285        -0.9659   \n",
            "290        -0.9397   \n",
            "295        -0.9063   \n",
            "300        -0.8660   \n",
            "305        -0.8192   \n",
            "310        -0.7660   \n",
            "315        -0.7071   \n",
            "320        -0.6428   \n",
            "325        -0.5736   \n",
            "330        -0.5000   \n",
            "335        -0.4226   \n",
            "340        -0.3420   \n",
            "345        -0.2588   \n",
            "350        -0.1736   \n",
            "355        -0.0872   \n",
            "360        -0.0000   \n"
          ]
        }
      ]
    },
    {
      "cell_type": "markdown",
      "source": [
        " 20. Diseñar un algoritmo que simule el lanzamiento de un dado (usar la función random\n",
        "multiplicada por 6) 500 veces. Calcular y escribir cuántas veces salió cada número (1 a\n",
        "6)."
      ],
      "metadata": {
        "id": "CTiuJVD5na9E"
      }
    },
    {
      "cell_type": "code",
      "source": [
        "import random\n",
        "from collections import Counter\n",
        "\n",
        "def lanzar_dado(num_lanzamientos):\n",
        "    \"\"\"Simula el lanzamiento de un dado num_lanzamientos veces y cuenta la frecuencia de cada número del dado.\"\"\"\n",
        "    resultados = []\n",
        "\n",
        "    for _ in range(num_lanzamientos):\n",
        "        # Simula el lanzamiento del dado\n",
        "        dado = int(random.random() * 6) + 1\n",
        "        resultados.append(dado)\n",
        "\n",
        "    # Contar la frecuencia de cada número\n",
        "    conteo = Counter(resultados)\n",
        "    return conteo\n",
        "\n",
        "def imprimir_resultados(conteo):\n",
        "    \"\"\"Imprime el conteo de cuántas veces salió cada número del dado.\"\"\"\n",
        "    print(\"Resultados del lanzamiento del dado:\")\n",
        "    for numero in range(1, 7):\n",
        "        print(f\"Número {numero}: {conteo.get(numero, 0)} veces\")\n",
        "\n",
        "# Número de lanzamientos\n",
        "num_lanzamientos = 500\n",
        "\n",
        "# Realizar los lanzamientos y contar los resultados\n",
        "conteo = lanzar_dado(num_lanzamientos)\n",
        "\n",
        "# Imprimir los resultados\n",
        "imprimir_resultados(conteo)"
      ],
      "metadata": {
        "id": "6Wa0Z2qouVg8",
        "outputId": "4a638042-ffa6-45f7-857f-1f14d8900573",
        "colab": {
          "base_uri": "https://localhost:8080/"
        }
      },
      "execution_count": 43,
      "outputs": [
        {
          "output_type": "stream",
          "name": "stdout",
          "text": [
            "Resultados del lanzamiento del dado:\n",
            "Número 1: 81 veces\n",
            "Número 2: 81 veces\n",
            "Número 3: 89 veces\n",
            "Número 4: 91 veces\n",
            "Número 5: 79 veces\n",
            "Número 6: 79 veces\n"
          ]
        }
      ]
    },
    {
      "cell_type": "markdown",
      "source": [
        "21. Leer un valor, calcular y escribir su logaritmo en una base dada. Por ejemplo logaritmo\n",
        "en base 2 de 8, debe imprimir 3."
      ],
      "metadata": {
        "id": "2nFaG_upwrKa"
      }
    },
    {
      "cell_type": "code",
      "source": [
        "def calcular_log(x, base):\n",
        "  z = base*1\n",
        "  cont = 1\n",
        "  while z < x:\n",
        "    z *= base\n",
        "    cont += 1\n",
        "  return cont\n",
        "\n",
        "x = int(input('Ingrese el número al cual le quiere calcular su logaritmo: '))\n",
        "base = int(input('Ingrese el número de la base del logaritmo: '))\n",
        "\n",
        "res = calcular_log(x, base)\n",
        "print(f'El logaritmo de {x} en base {base} es: {res}')"
      ],
      "metadata": {
        "id": "OI8B3P5Hw4RU",
        "outputId": "1573538a-e831-4a55-e3e2-75b2e9825cb6",
        "colab": {
          "base_uri": "https://localhost:8080/"
        }
      },
      "execution_count": 46,
      "outputs": [
        {
          "output_type": "stream",
          "name": "stdout",
          "text": [
            "Ingrese el número al cual le quiere calcular su logaritmo: 32\n",
            "Ingrese el número de la base del logaritmo: 2\n",
            "El logaritmo de 32 en base 2 es: 5\n"
          ]
        }
      ]
    },
    {
      "cell_type": "markdown",
      "source": [
        "22. Leer una fecha en formato numérico AAAAMMDD, lo escriba como AAAA/MM/DD.\n",
        "Por ejemplo, 20200601 debe escribir 2020/06/01"
      ],
      "metadata": {
        "id": "HICWKS2VzzXp"
      }
    },
    {
      "cell_type": "code",
      "source": [
        "def format_fecha(x):\n",
        "  fecha_str = str(x)\n",
        "\n",
        "  año = fecha_str[:4]\n",
        "  mes = fecha_str[4:6]\n",
        "  dia = fecha_str[6:]\n",
        "\n",
        "  formato = f'{año}/{mes}/{dia}'\n",
        "\n",
        "  return formato\n",
        "\n",
        "fecha = 20200601\n",
        "\n",
        "res = format_fecha(fecha)\n",
        "print(f'cambiando el formato de la fecha {fecha} quedaria: {res}')"
      ],
      "metadata": {
        "id": "qSqAjU1Xz4iL",
        "outputId": "82eebf5c-d839-4487-867a-59af8fbf20ab",
        "colab": {
          "base_uri": "https://localhost:8080/"
        }
      },
      "execution_count": 88,
      "outputs": [
        {
          "output_type": "stream",
          "name": "stdout",
          "text": [
            "cambiando el formato de la fecha 20200601 quedaria: 2020/06/01\n"
          ]
        }
      ]
    },
    {
      "cell_type": "markdown",
      "source": [
        "23. Diseñar programa que lea un número dado no mayor de 9 y genere y escriba el siguiente\n",
        "triángulo hasta ese número."
      ],
      "metadata": {
        "id": "5nD0mb2_1u6a"
      }
    },
    {
      "cell_type": "code",
      "source": [
        "def generar_triangulo(n):\n",
        "    \"\"\"Genera y muestra un triángulo numérico con el formato especificado.\"\"\"\n",
        "    if n < 1 or n > 9:\n",
        "        raise ValueError(\"El número debe estar en el rango de 1 a 9\")\n",
        "\n",
        "    # Calcular el ancho máximo para la alineación\n",
        "    max_width = 2 * n - 1\n",
        "\n",
        "    for i in range(1, n + 1):\n",
        "        # Construir la parte ascendente\n",
        "        parte_ascendente = ''.join(str(j) for j in range(1, i + 1))\n",
        "        # Construir la parte descendente\n",
        "        parte_descendente = ''.join(str(j) for j in range(i - 1, 0, -1))\n",
        "        # Construir la línea completa\n",
        "        linea = parte_ascendente + parte_descendente\n",
        "        # Alinear la línea al centro\n",
        "        linea_ajustada = linea.center(max_width)\n",
        "        # Imprimir la línea ajustada\n",
        "        print(linea_ajustada)\n",
        "\n",
        "def main():\n",
        "    try:\n",
        "        # Leer el número del usuario\n",
        "        numero = int(input(\"Introduce un número no mayor de 9: \"))\n",
        "        generar_triangulo(numero)\n",
        "    except ValueError as e:\n",
        "        print(f\"Error: {e}\")\n",
        "\n",
        "# Ejecutar el programa principal\n",
        "if __name__ == \"__main__\":\n",
        "    main()"
      ],
      "metadata": {
        "id": "ae4Ep0gh11wQ",
        "outputId": "ebc3a1a1-b29e-4597-dca2-1b4be1014b23",
        "colab": {
          "base_uri": "https://localhost:8080/"
        }
      },
      "execution_count": 55,
      "outputs": [
        {
          "output_type": "stream",
          "name": "stdout",
          "text": [
            "Introduce un número no mayor de 9: 9\n",
            "        1        \n",
            "       121       \n",
            "      12321      \n",
            "     1234321     \n",
            "    123454321    \n",
            "   12345654321   \n",
            "  1234567654321  \n",
            " 123456787654321 \n",
            "12345678987654321\n"
          ]
        }
      ]
    },
    {
      "cell_type": "markdown",
      "source": [
        "24. Diseñar un algoritmo que lea un valor X (dado en radianes) y calcule el valor de la función\n",
        "trigonométrica seno así:\n",
        "sen x = x/1! – x3/3! + x5/5!+..."
      ],
      "metadata": {
        "id": "Fa7Gy38dO-hv"
      }
    },
    {
      "cell_type": "code",
      "source": [
        "# prompt: Diseñar un algoritmo que lea un valor X (dado en radianes) y calcule el valor de la función trigonométrica seno así: sen x = x/1! – x3/3! + x5/5!+...\n",
        "\n",
        "import math\n",
        "\n",
        "def calcular_seno(x, num_terminos):\n",
        "    \"\"\"Calcula el seno de x usando la serie de Taylor hasta num_terminos.\"\"\"\n",
        "    seno = 0\n",
        "    for i in range(num_terminos):\n",
        "        signo = (-1) ** i\n",
        "        termino = x ** (2 * i + 1) / math.factorial(2 * i + 1)\n",
        "        seno += signo * termino\n",
        "    return seno\n",
        "\n",
        "def main():\n",
        "    # Leer el valor de x en radianes\n",
        "    x = float(input(\"Introduce el valor de x en radianes: \"))\n",
        "\n",
        "    # Número de términos en la serie de Taylor\n",
        "    num_terminos = 10  # Puedes ajustar este valor para mayor precisión\n",
        "\n",
        "    # Calcular el seno de x\n",
        "    seno_x = calcular_seno(x, num_terminos)\n",
        "\n",
        "    # Mostrar el resultado\n",
        "    print(f\"El seno de {x} radianes es aproximadamente: {seno_x}\")\n",
        "\n",
        "if __name__ == \"__main__\":\n",
        "    main()\n"
      ],
      "metadata": {
        "id": "WzQgo70PPIP6",
        "outputId": "413617ec-4b1e-481b-ca09-1787003edb9f",
        "colab": {
          "base_uri": "https://localhost:8080/"
        }
      },
      "execution_count": 62,
      "outputs": [
        {
          "output_type": "stream",
          "name": "stdout",
          "text": [
            "Introduce el valor de x en radianes: 3\n",
            "El seno de 3.0 radianes es aproximadamente: 0.14112000785871492\n"
          ]
        }
      ]
    },
    {
      "cell_type": "markdown",
      "source": [
        "25. Realizar un algoritmo que lea un vector (lista). Conformar un segundo vector (lista) que\n",
        "contenga los elementos positivos y otro que contenga los elementos negativos del vector\n",
        "(lista) inicial. Escribir todos los vectores generados."
      ],
      "metadata": {
        "id": "7fa4nWiUUbFv"
      }
    },
    {
      "cell_type": "code",
      "source": [
        "def separar_lista(L):\n",
        "  lista_pos = []\n",
        "  lista_neg = []\n",
        "  for i in L:\n",
        "    if i < 0:\n",
        "      lista_neg.append(i)\n",
        "    else:\n",
        "      lista_pos.append(i)\n",
        "  return f'La lista con valores positivos es: {lista_pos} y la lista con valores negativos es: {lista_neg}'\n",
        "\n",
        "lista = [-3, -2 , -1, 0, 1, 2, 3]\n",
        "\n",
        "res = separar_lista(lista)\n",
        "print(f'la lista original es {lista}; {res}')"
      ],
      "metadata": {
        "id": "_q0bW40eUe9l",
        "outputId": "ed4141dd-8325-4d65-d73b-21a9741bfe1d",
        "colab": {
          "base_uri": "https://localhost:8080/"
        }
      },
      "execution_count": 63,
      "outputs": [
        {
          "output_type": "stream",
          "name": "stdout",
          "text": [
            "la lista original es [-3, -2, -1, 0, 1, 2, 3]; La lista con valores positivos es: [0, 1, 2, 3] y la lista con valores negativos es: [-3, -2, -1]\n"
          ]
        }
      ]
    },
    {
      "cell_type": "markdown",
      "source": [
        "26. Realizar un algoritmo que lea dos vectores (listas) y encuentre y escriba los elementos\n",
        "que sean iguales en los dos"
      ],
      "metadata": {
        "id": "xLWnU-zkVqoA"
      }
    },
    {
      "cell_type": "code",
      "source": [
        "def valores_iguales(a, b):\n",
        "  lista = []\n",
        "  for i in a:\n",
        "    for j in b:\n",
        "      if i == j:\n",
        "        lista.append(i)\n",
        "  return lista\n",
        "\n",
        "vector_A = [1, 5, 3, 7, 9, 10]\n",
        "vector_B = [2, 4, 5, 6, 8, 10]\n",
        "\n",
        "res = valores_iguales(vector_A, vector_B)\n",
        "\n",
        "print(f'Los numeros que son iguales en ambos vectores son: {res}')"
      ],
      "metadata": {
        "id": "7oplaVp8Vwu9",
        "outputId": "7d748f8d-0ca7-4655-e2f0-8e8d4a60a986",
        "colab": {
          "base_uri": "https://localhost:8080/"
        }
      },
      "execution_count": 66,
      "outputs": [
        {
          "output_type": "stream",
          "name": "stdout",
          "text": [
            "Los numeros que son iguales en ambos vectores son: [5, 10]\n"
          ]
        }
      ]
    },
    {
      "cell_type": "markdown",
      "source": [
        "27. Calcular el número de elementos positivos, negativos y cero de un vector (lista) dado."
      ],
      "metadata": {
        "id": "sj7IknQ7XPzw"
      }
    },
    {
      "cell_type": "code",
      "source": [
        "def calcular_numeros(V):\n",
        "  suma_pos = 0\n",
        "  suma_neg = 0\n",
        "  v_neg = []\n",
        "  v_pos = []\n",
        "\n",
        "  for v in V:\n",
        "    if v < 0:\n",
        "      v_neg.append(v)\n",
        "      A = len(v_neg)\n",
        "      suma_neg += v\n",
        "\n",
        "    elif v > 0:\n",
        "      v_pos.append(v)\n",
        "      B = len(v_pos)\n",
        "      suma_pos += v\n",
        "\n",
        "    else:\n",
        "      print(f'El calculo de cero es: {0}')\n",
        "  return f'La suma de los numeros positivos del vector {v} es: {suma_pos} La suma de los valores negativos del vector {v} es: {suma_neg}'\n",
        "\n",
        "\n",
        "\n",
        "vector = [-3, -2, -1, 0, 1, 2, 3]\n",
        "\n",
        "res = calcular_numeros(vector)\n",
        "\n",
        "print(res)"
      ],
      "metadata": {
        "id": "blTOmRU_XZ99",
        "outputId": "b09a5316-cdc3-4dfa-b999-e114a915c771",
        "colab": {
          "base_uri": "https://localhost:8080/"
        }
      },
      "execution_count": 71,
      "outputs": [
        {
          "output_type": "stream",
          "name": "stdout",
          "text": [
            "El calculo de cero es: 0\n",
            "La suma de los numeros positivos del vector 3 es: 6 La suma de los valores negativos del vector 3 es: -6\n"
          ]
        }
      ]
    },
    {
      "cell_type": "markdown",
      "source": [
        "28. Leer los coeficientes de un polinomio de grado n, calcular su derivada."
      ],
      "metadata": {
        "id": "_OQmDScua7I7"
      }
    },
    {
      "cell_type": "code",
      "source": [
        "def calcular_derivada(coeficientes):\n",
        "    \"\"\"Calcula los coeficientes de la derivada de un polinomio dado.\"\"\"\n",
        "    n = len(coeficientes) - 1\n",
        "    if n == 0:\n",
        "        return [0]  # La derivada de una constante es 0\n",
        "\n",
        "    # Calcular los coeficientes de la derivada\n",
        "    coeficientes_derivada = []\n",
        "    for i in range(n):\n",
        "        coeficiente_derivado = coeficientes[i] * (n - i)\n",
        "        coeficientes_derivada.append(coeficiente_derivado)\n",
        "\n",
        "    return coeficientes_derivada\n",
        "\n",
        "# Leer el grado del polinomio\n",
        "n = int(input(\"Introduce el grado del polinomio: \"))\n",
        "\n",
        "# Leer los coeficientes del polinomio (de mayor a menor grado)\n",
        "coeficientes = []\n",
        "for i in range(n + 1):\n",
        "    coef = float(input(f\"Introduce el coeficiente de x^{n-i}: \"))\n",
        "    coeficientes.append(coef)\n",
        "\n",
        "# Calcular la derivada\n",
        "coeficientes_derivada = calcular_derivada(coeficientes)\n",
        "\n",
        "# Mostrar los resultados\n",
        "print(\"Coeficientes de la derivada del polinomio:\")\n",
        "for i, coef in enumerate(coeficientes_derivada):\n",
        "    grado = len(coeficientes_derivada) - i - 1\n",
        "    print(f\"Coeficiente de x^{grado}: {coef}\")"
      ],
      "metadata": {
        "id": "MQepKYE5dV_O",
        "outputId": "e56c7bbb-ff16-4569-a2bd-5cf34b11652e",
        "colab": {
          "base_uri": "https://localhost:8080/"
        }
      },
      "execution_count": 72,
      "outputs": [
        {
          "output_type": "stream",
          "name": "stdout",
          "text": [
            "Introduce el grado del polinomio: 4\n",
            "Introduce el coeficiente de x^4: 5\n",
            "Introduce el coeficiente de x^3: -3\n",
            "Introduce el coeficiente de x^2: 8\n",
            "Introduce el coeficiente de x^1: 2\n",
            "Introduce el coeficiente de x^0: 1\n",
            "Coeficientes de la derivada del polinomio:\n",
            "Coeficiente de x^3: 20.0\n",
            "Coeficiente de x^2: -9.0\n",
            "Coeficiente de x^1: 16.0\n",
            "Coeficiente de x^0: 2.0\n"
          ]
        }
      ]
    },
    {
      "cell_type": "markdown",
      "source": [
        "29. Leer los coeficientes de un polinomio de grado n, calcular su integral entre dos límites\n",
        "dados."
      ],
      "metadata": {
        "id": "Wzqrvhiqd5rg"
      }
    },
    {
      "cell_type": "code",
      "source": [
        "def calcular_integral_indefinida(coeficientes):\n",
        "    \"\"\"Calcula los coeficientes de la integral indefinida de un polinomio dado.\"\"\"\n",
        "    n = len(coeficientes) - 1\n",
        "    coeficientes_integral = []\n",
        "\n",
        "    # Calcular los coeficientes de la integral\n",
        "    for i in range(n + 1):\n",
        "        coeficiente_integrado = coeficientes[i] / (n - i + 1)\n",
        "        coeficientes_integral.append(coeficiente_integrado)\n",
        "\n",
        "    # Añadir la constante de integración (se puede omitir ya que no afecta el cálculo definido)\n",
        "    coeficientes_integral.append(0)  # Esto representa la constante de integración\n",
        "    return coeficientes_integral\n",
        "\n",
        "def evaluar_integral(coeficientes_integral, x):\n",
        "    \"\"\"Evalúa la integral indefinida en un punto x usando los coeficientes de la integral.\"\"\"\n",
        "    resultado = 0\n",
        "    n = len(coeficientes_integral) - 1\n",
        "    for i in range(n + 1):\n",
        "        resultado += coeficientes_integral[i] * (x ** (n - i + 1))\n",
        "    return resultado\n",
        "\n",
        "# Leer el grado del polinomio\n",
        "n = int(input(\"Introduce el grado del polinomio: \"))\n",
        "\n",
        "# Leer los coeficientes del polinomio (de mayor a menor grado)\n",
        "coeficientes = []\n",
        "for i in range(n + 1):\n",
        "    coef = float(input(f\"Introduce el coeficiente de x^{n-i}: \"))\n",
        "    coeficientes.append(coef)\n",
        "\n",
        "# Leer los límites de integración\n",
        "a = float(input(\"Introduce el límite inferior de integración: \"))\n",
        "b = float(input(\"Introduce el límite superior de integración: \"))\n",
        "\n",
        "# Calcular los coeficientes de la integral indefinida\n",
        "coeficientes_integral = calcular_integral_indefinida(coeficientes)\n",
        "\n",
        "# Evaluar la integral definida entre los límites\n",
        "valor_integral_a = evaluar_integral(coeficientes_integral, a)\n",
        "valor_integral_b = evaluar_integral(coeficientes_integral, b)\n",
        "valor_integral_definida = valor_integral_b - valor_integral_a\n",
        "\n",
        "# Mostrar los resultados\n",
        "print(f\"La integral definida del polinomio desde {a} hasta {b} es: {valor_integral_definida}\")\n"
      ],
      "metadata": {
        "id": "EnfTu49Ue1Wl",
        "outputId": "1dd92aeb-b7da-4703-82cf-cdd94da9c11f",
        "colab": {
          "base_uri": "https://localhost:8080/"
        }
      },
      "execution_count": 74,
      "outputs": [
        {
          "output_type": "stream",
          "name": "stdout",
          "text": [
            "Introduce el grado del polinomio: 2\n",
            "Introduce el coeficiente de x^2: 4\n",
            "Introduce el coeficiente de x^1: 3\n",
            "Introduce el coeficiente de x^0: 1\n",
            "Introduce el límite inferior de integración: 0\n",
            "Introduce el límite superior de integración: 4\n",
            "La integral definida del polinomio desde 0.0 hasta 4.0 es: 453.3333333333333\n"
          ]
        }
      ]
    },
    {
      "cell_type": "markdown",
      "source": [
        "30. Se tienen dos vectores (listas). Se debe crear otros 3 vectores. El primero, con la suma\n",
        "de los elementos respectivos, otro con el producto y el último con la diferencia (si la\n",
        "diferencia es negativa, coloque cero como valor)"
      ],
      "metadata": {
        "id": "25ZM1yyEfxXS"
      }
    },
    {
      "cell_type": "code",
      "source": [
        "def suma_vectores(v1, v2):\n",
        "    return [x + y for x, y in zip(v1, v2)] #zip(v1, v2) combina ambas listas en pares de elementos\n",
        "\n",
        "def producto_escalar(v1, v2):\n",
        "    return sum(x * y for x, y in zip(v1, v2))\n",
        "\n",
        "def resta_vectores(v1, v2):\n",
        "    A = [x - y for x, y in zip(v1, v2)]\n",
        "    for i in A:\n",
        "      if i <= 0:\n",
        "        A[i] = 0\n",
        "    return A\n",
        "\n",
        "v1 = [1, 4, 5]\n",
        "v2 = [2, 3, 7]\n",
        "\n",
        "res1 = suma_vectores(v1, v2)\n",
        "res2 = producto_escalar(v1, v2)\n",
        "res3 = resta_vectores(v1, v2)\n",
        "\n",
        "print(f'La suma de los vectores es: {res1}. El producto de los vectores es: {res2}. La resta de los vectores es: {res3}')\n"
      ],
      "metadata": {
        "id": "nD_vcCsqf13i",
        "outputId": "e2649527-6152-449d-e1bf-ac07fc24ba5d",
        "colab": {
          "base_uri": "https://localhost:8080/"
        }
      },
      "execution_count": 87,
      "outputs": [
        {
          "output_type": "stream",
          "name": "stdout",
          "text": [
            "La suma de los vectores es: [3, 7, 12]. El producto de los vectores es: 49. La resta de los vectores es: [0, 1, 0]\n"
          ]
        }
      ]
    },
    {
      "cell_type": "markdown",
      "source": [
        "31. Leer una fecha en formato numérico AAAAMMDD, lo escriba como DD de mes de\n",
        "AAAA. Por ejemplo, 20130419 debe escribir 19 de Abril de 2013.\n"
      ],
      "metadata": {
        "id": "Nd-Shg-hl-2r"
      }
    },
    {
      "cell_type": "code",
      "source": [
        "def formatear_fecha(fecha_str):\n",
        "    # Extraer el año, mes y día\n",
        "    año = fecha_str[:4]\n",
        "    mes = int(fecha_str[4:6])  # Convertir el mes a entero\n",
        "    día = fecha_str[6:8]\n",
        "\n",
        "    # Lista de nombres de meses en español\n",
        "    nombres_meses = [\n",
        "        'Enero', 'Febrero', 'Marzo', 'Abril', 'Mayo', 'Junio',\n",
        "        'Julio', 'Agosto', 'Septiembre', 'Octubre', 'Noviembre', 'Diciembre'\n",
        "    ]\n",
        "\n",
        "    # Obtener el nombre del mes\n",
        "    nombre_mes = nombres_meses[mes - 1]  # Restar 1 porque los índices empiezan en 0\n",
        "\n",
        "    # Formatear la fecha en el formato deseado\n",
        "    fecha_formateada = f\"{día} de {nombre_mes} de {año}\"\n",
        "\n",
        "    return fecha_formateada\n",
        "\n",
        "# Ejemplo de uso\n",
        "fecha_str = '20130419'\n",
        "resultado = formatear_fecha(fecha_str)\n",
        "print(resultado)"
      ],
      "metadata": {
        "id": "6JeJIJxrmeNq",
        "outputId": "495bd468-bd3b-480c-8e77-9898382fea42",
        "colab": {
          "base_uri": "https://localhost:8080/"
        }
      },
      "execution_count": 89,
      "outputs": [
        {
          "output_type": "stream",
          "name": "stdout",
          "text": [
            "19 de Abril de 2013\n"
          ]
        }
      ]
    },
    {
      "cell_type": "markdown",
      "source": [
        "32. Leer una fecha como mes y día, determinar si es una fecha válida. Por ejemplo 30 de\n",
        "febrero debería escribir que no es válida."
      ],
      "metadata": {
        "id": "ZBkj8z51rXEX"
      }
    },
    {
      "cell_type": "code",
      "source": [
        "def es_bisiesto(anio):\n",
        "    \"\"\"Determina si un año es bisiesto.\"\"\"\n",
        "    return (anio % 4 == 0 and anio % 100 != 0) or (anio % 400 == 0)\n",
        "\n",
        "def es_fecha_valida(dia, mes, anio):\n",
        "    \"\"\"Determina si una fecha en formato día/mes/año es válida.\"\"\"\n",
        "    # Días en cada mes\n",
        "    dias_en_mes = {\n",
        "        1: 31, 2: 28, 3: 31, 4: 30, 5: 31, 6: 30,\n",
        "        7: 31, 8: 31, 9: 30, 10: 31, 11: 30, 12: 31\n",
        "    }\n",
        "\n",
        "    # Ajustar febrero en años bisiestos\n",
        "    if es_bisiesto(anio):\n",
        "        dias_en_mes[2] = 29\n",
        "\n",
        "    # Verificar si el mes es válido\n",
        "    if mes < 1 or mes > 12:\n",
        "        return False\n",
        "\n",
        "    # Verificar si el día es válido para el mes\n",
        "    if dia < 1 or dia > dias_en_mes[mes]:\n",
        "        return False\n",
        "\n",
        "    return True\n",
        "\n",
        "# Ejemplo de uso\n",
        "dia = 29\n",
        "mes = 2\n",
        "anio = 2024  # Puedes cambiar el año para probar diferentes casos\n",
        "\n",
        "if es_fecha_valida(dia, mes, anio):\n",
        "    print(f\"La fecha {dia} de {mes} de {anio} es válida.\")\n",
        "else:\n",
        "    print(f\"La fecha {dia} de {mes} de {anio} no es válida.\")"
      ],
      "metadata": {
        "id": "MwkLPhr6rc9e",
        "outputId": "c03d834b-9494-467e-c59f-5e146864786b",
        "colab": {
          "base_uri": "https://localhost:8080/"
        }
      },
      "execution_count": 92,
      "outputs": [
        {
          "output_type": "stream",
          "name": "stdout",
          "text": [
            "La fecha 29 de 2 de 2024 es válida.\n"
          ]
        }
      ]
    },
    {
      "cell_type": "markdown",
      "source": [
        "33. Leer dos vectores (listas), calcular y escribir el producto punto de ambos."
      ],
      "metadata": {
        "id": "NcWQGP7WvucW"
      }
    },
    {
      "cell_type": "code",
      "source": [
        "def producto_escalar(v1, v2):\n",
        "    return sum(x * y for x, y in zip(v1, v2))\n",
        "\n",
        "v1 = [1, 4, 5]\n",
        "v2 = [2, 3, 7]\n",
        "\n",
        "res = producto_escalar(v1, v2)\n",
        "print(f'El producto de los dos vectores es: {res}')"
      ],
      "metadata": {
        "id": "Yox-FdzavzPx",
        "outputId": "b0aace07-dc7f-42f5-b828-3184a90d2779",
        "colab": {
          "base_uri": "https://localhost:8080/"
        }
      },
      "execution_count": 93,
      "outputs": [
        {
          "output_type": "stream",
          "name": "stdout",
          "text": [
            "El producto de los dos vectores es: 49\n"
          ]
        }
      ]
    },
    {
      "cell_type": "markdown",
      "source": [
        "34. Realizar un algoritmo que lea un vector (lista) y genere un nuevo vector ordenado\n",
        "descendentemente."
      ],
      "metadata": {
        "id": "nFYwbyw4xH6t"
      }
    },
    {
      "cell_type": "code",
      "source": [
        "vector = [10, 2, 25, 15, 4, 33, 25]\n",
        "vector_ordenado = sorted(vector)  #Función que ordena las listas de manera descendente\n",
        "print(f'El vector ordenado descentemente es: {vector_ordenado}')"
      ],
      "metadata": {
        "id": "y5H-eR1lxKkm",
        "outputId": "c0edd049-1a50-4870-8f35-6f3b6d768566",
        "colab": {
          "base_uri": "https://localhost:8080/"
        }
      },
      "execution_count": 94,
      "outputs": [
        {
          "output_type": "stream",
          "name": "stdout",
          "text": [
            "El vector ordenado descentemente es: [2, 4, 10, 15, 25, 25, 33]\n"
          ]
        }
      ]
    },
    {
      "cell_type": "markdown",
      "source": [
        "35. Realizar un algoritmo que lea un vector (lista) y calcule la diferencia más grande entre 2\n",
        "elementos consecutivos de este vector."
      ],
      "metadata": {
        "id": "zpTbCul7yBuv"
      }
    },
    {
      "cell_type": "code",
      "source": [
        "def diferencia_mas_grande(x):\n",
        "  max_diferencia = 0\n",
        "\n",
        "  for i in range(len(x)-1):\n",
        "    diferencia = abs(x[i]-x[i+1])\n",
        "\n",
        "    if diferencia > max_diferencia:\n",
        "      max_diferencia = diferencia\n",
        "\n",
        "  return max_diferencia\n",
        "\n",
        "vector = [1, 5, 3, 19, 2, 7]\n",
        "\n",
        "res = diferencia_mas_grande(vector)\n",
        "print(f'La mayor diferencia entre los números consevutivos del vector es {res}')"
      ],
      "metadata": {
        "id": "aokO9r5z0toy",
        "outputId": "ca8c3f45-2453-47ba-80d5-82473cd232a0",
        "colab": {
          "base_uri": "https://localhost:8080/"
        }
      },
      "execution_count": 96,
      "outputs": [
        {
          "output_type": "stream",
          "name": "stdout",
          "text": [
            "La mayor diferencia entre los números consevutivos del vector es 17\n"
          ]
        }
      ]
    },
    {
      "cell_type": "markdown",
      "source": [
        "36. Crear y escribir un vector (lista) de 20 elementos, asignando a cada elemento un valor\n",
        "igual al negativo del inverso de la posición que ocupa."
      ],
      "metadata": {
        "id": "cy0AGRHG1qyO"
      }
    },
    {
      "cell_type": "code",
      "source": [
        "vector = []\n",
        "\n",
        "# Llenar el vector con los valores negativos del inverso de su posición\n",
        "for i in range(1, 21):  # La indexación empieza desde 1 hasta 20\n",
        "    valor = -1 / i  # Calcular el negativo del inverso de la posición\n",
        "    vector.append(valor)  # Agregar el valor al vector\n",
        "\n",
        "# Imprimir el vector\n",
        "print(vector)"
      ],
      "metadata": {
        "id": "GMtUJDLg1wST",
        "outputId": "3317bc53-daad-42c9-edbb-e10ddcaa73f8",
        "colab": {
          "base_uri": "https://localhost:8080/"
        }
      },
      "execution_count": 97,
      "outputs": [
        {
          "output_type": "stream",
          "name": "stdout",
          "text": [
            "[-1.0, -0.5, -0.3333333333333333, -0.25, -0.2, -0.16666666666666666, -0.14285714285714285, -0.125, -0.1111111111111111, -0.1, -0.09090909090909091, -0.08333333333333333, -0.07692307692307693, -0.07142857142857142, -0.06666666666666667, -0.0625, -0.058823529411764705, -0.05555555555555555, -0.05263157894736842, -0.05]\n"
          ]
        }
      ]
    },
    {
      "cell_type": "markdown",
      "source": [
        "37. Leer un vector (lista) y un valor. Determinar e imprimir si el valor se encuentra en el\n",
        "vector y cuántas veces."
      ],
      "metadata": {
        "id": "av5OGKps2TqW"
      }
    },
    {
      "cell_type": "code",
      "source": [
        "def determinar_valor(x, y):\n",
        "  cont = 0\n",
        "  strg = 0\n",
        "  for i in x:\n",
        "    if y == i:\n",
        "      cont += 1\n",
        "      strg = f'El valor {y} se encuentra en la lista'\n",
        "    else:\n",
        "      strg = f'El valor {y} no se encuentra en la lista'\n",
        "  return f'{strg}, {cont} veces'\n",
        "\n",
        "vector = [1, 2, 2, 3, 3, 3]\n",
        "valor = 3\n",
        "\n",
        "res = determinar_valor(vector, valor)\n",
        "print(res)"
      ],
      "metadata": {
        "id": "fb3TnZT-2W1f",
        "outputId": "a7f5dac5-cb1e-45ce-f816-1f52b2f56590",
        "colab": {
          "base_uri": "https://localhost:8080/"
        }
      },
      "execution_count": 102,
      "outputs": [
        {
          "output_type": "stream",
          "name": "stdout",
          "text": [
            "El valor 3 se encuentra en la lista, 3 veces\n"
          ]
        }
      ]
    },
    {
      "cell_type": "markdown",
      "source": [
        "38. Calcular y escribir el valor máximo, mínimo, promedio, mediana, desviación estándar y\n",
        "varianza un vector (lista). Para el máximo y el mínimo, debe calcular además su posición\n",
        "en el vector."
      ],
      "metadata": {
        "id": "CRQOMat96gyr"
      }
    },
    {
      "cell_type": "code",
      "source": [
        "def calcular_estadisticas(vector):\n",
        "    # Verificar si el vector tiene al menos 1 elemento\n",
        "    if len(vector) == 0:\n",
        "        raise ValueError(\"El vector no puede estar vacío.\")\n",
        "\n",
        "    # Inicializar valores para los cálculos\n",
        "    suma = 0\n",
        "    n = len(vector)\n",
        "\n",
        "    # Encontrar el máximo y el mínimo y sus posiciones\n",
        "    maximo = vector[0]\n",
        "    minimo = vector[0]\n",
        "    posicion_maximo = 0\n",
        "    posicion_minimo = 0\n",
        "\n",
        "    for i in range(n):\n",
        "        valor = vector[i]\n",
        "        suma += valor\n",
        "\n",
        "        if valor > maximo:\n",
        "            maximo = valor\n",
        "            posicion_maximo = i\n",
        "\n",
        "        if valor < minimo:\n",
        "            minimo = valor\n",
        "            posicion_minimo = i\n",
        "\n",
        "    # Calcular el promedio\n",
        "    promedio = suma / n\n",
        "\n",
        "    # Calcular la mediana\n",
        "    vector_ordenado = sorted(vector)\n",
        "    if n % 2 == 0:\n",
        "        mediana = (vector_ordenado[n//2 - 1] + vector_ordenado[n//2]) / 2\n",
        "    else:\n",
        "        mediana = vector_ordenado[n//2]\n",
        "\n",
        "    # Calcular la varianza\n",
        "    suma_cuadrados = sum((x - promedio) ** 2 for x in vector)\n",
        "    varianza = suma_cuadrados / (n - 1) if n > 1 else 0\n",
        "\n",
        "    # Calcular la desviación estándar\n",
        "    desviacion_estandar = varianza ** 0.5\n",
        "\n",
        "    return {\n",
        "        'maximo': maximo,\n",
        "        'posicion_maximo': posicion_maximo,\n",
        "        'minimo': minimo,\n",
        "        'posicion_minimo': posicion_minimo,\n",
        "        'promedio': promedio,\n",
        "        'mediana': mediana,\n",
        "        'varianza': varianza,\n",
        "        'desviacion_estandar': desviacion_estandar\n",
        "    }\n",
        "\n",
        "# Ejemplo de uso\n",
        "vector = [3, 9, 15, 6, 12, 4, 8, 5, 7, 10, 2, 14, 11, 13, 1, 16, 17, 18, 19, 20]\n",
        "\n",
        "estadisticas = calcular_estadisticas(vector)\n",
        "\n",
        "print(\"Valor máximo:\", estadisticas['maximo'])\n",
        "print(\"Posición del valor máximo:\", estadisticas['posicion_maximo'])\n",
        "print(\"Valor mínimo:\", estadisticas['minimo'])\n",
        "print(\"Posición del valor mínimo:\", estadisticas['posicion_minimo'])\n",
        "print(\"Promedio:\", estadisticas['promedio'])\n",
        "print(\"Mediana:\", estadisticas['mediana'])\n",
        "print(\"Varianza:\", estadisticas['varianza'])\n",
        "print(\"Desviación estándar:\", estadisticas['desviacion_estandar'])\n"
      ],
      "metadata": {
        "id": "pNbQ1XzM61xM",
        "outputId": "6b058a1d-0cea-41e1-ffc0-4da7352436cf",
        "colab": {
          "base_uri": "https://localhost:8080/"
        }
      },
      "execution_count": 103,
      "outputs": [
        {
          "output_type": "stream",
          "name": "stdout",
          "text": [
            "Valor máximo: 20\n",
            "Posición del valor máximo: 19\n",
            "Valor mínimo: 1\n",
            "Posición del valor mínimo: 14\n",
            "Promedio: 10.5\n",
            "Mediana: 10.5\n",
            "Varianza: 35.0\n",
            "Desviación estándar: 5.916079783099616\n"
          ]
        }
      ]
    },
    {
      "cell_type": "markdown",
      "source": [
        "39. Para un vector (lista) de números enteros, calcular e imprimir la suma de los valores pares\n",
        "y el promedio de los impares."
      ],
      "metadata": {
        "id": "54vTkdvI8j1U"
      }
    },
    {
      "cell_type": "code",
      "source": [
        "def calcular_vector(x):\n",
        "  vec_imp = []\n",
        "  vec_par = []\n",
        "  suma_par = 0\n",
        "  suma_imp = 0\n",
        "  for i in x:\n",
        "    if i % 2 == 0:\n",
        "      vec_par.append(i)\n",
        "      suma_par += i\n",
        "    else:\n",
        "      vec_imp.append(i)\n",
        "      suma_imp += i\n",
        "\n",
        "  promedio_imp = suma_imp/len(vec_imp)\n",
        "\n",
        "  return f'La suma de los números pares del vector {x} es: {suma_par}, y el promedio de los impares del vector {x} es: {promedio_imp}'\n",
        "\n",
        "\n",
        "\n",
        "vector = [1, 2, 3, 4, 5, 6, 7, 8, 9, 10]\n",
        "\n",
        "res = calcular_vector(vector)\n",
        "print(res)"
      ],
      "metadata": {
        "id": "9-z9zm4K8sE8",
        "outputId": "57b24fc3-996c-4f42-994f-681d2e5f7cb9",
        "colab": {
          "base_uri": "https://localhost:8080/"
        }
      },
      "execution_count": 106,
      "outputs": [
        {
          "output_type": "stream",
          "name": "stdout",
          "text": [
            "La suma de los números pares del vector [1, 2, 3, 4, 5, 6, 7, 8, 9, 10] es: 30, y el promedio de los impares del vector [1, 2, 3, 4, 5, 6, 7, 8, 9, 10] es: 5.0\n"
          ]
        }
      ]
    },
    {
      "cell_type": "markdown",
      "source": [
        "40. Leer un vector (lista) de enteros, escribir los valores múltiplos de 7."
      ],
      "metadata": {
        "id": "yNj5oUEdBRnW"
      }
    },
    {
      "cell_type": "code",
      "source": [
        "vector = [1, 7, 8, 12, 14, 15, 21, 25, 28]\n",
        "mult_7 = []\n",
        "for i in vector:\n",
        "  if i % 7 == 0:\n",
        "    mult_7.append(i)\n",
        "\n",
        "print(f'Los valores multiplos de 7 que se encuentran en el vector {vector} son: {mult_7}')"
      ],
      "metadata": {
        "id": "VKRvDk5pBU6A",
        "outputId": "cd1ff23d-805e-4fd0-ad8d-8b3538e1a25a",
        "colab": {
          "base_uri": "https://localhost:8080/"
        }
      },
      "execution_count": 107,
      "outputs": [
        {
          "output_type": "stream",
          "name": "stdout",
          "text": [
            "Los valores multiplos de 7 que se encuentran en el vector [1, 7, 8, 12, 14, 15, 21, 25, 28] son: [7, 14, 21, 28]\n"
          ]
        }
      ]
    },
    {
      "cell_type": "markdown",
      "source": [
        "41. Para un vector (lista), calcular y escribir el número de valores repetidos del vector"
      ],
      "metadata": {
        "id": "ScTWP-TLB6oX"
      }
    },
    {
      "cell_type": "code",
      "source": [
        "def contar_repetidos(vector):\n",
        "    # Crear un diccionario para contar las ocurrencias de cada elemento\n",
        "    conteo = {}\n",
        "\n",
        "    for valor in vector:\n",
        "        if valor in conteo:\n",
        "            conteo[valor] += 1\n",
        "        else:\n",
        "            conteo[valor] = 1\n",
        "\n",
        "    # Contar cuántos valores tienen más de una ocurrencia\n",
        "    repetidos = sum(1 for count in conteo.values() if count > 1)\n",
        "\n",
        "    return repetidos\n",
        "\n",
        "# Ejemplo de uso\n",
        "vector = [3, 9, 15, 6, 12, 4, 8, 5, 7, 10, 2, 14, 11, 13, 1, 16, 17, 18, 19, 20, 3, 9]\n",
        "\n",
        "num_repetidos = contar_repetidos(vector)\n",
        "\n",
        "print(\"Número de valores repetidos:\", num_repetidos)"
      ],
      "metadata": {
        "id": "CC9AK5jgB-SZ",
        "outputId": "50d57946-6bb1-4e71-fc2c-ce3de1d72f4c",
        "colab": {
          "base_uri": "https://localhost:8080/"
        }
      },
      "execution_count": 108,
      "outputs": [
        {
          "output_type": "stream",
          "name": "stdout",
          "text": [
            "Número de valores repetidos: 2\n"
          ]
        }
      ]
    },
    {
      "cell_type": "markdown",
      "source": [
        "42. Leer un vector, generar otro que devuelva los mismos elementos pero sin elementos\n",
        "repetidos"
      ],
      "metadata": {
        "id": "dqekVECwEJKN"
      }
    },
    {
      "cell_type": "code",
      "source": [
        "def eliminar_repetidos(vector):\n",
        "    # Usar un conjunto para eliminar duplicados\n",
        "    conjunto = set(vector)\n",
        "\n",
        "    # Convertir el conjunto de vuelta a una lista\n",
        "    vector_sin_repetidos = list(conjunto)\n",
        "\n",
        "    return vector_sin_repetidos\n",
        "\n",
        "# Ejemplo de uso\n",
        "vector = [3, 9, 15, 6, 12, 4, 8, 5, 7, 10, 2, 14, 11, 13, 1, 16, 17, 18, 19, 20, 3, 9]\n",
        "\n",
        "vector_sin_repetidos = eliminar_repetidos(vector)\n",
        "\n",
        "print(\"Vector original:\", vector)\n",
        "print(\"Vector sin elementos repetidos:\", vector_sin_repetidos)\n"
      ],
      "metadata": {
        "id": "nHuNR-eSKgYZ",
        "outputId": "08a4d38c-0d5f-4d23-c97e-3b6d405c9918",
        "colab": {
          "base_uri": "https://localhost:8080/"
        }
      },
      "execution_count": 3,
      "outputs": [
        {
          "output_type": "stream",
          "name": "stdout",
          "text": [
            "Vector original: [3, 9, 15, 6, 12, 4, 8, 5, 7, 10, 2, 14, 11, 13, 1, 16, 17, 18, 19, 20, 3, 9]\n",
            "Vector sin elementos repetidos: [1, 2, 3, 4, 5, 6, 7, 8, 9, 10, 11, 12, 13, 14, 15, 16, 17, 18, 19, 20]\n"
          ]
        }
      ]
    },
    {
      "cell_type": "markdown",
      "source": [
        "43. Leer un vector, calcular y escribir su norma."
      ],
      "metadata": {
        "id": "Dp44CFdSmt5V"
      }
    },
    {
      "cell_type": "code",
      "source": [
        "import math\n",
        "\n",
        "def calcular_norma(vector):\n",
        "    # Calcular la suma de los cuadrados de los elementos del vector\n",
        "    suma_cuadrados = sum(x ** 2 for x in vector)\n",
        "\n",
        "    # Calcular la raíz cuadrada de la suma de los cuadrados\n",
        "    norma = math.sqrt(suma_cuadrados)\n",
        "\n",
        "    return norma\n",
        "\n",
        "# Ejemplo de uso\n",
        "vector = [3, 4, 5]\n",
        "\n",
        "norma = calcular_norma(vector)\n",
        "\n",
        "print(\"Norma del vector:\", norma)"
      ],
      "metadata": {
        "id": "fpU2as82mydy",
        "outputId": "39c83f36-d5df-4199-d965-b1284d0be759",
        "colab": {
          "base_uri": "https://localhost:8080/"
        }
      },
      "execution_count": 4,
      "outputs": [
        {
          "output_type": "stream",
          "name": "stdout",
          "text": [
            "Norma del vector: 7.0710678118654755\n"
          ]
        }
      ]
    },
    {
      "cell_type": "markdown",
      "source": [
        "44. Leer dos vectores, calcular y escribir el ángulo generado entre ellos"
      ],
      "metadata": {
        "id": "WMI2J_MfpJ9-"
      }
    },
    {
      "cell_type": "code",
      "source": [
        "import math\n",
        "\n",
        "def calcular_producto_punto(v1, v2):\n",
        "    # Calcular el producto punto de dos vectores\n",
        "    return sum(x * y for x, y in zip(v1, v2))\n",
        "\n",
        "def calcular_norma(vector):\n",
        "    # Calcular la norma de un vector\n",
        "    suma_cuadrados = sum(x ** 2 for x in vector)\n",
        "    return raiz_cuadrada(suma_cuadrados)\n",
        "\n",
        "def raiz_cuadrada(numero, precision=0.00001):\n",
        "    \"\"\" Calcular la raíz cuadrada de un número usando el método de aproximación de Newton. \"\"\"\n",
        "    estimacion = numero\n",
        "    while abs(estimacion * estimacion - numero) > precision:\n",
        "        estimacion = (estimacion + numero / estimacion) / 2\n",
        "    return estimacion\n",
        "\n",
        "def calcular_angulo(v1, v2):\n",
        "    # Calcular el producto punto\n",
        "    producto_punto = calcular_producto_punto(v1, v2)\n",
        "\n",
        "    # Calcular las normas de los vectores\n",
        "    norma_v1 = calcular_norma(v1)\n",
        "    norma_v2 = calcular_norma(v2)\n",
        "\n",
        "    # Calcular el coseno del ángulo\n",
        "    cos_theta = producto_punto / (norma_v1 * norma_v2)\n",
        "\n",
        "    # Asegurarse de que el valor esté en el rango [-1, 1] debido a posibles errores de precisión\n",
        "    cos_theta = max(-1, min(1, cos_theta))\n",
        "\n",
        "    # Calcular el ángulo en radianes usando arccos\n",
        "    theta = math.acos(cos_theta)\n",
        "\n",
        "    # Convertir a grados\n",
        "    theta_grados = theta * (180 / math.pi)\n",
        "\n",
        "    return theta_grados\n",
        "\n",
        "# Ejemplo de uso\n",
        "vector1 = [1, 2, 3]\n",
        "vector2 = [4, 5, 6]\n",
        "\n",
        "angulo = calcular_angulo(vector1, vector2)\n",
        "\n",
        "print(\"Ángulo entre los vectores (en grados):\", angulo)"
      ],
      "metadata": {
        "id": "RfFW5SSGpNu5",
        "outputId": "29e39874-2473-46f5-bfd9-74a49ea7a01f",
        "colab": {
          "base_uri": "https://localhost:8080/"
        }
      },
      "execution_count": 5,
      "outputs": [
        {
          "output_type": "stream",
          "name": "stdout",
          "text": [
            "Ángulo entre los vectores (en grados): 12.933166647186704\n"
          ]
        }
      ]
    },
    {
      "cell_type": "markdown",
      "source": [
        "45. Leer dos vectores (listas): uno, contiene los códigos de los estudiantes que perdieron\n",
        "Matemáticas; el otro, contiene los códigos de los estudiantes que perdieron Física.\n",
        "Generar y escribir un nuevo vector de los códigos de los estudiantes que perdieron\n",
        "Matemáticas y Física"
      ],
      "metadata": {
        "id": "tOLgR-WOpgPO"
      }
    },
    {
      "cell_type": "code",
      "source": [
        "def encontrar_interseccion(lista1, lista2):\n",
        "    # Crear un conjunto a partir de la primera lista\n",
        "    conjunto1 = set(lista1)\n",
        "\n",
        "    # Crear un conjunto a partir de la segunda lista\n",
        "    conjunto2 = set(lista2)\n",
        "\n",
        "    # Encontrar la intersección de los dos conjuntos\n",
        "    interseccion = conjunto1.intersection(conjunto2)\n",
        "\n",
        "    # Convertir el conjunto de vuelta a una lista\n",
        "    lista_interseccion = list(interseccion)\n",
        "\n",
        "    return lista_interseccion\n",
        "\n",
        "# Ejemplo de uso\n",
        "codigos_matematicas = [101, 102, 103, 104, 105, 106]\n",
        "codigos_fisica = [103, 104, 107, 108, 109]\n",
        "\n",
        "# Obtener los códigos de estudiantes que perdieron tanto Matemáticas como Física\n",
        "codigos_reprobados = encontrar_interseccion(codigos_matematicas, codigos_fisica)\n",
        "\n",
        "print(\"Códigos de estudiantes que perdieron tanto Matemáticas como Física:\", codigos_reprobados)\n"
      ],
      "metadata": {
        "id": "x-qjuS7Lpnt8",
        "outputId": "a171b37e-d670-497b-b32f-e3e4e176f3b8",
        "colab": {
          "base_uri": "https://localhost:8080/"
        }
      },
      "execution_count": 6,
      "outputs": [
        {
          "output_type": "stream",
          "name": "stdout",
          "text": [
            "Códigos de estudiantes que perdieron tanto Matemáticas como Física: [104, 103]\n"
          ]
        }
      ]
    },
    {
      "cell_type": "markdown",
      "source": [
        "46. Realizar algoritmo que lea un vector (lista), correspondientes a los nombres de un grupo\n",
        "de personas y los liste por impresora en orden contrario al que fue leído."
      ],
      "metadata": {
        "id": "GHW0lTGspw7i"
      }
    },
    {
      "cell_type": "code",
      "source": [
        "def imprimir_nombres_invertidos(nombres):\n",
        "    # Invertir la lista de nombres\n",
        "    nombres_invertidos = nombres[::-1]\n",
        "\n",
        "    # Imprimir los nombres en orden inverso\n",
        "    for nombre in nombres_invertidos:\n",
        "        print(nombre)\n",
        "\n",
        "# Ejemplo de uso\n",
        "nombres = [\n",
        "    \"Ana\",\n",
        "    \"Luis\",\n",
        "    \"María\",\n",
        "    \"Carlos\",\n",
        "    \"Sofía\"\n",
        "]\n",
        "\n",
        "print(\"Nombres en orden inverso:\")\n",
        "imprimir_nombres_invertidos(nombres)"
      ],
      "metadata": {
        "id": "oxjQrryZp0Vc",
        "outputId": "e0aa178d-b431-48dc-8991-02c2db299e02",
        "colab": {
          "base_uri": "https://localhost:8080/"
        }
      },
      "execution_count": 7,
      "outputs": [
        {
          "output_type": "stream",
          "name": "stdout",
          "text": [
            "Nombres en orden inverso:\n",
            "Sofía\n",
            "Carlos\n",
            "María\n",
            "Luis\n",
            "Ana\n"
          ]
        }
      ]
    },
    {
      "cell_type": "markdown",
      "source": [
        "47. Dado un vector, generar otros dos vectores; uno, con los elementos pares y otro, con los\n",
        "elementos impares del vector original"
      ],
      "metadata": {
        "id": "nNV1sKZ6qIBE"
      }
    },
    {
      "cell_type": "code",
      "source": [
        "def separar_pares_impares(vector):\n",
        "    # Crear dos listas vacías para pares e impares\n",
        "    pares = []\n",
        "    impares = []\n",
        "\n",
        "    # Iterar sobre el vector original\n",
        "    for elemento in vector:\n",
        "        if elemento % 2 == 0:\n",
        "            pares.append(elemento)\n",
        "        else:\n",
        "            impares.append(elemento)\n",
        "\n",
        "    return pares, impares\n",
        "\n",
        "# Ejemplo de uso\n",
        "vector_original = [10, 15, 20, 25, 30, 35, 40, 45]\n",
        "\n",
        "# Obtener los vectores de pares e impares\n",
        "vectores_pares, vectores_impares = separar_pares_impares(vector_original)\n",
        "\n",
        "print(\"Vectores de elementos pares:\", vectores_pares)\n",
        "print(\"Vectores de elementos impares:\", vectores_impares)"
      ],
      "metadata": {
        "id": "VQM5CpOCqLLy",
        "outputId": "817f59ad-fcc0-4535-ea72-7bd3771482da",
        "colab": {
          "base_uri": "https://localhost:8080/"
        }
      },
      "execution_count": 8,
      "outputs": [
        {
          "output_type": "stream",
          "name": "stdout",
          "text": [
            "Vectores de elementos pares: [10, 20, 30, 40]\n",
            "Vectores de elementos impares: [15, 25, 35, 45]\n"
          ]
        }
      ]
    },
    {
      "cell_type": "markdown",
      "source": [
        "48. Leer 2 vectores, calcular y escribir si son iguales."
      ],
      "metadata": {
        "id": "jPwGH7VNqdbF"
      }
    },
    {
      "cell_type": "code",
      "source": [
        "def son_vectores_iguales(vector1, vector2):\n",
        "    # Verificar si los vectores tienen la misma longitud\n",
        "    if len(vector1) != len(vector2):\n",
        "        return False\n",
        "\n",
        "    # Comparar cada elemento en la misma posición\n",
        "    for elemento1, elemento2 in zip(vector1, vector2):\n",
        "        if elemento1 != elemento2:\n",
        "            return False\n",
        "\n",
        "    return True\n",
        "\n",
        "# Ejemplo de uso\n",
        "vector1 = [1, 2, 3, 4, 5]\n",
        "vector2 = [1, 2, 3, 4, 5]\n",
        "\n",
        "vector3 = [1, 2, 3, 4, 6]\n",
        "\n",
        "# Comparar los vectores\n",
        "son_iguales1 = son_vectores_iguales(vector1, vector2)\n",
        "son_iguales2 = son_vectores_iguales(vector1, vector3)\n",
        "\n",
        "print(\"El primer par de vectores es igual:\", son_iguales1)\n",
        "print(\"El segundo par de vectores es igual:\", son_iguales2)\n"
      ],
      "metadata": {
        "id": "PBjyHsbXqpvc",
        "outputId": "1fd894e3-a0c3-42f0-e9d0-93fcca96e212",
        "colab": {
          "base_uri": "https://localhost:8080/"
        }
      },
      "execution_count": 9,
      "outputs": [
        {
          "output_type": "stream",
          "name": "stdout",
          "text": [
            "El primer par de vectores es igual: True\n",
            "El segundo par de vectores es igual: False\n"
          ]
        }
      ]
    },
    {
      "cell_type": "markdown",
      "source": [
        "49. Leer 2 vectores que representen conjuntos. Diseñar los métodos que calculen y escriban\n",
        "el conjunto unión, el conjunto intersección. Debe tenerse en cuenta que los conjuntos no\n",
        "tienen elementos repetidos."
      ],
      "metadata": {
        "id": "A7cEqUsSqv8B"
      }
    },
    {
      "cell_type": "code",
      "source": [
        "def calcular_union(vector1, vector2):\n",
        "    # Convertir las listas en conjuntos para eliminar duplicados y realizar la operación de unión\n",
        "    conjunto1 = set(vector1)\n",
        "    conjunto2 = set(vector2)\n",
        "\n",
        "    # Calcular la unión de los dos conjuntos\n",
        "    union = conjunto1.union(conjunto2)\n",
        "\n",
        "    # Convertir el conjunto resultante a una lista\n",
        "    return list(union)\n",
        "\n",
        "def calcular_interseccion(vector1, vector2):\n",
        "    # Convertir las listas en conjuntos para eliminar duplicados y realizar la operación de intersección\n",
        "    conjunto1 = set(vector1)\n",
        "    conjunto2 = set(vector2)\n",
        "\n",
        "    # Calcular la intersección de los dos conjuntos\n",
        "    interseccion = conjunto1.intersection(conjunto2)\n",
        "\n",
        "    # Convertir el conjunto resultante a una lista\n",
        "    return list(interseccion)\n",
        "\n",
        "# Ejemplo de uso\n",
        "vector1 = [1, 2, 3, 4, 5]\n",
        "vector2 = [4, 5, 6, 7, 8]\n",
        "\n",
        "# Calcular y mostrar la unión de los conjuntos\n",
        "union = calcular_union(vector1, vector2)\n",
        "print(\"Conjunto unión:\", union)\n",
        "\n",
        "# Calcular y mostrar la intersección de los conjuntos\n",
        "interseccion = calcular_interseccion(vector1, vector2)\n",
        "print(\"Conjunto intersección:\", interseccion)"
      ],
      "metadata": {
        "id": "mInDnIyJqzMi",
        "outputId": "41282a3c-0f02-423c-8fb2-754e37c43be2",
        "colab": {
          "base_uri": "https://localhost:8080/"
        }
      },
      "execution_count": 10,
      "outputs": [
        {
          "output_type": "stream",
          "name": "stdout",
          "text": [
            "Conjunto unión: [1, 2, 3, 4, 5, 6, 7, 8]\n",
            "Conjunto intersección: [4, 5]\n"
          ]
        }
      ]
    },
    {
      "cell_type": "markdown",
      "source": [
        "50. Dado un valor entre 0 y 100. Escribirlo en letras. Por ejemplo 43, debe escribir cuarenta\n",
        "y tres"
      ],
      "metadata": {
        "id": "y2NI1mOTrRH4"
      }
    },
    {
      "cell_type": "code",
      "source": [
        "def numero_a_palabras(numero):\n",
        "    if not (0 <= numero <= 100):\n",
        "        raise ValueError(\"El número debe estar entre 0 y 100\")\n",
        "\n",
        "    unidades = [\"cero\", \"uno\", \"dos\", \"tres\", \"cuatro\", \"cinco\", \"seis\", \"siete\", \"ocho\", \"nueve\"]\n",
        "    diez_a_quinientos = [\"diez\", \"once\", \"doce\", \"trece\", \"catorce\", \"quince\"]\n",
        "    dieciséis_a_veintinueve = [\"dieciséis\", \"diecisiete\", \"dieciocho\", \"diecinueve\", \"veinte\",\n",
        "                              \"veintiuno\", \"veintidós\", \"veintitrés\", \"veinticuatro\", \"veinticinco\",\n",
        "                              \"veintiséis\", \"veintisiete\", \"veintiocho\", \"veintinueve\"]\n",
        "    decenas = [\"\", \"\", \"veinte\", \"treinta\", \"cuarenta\", \"cincuenta\", \"sesenta\", \"setenta\", \"ochenta\", \"noventa\"]\n",
        "\n",
        "    if numero == 100:\n",
        "        return \"cien\"\n",
        "\n",
        "    if 0 <= numero < 10:\n",
        "        return unidades[numero]\n",
        "\n",
        "    if 10 <= numero < 16:\n",
        "        return diez_a_quinientos[numero - 10]\n",
        "\n",
        "    if 16 <= numero < 30:\n",
        "        return dieciséis_a_veintinueve[numero - 16]\n",
        "\n",
        "    if 30 <= numero < 100:\n",
        "        decena = numero // 10\n",
        "        unidad = numero % 10\n",
        "        if unidad == 0:\n",
        "            return decenas[decena]\n",
        "        else:\n",
        "            return f\"{decenas[decena]} y {unidades[unidad]}\"\n",
        "\n",
        "# Ejemplo de uso\n",
        "numero = 43\n",
        "print(f\"{numero} en palabras es: {numero_a_palabras(numero)}\")\n"
      ],
      "metadata": {
        "id": "30W6AU3LrUDA",
        "outputId": "2492354b-3d81-4343-e27d-92876ac656c6",
        "colab": {
          "base_uri": "https://localhost:8080/"
        }
      },
      "execution_count": 11,
      "outputs": [
        {
          "output_type": "stream",
          "name": "stdout",
          "text": [
            "43 en palabras es: cuarenta y tres\n"
          ]
        }
      ]
    },
    {
      "cell_type": "markdown",
      "source": [
        " 51. Leer un vector (lista) con valores estandarizados entre 1 y 100. Generar y escribir un\n",
        "histograma con las frecuencias de cada valor. Se debe usar el carácter asterisco (‘*’).\n",
        "Por ejemplo, la secuencia: 4, 4,4,2,75,4,20, 1, 2, 20, 3, 3,4,4,4,53,3,60,75,90 debe:\n",
        "1: *\n",
        "2: **\n",
        "3: ***\n",
        "4: *******\n",
        "4: ***\n",
        "20:**\n",
        "53:*\n",
        "60:*\n",
        "75:**\n",
        "90:*"
      ],
      "metadata": {
        "id": "WUvIF7R8rcIk"
      }
    },
    {
      "cell_type": "code",
      "source": [
        "from collections import Counter\n",
        "\n",
        "# Definir la lista de valores\n",
        "valores = [4, 4, 4, 2, 75, 4, 20, 1, 2, 20, 3, 3, 4, 4, 4, 53, 3, 60, 75, 90]\n",
        "\n",
        "# Contar las frecuencias de cada valor\n",
        "frecuencias = Counter(valores)\n",
        "\n",
        "# Imprimir el histograma\n",
        "for valor in sorted(frecuencias):\n",
        "    print(f\"{valor}: {'*' * frecuencias[valor]}\")\n"
      ],
      "metadata": {
        "id": "HLjR4q45rf4K",
        "outputId": "4f5a11e4-bd14-4d29-f6e4-a8a41aee964c",
        "colab": {
          "base_uri": "https://localhost:8080/"
        }
      },
      "execution_count": 12,
      "outputs": [
        {
          "output_type": "stream",
          "name": "stdout",
          "text": [
            "1: *\n",
            "2: **\n",
            "3: ***\n",
            "4: *******\n",
            "20: **\n",
            "53: *\n",
            "60: *\n",
            "75: **\n",
            "90: *\n"
          ]
        }
      ]
    }
  ]
}