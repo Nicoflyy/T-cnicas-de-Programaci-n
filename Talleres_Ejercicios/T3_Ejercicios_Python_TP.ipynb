{
  "nbformat": 4,
  "nbformat_minor": 0,
  "metadata": {
    "colab": {
      "provenance": [],
      "authorship_tag": "ABX9TyNqhTL5xrWPtxrI7i2HKm8+",
      "include_colab_link": true
    },
    "kernelspec": {
      "name": "python3",
      "display_name": "Python 3"
    },
    "language_info": {
      "name": "python"
    }
  },
  "cells": [
    {
      "cell_type": "markdown",
      "metadata": {
        "id": "view-in-github",
        "colab_type": "text"
      },
      "source": [
        "<a href=\"https://colab.research.google.com/github/Nicoflyy/T-cnicas-de-Programaci-n/blob/main/Talleres_Ejercicios/T3_Ejercicios_Python_TP.ipynb\" target=\"_parent\"><img src=\"https://colab.research.google.com/assets/colab-badge.svg\" alt=\"Open In Colab\"/></a>"
      ]
    },
    {
      "cell_type": "markdown",
      "source": [
        " 1. Leer una base real y un exponente entero, implementar y escribir su potencia con sólo multiplicaciones y sumas."
      ],
      "metadata": {
        "id": "a0fkxcMxSwQe"
      }
    },
    {
      "cell_type": "code",
      "execution_count": 19,
      "metadata": {
        "colab": {
          "base_uri": "https://localhost:8080/"
        },
        "id": "_kDqVozGSeuv",
        "outputId": "edffabb6-7370-4f88-ee6d-411a64b27ace"
      },
      "outputs": [
        {
          "output_type": "stream",
          "name": "stdout",
          "text": [
            "Ingrese un numero real: 5\n",
            "Ingrese un numero entero: -3\n",
            "0.008\n"
          ]
        }
      ],
      "source": [
        "def potencia(R,E):\n",
        "  if E == 0:\n",
        "    return 1\n",
        "  elif E < 0:\n",
        "    E = -E\n",
        "    R = 1/R\n",
        "\n",
        "  resultado = 1\n",
        "  for _ in range(E):\n",
        "    resultado *= R\n",
        "  return round(resultado, 3)\n",
        "\n",
        "\n",
        "R = float(input('Ingrese un numero real: '))\n",
        "E = int(input('Ingrese un numero entero: '))\n",
        "rsp = potencia(R,E)\n",
        "print(rsp)\n",
        "\n"
      ]
    },
    {
      "cell_type": "markdown",
      "source": [
        "2. Diseñar un algoritmo que encuentre el entero positivo más pequeño (num) para el cual la suma 1 + 2 + 3 + .... + num es mayor que un límite dado (lim)."
      ],
      "metadata": {
        "id": "KjXuUusIdF1O"
      }
    },
    {
      "cell_type": "code",
      "source": [
        "def lim(limite):\n",
        "  suma = 0\n",
        "  num = 0\n",
        "\n",
        "  while suma <= limite:\n",
        "    num += 1\n",
        "    suma += num\n",
        "  return num\n",
        "\n",
        "limite = int(input('Ingrese un limite para la suma: '))\n",
        "rta = lim(limite)\n",
        "print(rta)"
      ],
      "metadata": {
        "colab": {
          "base_uri": "https://localhost:8080/"
        },
        "id": "2bCx7VSffdXW",
        "outputId": "305f3f6d-0396-4d02-893f-d6e085edac3c"
      },
      "execution_count": 26,
      "outputs": [
        {
          "output_type": "stream",
          "name": "stdout",
          "text": [
            "Ingrese un limite para la suma: 4\n",
            "(3, 6)\n"
          ]
        }
      ]
    },
    {
      "cell_type": "markdown",
      "source": [
        "3. Diseñar un algoritmo que lea las notas de Matemáticas y Física de un grupo de 25 estudiantes. Determinar y escribir cuántos ganaron las dos y cuántos perdieron al menos una."
      ],
      "metadata": {
        "id": "e6iQE0Gthi_Z"
      }
    },
    {
      "cell_type": "code",
      "source": [
        "def leer_notas():\n",
        "    notas_matematicas = []\n",
        "    notas_fisica = []\n",
        "\n",
        "    for i in range(25):\n",
        "        nota_matematicas = float(input(f\"Ingrese la nota de Matemáticas para el estudiante {i+1}: \"))\n",
        "        nota_fisica = float(input(f\"Ingrese la nota de Física para el estudiante {i+1}: \"))\n",
        "\n",
        "        notas_matematicas.append(nota_matematicas)\n",
        "        notas_fisica.append(nota_fisica)\n",
        "\n",
        "    return notas_matematicas, notas_fisica\n",
        "\n",
        "def contar_notas(notas_matematicas, notas_fisica):\n",
        "    ganaron_ambas = 0\n",
        "    perdieron_al_menos_una = 0\n",
        "\n",
        "    for i in range(25):\n",
        "        if notas_matematicas[i] >= 3 and notas_fisica[i] >= 3:\n",
        "            ganaron_ambas += 1\n",
        "        elif notas_matematicas[i] < 3 or notas_fisica[i] < 3:\n",
        "            perdieron_al_menos_una += 1\n",
        "\n",
        "    return ganaron_ambas, perdieron_al_menos_una\n",
        "\n",
        "def main():\n",
        "    notas_matematicas, notas_fisica = leer_notas()\n",
        "    ganaron_ambas, perdieron_al_menos_una = contar_notas(notas_matematicas, notas_fisica)\n",
        "\n",
        "    print(f\"Ganaron en ambas materias: {ganaron_ambas} estudiantes\")\n",
        "    print(f\"Perdieron al menos una materia: {perdieron_al_menos_una} estudiantes\")\n",
        "\n",
        "main()\n"
      ],
      "metadata": {
        "colab": {
          "base_uri": "https://localhost:8080/",
          "height": 402
        },
        "id": "9fypN-nmqr7L",
        "outputId": "8af758d4-f6d8-412a-8bdb-5f7774aee148"
      },
      "execution_count": 43,
      "outputs": [
        {
          "name": "stdout",
          "output_type": "stream",
          "text": [
            "Ingrese la nota de Matemáticas para el estudiante 1: 4\n",
            "Ingrese la nota de Física para el estudiante 1: 6\n",
            "Ingrese la nota de Matemáticas para el estudiante 2: 1\n",
            "Ingrese la nota de Física para el estudiante 2: 4\n"
          ]
        },
        {
          "output_type": "error",
          "ename": "NameError",
          "evalue": "name 'notas_matematicas' is not defined",
          "traceback": [
            "\u001b[0;31m---------------------------------------------------------------------------\u001b[0m",
            "\u001b[0;31mNameError\u001b[0m                                 Traceback (most recent call last)",
            "\u001b[0;32m<ipython-input-43-f14c4c2e264a>\u001b[0m in \u001b[0;36m<cell line: 28>\u001b[0;34m()\u001b[0m\n\u001b[1;32m     26\u001b[0m \u001b[0;34m\u001b[0m\u001b[0m\n\u001b[1;32m     27\u001b[0m \u001b[0mnotas\u001b[0m \u001b[0;34m=\u001b[0m \u001b[0mleer_notas\u001b[0m\u001b[0;34m(\u001b[0m\u001b[0;34m)\u001b[0m\u001b[0;34m\u001b[0m\u001b[0;34m\u001b[0m\u001b[0m\n\u001b[0;32m---> 28\u001b[0;31m \u001b[0mcontador\u001b[0m \u001b[0;34m=\u001b[0m \u001b[0mcontar_notas\u001b[0m\u001b[0;34m(\u001b[0m\u001b[0mnotas\u001b[0m\u001b[0;34m)\u001b[0m\u001b[0;34m\u001b[0m\u001b[0;34m\u001b[0m\u001b[0m\n\u001b[0m\u001b[1;32m     29\u001b[0m \u001b[0mprint\u001b[0m\u001b[0;34m(\u001b[0m\u001b[0mcontador\u001b[0m\u001b[0;34m)\u001b[0m\u001b[0;34m\u001b[0m\u001b[0;34m\u001b[0m\u001b[0m\n\u001b[1;32m     30\u001b[0m \u001b[0;34m\u001b[0m\u001b[0m\n",
            "\u001b[0;32m<ipython-input-43-f14c4c2e264a>\u001b[0m in \u001b[0;36mcontar_notas\u001b[0;34m(notas)\u001b[0m\n\u001b[1;32m     18\u001b[0m \u001b[0;34m\u001b[0m\u001b[0m\n\u001b[1;32m     19\u001b[0m     \u001b[0;32mfor\u001b[0m \u001b[0mi\u001b[0m \u001b[0;32min\u001b[0m \u001b[0mrange\u001b[0m\u001b[0;34m(\u001b[0m\u001b[0;36m2\u001b[0m\u001b[0;34m)\u001b[0m\u001b[0;34m:\u001b[0m\u001b[0;34m\u001b[0m\u001b[0;34m\u001b[0m\u001b[0m\n\u001b[0;32m---> 20\u001b[0;31m         \u001b[0;32mif\u001b[0m \u001b[0mnotas_matematicas\u001b[0m\u001b[0;34m[\u001b[0m\u001b[0mi\u001b[0m\u001b[0;34m]\u001b[0m \u001b[0;34m>=\u001b[0m \u001b[0;36m3\u001b[0m \u001b[0;32mand\u001b[0m \u001b[0mnotas_fisica\u001b[0m\u001b[0;34m[\u001b[0m\u001b[0mi\u001b[0m\u001b[0;34m]\u001b[0m \u001b[0;34m>=\u001b[0m \u001b[0;36m3\u001b[0m\u001b[0;34m:\u001b[0m\u001b[0;34m\u001b[0m\u001b[0;34m\u001b[0m\u001b[0m\n\u001b[0m\u001b[1;32m     21\u001b[0m             \u001b[0mganaron_ambas\u001b[0m \u001b[0;34m+=\u001b[0m \u001b[0;36m1\u001b[0m\u001b[0;34m\u001b[0m\u001b[0;34m\u001b[0m\u001b[0m\n\u001b[1;32m     22\u001b[0m         \u001b[0;32melif\u001b[0m \u001b[0mnotas_matematicas\u001b[0m\u001b[0;34m[\u001b[0m\u001b[0mi\u001b[0m\u001b[0;34m]\u001b[0m \u001b[0;34m<\u001b[0m \u001b[0;36m3\u001b[0m \u001b[0;32mor\u001b[0m \u001b[0mnotas_fisica\u001b[0m\u001b[0;34m[\u001b[0m\u001b[0mi\u001b[0m\u001b[0;34m]\u001b[0m \u001b[0;34m<\u001b[0m \u001b[0;36m3\u001b[0m\u001b[0;34m:\u001b[0m\u001b[0;34m\u001b[0m\u001b[0;34m\u001b[0m\u001b[0m\n",
            "\u001b[0;31mNameError\u001b[0m: name 'notas_matematicas' is not defined"
          ]
        }
      ]
    },
    {
      "cell_type": "markdown",
      "source": [
        "4. Calcular y escribir los primeros 150 números de Fibonacci."
      ],
      "metadata": {
        "id": "QNR87ImHt0LD"
      }
    },
    {
      "cell_type": "code",
      "source": [
        "def fibonacci(lim):\n",
        "  fib = [0,1]\n",
        "\n",
        "  for i in range(2, lim):\n",
        "    fib.append(fib[i-1] + fib[i-2])\n",
        "  return fib\n",
        "\n",
        "\n",
        "limite = 150\n",
        "respuesta = fibonacci(limite)\n",
        "print(respuesta)\n",
        "\n"
      ],
      "metadata": {
        "colab": {
          "base_uri": "https://localhost:8080/"
        },
        "id": "s9i-WOZUuGVj",
        "outputId": "57d9da94-7713-4023-874c-e7f9c38952ac"
      },
      "execution_count": 38,
      "outputs": [
        {
          "output_type": "stream",
          "name": "stdout",
          "text": [
            "[0, 1, 1, 2, 3, 5, 8, 13, 21, 34, 55, 89, 144, 233, 377, 610, 987, 1597, 2584, 4181, 6765, 10946, 17711, 28657, 46368, 75025, 121393, 196418, 317811, 514229, 832040, 1346269, 2178309, 3524578, 5702887, 9227465, 14930352, 24157817, 39088169, 63245986, 102334155, 165580141, 267914296, 433494437, 701408733, 1134903170, 1836311903, 2971215073, 4807526976, 7778742049, 12586269025, 20365011074, 32951280099, 53316291173, 86267571272, 139583862445, 225851433717, 365435296162, 591286729879, 956722026041, 1548008755920, 2504730781961, 4052739537881, 6557470319842, 10610209857723, 17167680177565, 27777890035288, 44945570212853, 72723460248141, 117669030460994, 190392490709135, 308061521170129, 498454011879264, 806515533049393, 1304969544928657, 2111485077978050, 3416454622906707, 5527939700884757, 8944394323791464, 14472334024676221, 23416728348467685, 37889062373143906, 61305790721611591, 99194853094755497, 160500643816367088, 259695496911122585, 420196140727489673, 679891637638612258, 1100087778366101931, 1779979416004714189, 2880067194370816120, 4660046610375530309, 7540113804746346429, 12200160415121876738, 19740274219868223167, 31940434634990099905, 51680708854858323072, 83621143489848422977, 135301852344706746049, 218922995834555169026, 354224848179261915075, 573147844013817084101, 927372692193078999176, 1500520536206896083277, 2427893228399975082453, 3928413764606871165730, 6356306993006846248183, 10284720757613717413913, 16641027750620563662096, 26925748508234281076009, 43566776258854844738105, 70492524767089125814114, 114059301025943970552219, 184551825793033096366333, 298611126818977066918552, 483162952612010163284885, 781774079430987230203437, 1264937032042997393488322, 2046711111473984623691759, 3311648143516982017180081, 5358359254990966640871840, 8670007398507948658051921, 14028366653498915298923761, 22698374052006863956975682, 36726740705505779255899443, 59425114757512643212875125, 96151855463018422468774568, 155576970220531065681649693, 251728825683549488150424261, 407305795904080553832073954, 659034621587630041982498215, 1066340417491710595814572169, 1725375039079340637797070384, 2791715456571051233611642553, 4517090495650391871408712937, 7308805952221443105020355490, 11825896447871834976429068427, 19134702400093278081449423917, 30960598847965113057878492344, 50095301248058391139327916261, 81055900096023504197206408605, 131151201344081895336534324866, 212207101440105399533740733471, 343358302784187294870275058337, 555565404224292694404015791808, 898923707008479989274290850145, 1454489111232772683678306641953, 2353412818241252672952597492098, 3807901929474025356630904134051, 6161314747715278029583501626149]\n"
          ]
        }
      ]
    },
    {
      "cell_type": "markdown",
      "source": [
        "5. Leer un valor, calcular y escribir su logaritmo en una base dada. Por ejemplo logaritmo en base 2 de 8, debe imprimir 3"
      ],
      "metadata": {
        "id": "R5peB8IS8bn-"
      }
    },
    {
      "cell_type": "code",
      "source": [
        "import math\n",
        "\n",
        "def logaritmo(x, base):\n",
        "  y = math.log(x, base)\n",
        "  return y\n",
        "\n",
        "base = float(input('Ingrese la base del logaritmo: '))\n",
        "x = float(input('Ingrese el valor al cual le quiere calcular el logaritmo: '))\n",
        "\n",
        "respuesta = logaritmo(x, base)\n",
        "print(respuesta)"
      ],
      "metadata": {
        "colab": {
          "base_uri": "https://localhost:8080/"
        },
        "id": "OuVVbDo98h-1",
        "outputId": "17e03ea8-e9a7-48a8-ba9d-006a48414282"
      },
      "execution_count": 40,
      "outputs": [
        {
          "output_type": "stream",
          "name": "stdout",
          "text": [
            "Ingrese la base del logaritmo: 2\n",
            "Ingrese el valor al cual le quiere calcular el logaritmo: 8\n",
            "3.0\n"
          ]
        }
      ]
    }
  ]
}