{
  "nbformat": 4,
  "nbformat_minor": 0,
  "metadata": {
    "colab": {
      "provenance": [],
      "authorship_tag": "ABX9TyNCEN7idxkO024YiEtkN1pX",
      "include_colab_link": true
    },
    "kernelspec": {
      "name": "python3",
      "display_name": "Python 3"
    },
    "language_info": {
      "name": "python"
    }
  },
  "cells": [
    {
      "cell_type": "markdown",
      "metadata": {
        "id": "view-in-github",
        "colab_type": "text"
      },
      "source": [
        "<a href=\"https://colab.research.google.com/github/Nicoflyy/T-cnicas-de-Programaci-n/blob/main/Talleres_Ejercicios/T10_Graphos_TP.ipynb\" target=\"_parent\"><img src=\"https://colab.research.google.com/assets/colab-badge.svg\" alt=\"Open In Colab\"/></a>"
      ]
    },
    {
      "cell_type": "code",
      "source": [
        "# Clase Vertex\n",
        "class Vertex:\n",
        "    def __init__(self, key):\n",
        "        self.id = key\n",
        "        self.connectedTo = {}\n",
        "\n",
        "    def addNeighbor(self, nbr, weight = 0):\n",
        "        self.connectedTo[nbr] = weight\n",
        "\n",
        "    def __str__(self):\n",
        "        return str(self.id) + ' conectado a ' + ...\n",
        "        str([x.id for x in self.connectedTo])\n",
        "\n",
        "    def getConnections(self):\n",
        "        return self.connectedTo.keys()\n",
        "\n",
        "    def getId(self):\n",
        "        return self.id\n",
        "\n",
        "    def getWeight(self, nbr):\n",
        "        return self.connectedTo[nbr]"
      ],
      "metadata": {
        "id": "phE8BHYcgxXg"
      },
      "execution_count": 2,
      "outputs": []
    },
    {
      "cell_type": "code",
      "execution_count": 6,
      "metadata": {
        "id": "uxousvWSglCE"
      },
      "outputs": [],
      "source": [
        "# Clase Graph\n",
        "\n",
        "class Graph:\n",
        "    def __init__(self):\n",
        "        self.vertList = {}\n",
        "        self.numVertices = 0\n",
        "\n",
        "    def addVertex(self, key):\n",
        "        self.numVertices = self.numVertices + 1\n",
        "        newVertex = Vertex(key)\n",
        "        self.vertList[key] = newVertex\n",
        "        return newVertex\n",
        "\n",
        "    def getVertex(self, n):\n",
        "        if n in self.vertList:\n",
        "            return self.vertList[n]\n",
        "\n",
        "    def __contains__(self, n):\n",
        "        return n in self.vertList\n",
        "\n",
        "    def addEdge(self, f, t, weight = 0):\n",
        "        if f not in self.vertList:\n",
        "            nv = self.addVertex(f)\n",
        "        if t not in self.vertList:\n",
        "            nv = self.addVertex(t)\n",
        "        self.vertList[f].addNeighbor(self.vertList[t], weight)\n",
        "\n",
        "    def getVertices(self):\n",
        "        return self.vertList.keys()\n",
        "\n",
        "    def __iter__(self):\n",
        "        return iter(self.vertList.values())\n"
      ]
    },
    {
      "cell_type": "markdown",
      "source": [
        "1. Una función que, para un grafo no dirigido sin ponderación, en el que se dan el número de nodos y los enlaces entre ellos, crear la matriz de adyacencia."
      ],
      "metadata": {
        "id": "whZ39mukBg85"
      }
    },
    {
      "cell_type": "code",
      "source": [
        "# Función para crear la matriz de adyacencia\n",
        "def crear_matriz_adyacencia(num_nodos, enlaces):\n",
        "    # Inicializamos un grafo\n",
        "    grafo = Graph()\n",
        "\n",
        "    # Agregamos los vértices\n",
        "    for i in range(num_nodos):\n",
        "        grafo.addVertex(i)\n",
        "\n",
        "    # Agregamos las aristas (enlaces) al grafo\n",
        "    for enlace in enlaces:\n",
        "        f, t = enlace\n",
        "        grafo.addEdge(f, t)\n",
        "        grafo.addEdge(t, f)  # Como es un grafo no dirigido\n",
        "\n",
        "    # Inicializamos la matriz de adyacencia\n",
        "    matriz_adyacencia = [[0] * num_nodos for _ in range(num_nodos)]\n",
        "\n",
        "    # Rellenamos la matriz de adyacencia\n",
        "    for vertice in grafo:\n",
        "        id_vertice = vertice.getId()\n",
        "        for vecino in vertice.getConnections():\n",
        "            id_vecino = vecino.getId()\n",
        "            matriz_adyacencia[id_vertice][id_vecino] = 1\n",
        "\n",
        "    return matriz_adyacencia\n"
      ],
      "metadata": {
        "id": "SEafmNjWg0Rh"
      },
      "execution_count": 9,
      "outputs": []
    },
    {
      "cell_type": "code",
      "source": [
        "num_nodos = 4\n",
        "enlaces = [(0, 1), (0, 2), (1, 2), (2, 3)]\n",
        "\n",
        "matriz = crear_matriz_adyacencia(num_nodos, enlaces)\n",
        "for fila in matriz:\n",
        "    print(fila)\n"
      ],
      "metadata": {
        "colab": {
          "base_uri": "https://localhost:8080/"
        },
        "id": "jE5fWsr3BRNI",
        "outputId": "fdc93f42-baa4-445e-fefe-2ee54a1bad9c"
      },
      "execution_count": 10,
      "outputs": [
        {
          "output_type": "stream",
          "name": "stdout",
          "text": [
            "[0, 1, 1, 0]\n",
            "[1, 0, 1, 0]\n",
            "[1, 1, 0, 1]\n",
            "[0, 0, 1, 0]\n"
          ]
        }
      ]
    },
    {
      "cell_type": "markdown",
      "source": [
        "2. Una función que, para un grafo dirigido sin ponderación, en el que se dan el número de nodos y los enlaces entre ellos, crear la matriz de adyacencia"
      ],
      "metadata": {
        "id": "6AoRqpcNBlgo"
      }
    },
    {
      "cell_type": "code",
      "source": [
        "# Función para crear la matriz de adyacencia de un grafo dirigido\n",
        "def crear_matriz_adyacencia_dirigido(num_nodos, enlaces):\n",
        "    # Inicializamos un grafo\n",
        "    grafo = Graph()\n",
        "\n",
        "    # Agregamos los vértices\n",
        "    for i in range(num_nodos):\n",
        "        grafo.addVertex(i)\n",
        "\n",
        "    # Agregamos las aristas dirigidas al grafo\n",
        "    for enlace in enlaces:\n",
        "        f, t = enlace\n",
        "        grafo.addEdge(f, t)  # Solo en una dirección\n",
        "\n",
        "    # Inicializamos la matriz de adyacencia\n",
        "    matriz_adyacencia = [[0] * num_nodos for _ in range(num_nodos)]\n",
        "\n",
        "    # Rellenamos la matriz de adyacencia\n",
        "    for vertice in grafo:\n",
        "        id_vertice = vertice.getId()\n",
        "        for vecino in vertice.getConnections():\n",
        "            id_vecino = vecino.getId()\n",
        "            matriz_adyacencia[id_vertice][id_vecino] = 1\n",
        "\n",
        "    return matriz_adyacencia\n"
      ],
      "metadata": {
        "id": "NHJ4xmmRDJd0"
      },
      "execution_count": 11,
      "outputs": []
    },
    {
      "cell_type": "code",
      "source": [
        "num_nodos = 4\n",
        "enlaces = [(0, 1), (0, 2), (1, 2), (2, 3)]\n",
        "\n",
        "matriz = crear_matriz_adyacencia_dirigido(num_nodos, enlaces)\n",
        "for fila in matriz:\n",
        "    print(fila)\n"
      ],
      "metadata": {
        "colab": {
          "base_uri": "https://localhost:8080/"
        },
        "id": "yuwOe5jDDQPi",
        "outputId": "a556e6ac-6510-4ce1-ddf4-d58a6060a3af"
      },
      "execution_count": 12,
      "outputs": [
        {
          "output_type": "stream",
          "name": "stdout",
          "text": [
            "[0, 1, 1, 0]\n",
            "[0, 0, 1, 0]\n",
            "[0, 0, 0, 1]\n",
            "[0, 0, 0, 0]\n"
          ]
        }
      ]
    },
    {
      "cell_type": "markdown",
      "source": [
        "3. Una función que, dada una matriz de adyacencia de un grafo no dirigido, determine si existe enlace entre dos nodos dados."
      ],
      "metadata": {
        "id": "fgeceX0JDWiU"
      }
    },
    {
      "cell_type": "code",
      "source": [
        "# Función para verificar si existe un enlace entre dos nodos en una matriz de adyacencia\n",
        "def existe_enlace(matriz_adyacencia, nodo1, nodo2):\n",
        "    # Verificamos si el valor en la posición [nodo1][nodo2] es 1 (lo mismo que [nodo2][nodo1] porque es no dirigido)\n",
        "    if matriz_adyacencia[nodo1][nodo2] == 1:\n",
        "        return True\n",
        "    else:\n",
        "        return False\n"
      ],
      "metadata": {
        "id": "boI89N0jDZyt"
      },
      "execution_count": 13,
      "outputs": []
    },
    {
      "cell_type": "code",
      "source": [
        "# Supongamos que tenemos la siguiente matriz de adyacencia para un grafo no dirigido:\n",
        "# Nodo 0 está conectado a 1 y 2\n",
        "# Nodo 1 está conectado a 0 y 2\n",
        "# Nodo 2 está conectado a 0, 1, y 3\n",
        "# Nodo 3 está conectado solo a 2\n",
        "matriz_adyacencia = [\n",
        "    [0, 1, 1, 0],  # Nodo 0\n",
        "    [1, 0, 1, 0],  # Nodo 1\n",
        "    [1, 1, 0, 1],  # Nodo 2\n",
        "    [0, 0, 1, 0]   # Nodo 3\n",
        "]\n",
        "\n",
        "# Verificamos si hay enlace entre el nodo 0 y el nodo 1\n",
        "print(existe_enlace(matriz_adyacencia, 0, 1))  # Salida: True\n",
        "\n",
        "# Verificamos si hay enlace entre el nodo 0 y el nodo 3\n",
        "print(existe_enlace(matriz_adyacencia, 0, 3))  # Salida: False\n",
        "\n",
        "# Verificamos si hay enlace entre el nodo 2 y el nodo 3\n",
        "print(existe_enlace(matriz_adyacencia, 2, 3))  # Salida: True\n"
      ],
      "metadata": {
        "colab": {
          "base_uri": "https://localhost:8080/"
        },
        "id": "tuyxWB28D8q9",
        "outputId": "1801aa10-1b11-428b-8dc0-192a7c705305"
      },
      "execution_count": 14,
      "outputs": [
        {
          "output_type": "stream",
          "name": "stdout",
          "text": [
            "True\n",
            "False\n",
            "True\n"
          ]
        }
      ]
    },
    {
      "cell_type": "markdown",
      "source": [
        "4. Una función que, dada una matriz de adyacencia de un grafo no dirigido, determine el grado de un nodo dado"
      ],
      "metadata": {
        "id": "QK2xCaRXEunc"
      }
    },
    {
      "cell_type": "code",
      "source": [
        "# Función para determinar el grado de un nodo dado en una matriz de adyacencia\n",
        "def grado_nodo(matriz_adyacencia, nodo):\n",
        "    # Obtenemos la fila correspondiente al nodo en la matriz de adyacencia\n",
        "    fila = matriz_adyacencia[nodo]\n",
        "\n",
        "    # El grado del nodo es el número de 1s en la fila\n",
        "    grado = sum(fila)\n",
        "\n",
        "    return grado\n"
      ],
      "metadata": {
        "id": "sNBPaCUMExOW"
      },
      "execution_count": 15,
      "outputs": []
    },
    {
      "cell_type": "code",
      "source": [
        "# Supongamos que tenemos la siguiente matriz de adyacencia para un grafo no dirigido:\n",
        "# Nodo 0 está conectado con los nodos 1 y 2\n",
        "# Nodo 1 está conectado con los nodos 0 y 2\n",
        "# Nodo 2 está conectado con los nodos 0, 1, y 3\n",
        "# Nodo 3 está conectado solo con el nodo 2\n",
        "matriz_adyacencia = [\n",
        "    [0, 1, 1, 0],  # Nodo 0\n",
        "    [1, 0, 1, 0],  # Nodo 1\n",
        "    [1, 1, 0, 1],  # Nodo 2\n",
        "    [0, 0, 1, 0]   # Nodo 3\n",
        "]\n",
        "\n",
        "# Determinamos el grado del nodo 0\n",
        "print(grado_nodo(matriz_adyacencia, 0))  # Salida: 2 (conectado a 1 y 2)\n",
        "\n",
        "# Determinamos el grado del nodo 2\n",
        "print(grado_nodo(matriz_adyacencia, 2))  # Salida: 3 (conectado a 0, 1 y 3)\n",
        "\n",
        "# Determinamos el grado del nodo 3\n",
        "print(grado_nodo(matriz_adyacencia, 3))  # Salida: 1 (conectado solo a 2)\n"
      ],
      "metadata": {
        "colab": {
          "base_uri": "https://localhost:8080/"
        },
        "id": "srU9s-DEF1Uf",
        "outputId": "d569c5f7-4d06-4b35-90f8-43c69fcc102c"
      },
      "execution_count": 16,
      "outputs": [
        {
          "output_type": "stream",
          "name": "stdout",
          "text": [
            "2\n",
            "3\n",
            "1\n"
          ]
        }
      ]
    },
    {
      "cell_type": "markdown",
      "source": [
        "5. Una función que, dada una matriz de adyacencia de un grafo dirigido, determine el grado de entrada de cada nodo"
      ],
      "metadata": {
        "id": "2vjLGDoPF5Dt"
      }
    },
    {
      "cell_type": "code",
      "source": [
        "# Función para determinar el grado de entrada de cada nodo en una matriz de adyacencia\n",
        "def grado_entrada(matriz_adyacencia):\n",
        "    # El número de nodos es el tamaño de la matriz\n",
        "    num_nodos = len(matriz_adyacencia)\n",
        "\n",
        "    # Inicializamos una lista para almacenar los grados de entrada de cada nodo\n",
        "    grados_entrada = [0] * num_nodos\n",
        "\n",
        "    # Recorremos la matriz por columnas (para cada nodo)\n",
        "    for nodo in range(num_nodos):\n",
        "        for fila in range(num_nodos):\n",
        "            # Si hay un 1 en la columna `nodo`, significa que hay una arista que entra al nodo desde `fila`\n",
        "            if matriz_adyacencia[fila][nodo] == 1:\n",
        "                grados_entrada[nodo] += 1\n",
        "\n",
        "    return grados_entrada\n"
      ],
      "metadata": {
        "id": "w3r6CwLcGNI1"
      },
      "execution_count": 17,
      "outputs": []
    },
    {
      "cell_type": "code",
      "source": [
        "# Ejemplo de matriz de adyacencia de un grafo dirigido:\n",
        "# Nodo 0 tiene aristas hacia 1 y 2\n",
        "# Nodo 1 tiene aristas hacia 2\n",
        "# Nodo 2 tiene una arista hacia 3\n",
        "# Nodo 3 no tiene aristas de salida\n",
        "matriz_adyacencia = [\n",
        "    [0, 1, 1, 0],  # Nodo 0\n",
        "    [0, 0, 1, 0],  # Nodo 1\n",
        "    [0, 0, 0, 1],  # Nodo 2\n",
        "    [0, 0, 0, 0]   # Nodo 3\n",
        "]\n",
        "\n",
        "# Determinamos el grado de entrada de cada nodo\n",
        "grados_entrada = grado_entrada(matriz_adyacencia)\n",
        "print(grados_entrada)  # Salida: [0, 1, 2, 1]\n"
      ],
      "metadata": {
        "colab": {
          "base_uri": "https://localhost:8080/"
        },
        "id": "QSF4wTFnGPKg",
        "outputId": "b43ffba7-1086-4b89-983d-dc1055cff359"
      },
      "execution_count": 18,
      "outputs": [
        {
          "output_type": "stream",
          "name": "stdout",
          "text": [
            "[0, 1, 2, 1]\n"
          ]
        }
      ]
    }
  ]
}