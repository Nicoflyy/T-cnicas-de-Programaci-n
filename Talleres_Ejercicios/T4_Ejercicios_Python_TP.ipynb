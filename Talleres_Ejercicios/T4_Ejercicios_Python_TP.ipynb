{
  "nbformat": 4,
  "nbformat_minor": 0,
  "metadata": {
    "colab": {
      "provenance": [],
      "authorship_tag": "ABX9TyNi56yJnf5n/4kE8DgfO5ka",
      "include_colab_link": true
    },
    "kernelspec": {
      "name": "python3",
      "display_name": "Python 3"
    },
    "language_info": {
      "name": "python"
    }
  },
  "cells": [
    {
      "cell_type": "markdown",
      "metadata": {
        "id": "view-in-github",
        "colab_type": "text"
      },
      "source": [
        "<a href=\"https://colab.research.google.com/github/Nicoflyy/T-cnicas-de-Programaci-n/blob/main/Talleres_Ejercicios/T4_Ejercicios_Python_TP.ipynb\" target=\"_parent\"><img src=\"https://colab.research.google.com/assets/colab-badge.svg\" alt=\"Open In Colab\"/></a>"
      ]
    },
    {
      "cell_type": "markdown",
      "source": [
        "**Ejercicios del 25 al 51**\n",
        "\n",
        "1. Realizar un algoritmo que lea un vector (lista). Conformar un segundo vector (lista) que contenga los elementos positivos y otro que contenga los elementos negativos del vector (lista) inicial. Escribir todos los vectores generados."
      ],
      "metadata": {
        "id": "StHrle0_0lRC"
      }
    },
    {
      "cell_type": "code",
      "source": [
        "class vectores():\n",
        "  def __init__(self):\n",
        "    self._vector1 = []\n",
        "    self._vectorn = []\n",
        "    self._vectorp = []\n",
        "\n",
        "  def vector_t(self, item):\n",
        "    self._vector1.append(item)\n",
        "\n",
        "  def vector_n(self):\n",
        "    for i in self._vector1:\n",
        "      if i < 0:\n",
        "        self._vectorn.append(i)\n",
        "\n",
        "  def vector_p(self):\n",
        "    for i in self._vector1:\n",
        "      if i > 0:\n",
        "        self._vectorp.append(i)\n",
        "\n",
        "  def mostrar_v(self):\n",
        "    print(f'El vector con todos los valores es: {self._vector1}')\n",
        "    print(f'El vector con los valores negativos es: {self._vectorn}')\n",
        "    print(f'El vector con los valores positivos es: {self._vectorp}')\n",
        "\n",
        "v = vectores()\n",
        "elementos_vector_T = int(input('Ingrese el numero de elementos que va a tener el primer vector: '))\n",
        "contador = 0\n",
        "\n",
        "while contador < elementos_vector_T:\n",
        "  elementos = float(input('Ingrese los valores que va a tener la lista vector: '))\n",
        "  v.vector_t(elementos)\n",
        "  contador += 1\n",
        "\n",
        "v.vector_n()\n",
        "v.vector_p()\n",
        "v.mostrar_v()\n"
      ],
      "metadata": {
        "colab": {
          "base_uri": "https://localhost:8080/"
        },
        "id": "j7XOrfPB0rKy",
        "outputId": "ae370cae-7808-4ae5-85ea-261c5c87c3dc"
      },
      "execution_count": null,
      "outputs": [
        {
          "output_type": "stream",
          "name": "stdout",
          "text": [
            "Ingrese el numero de elementos que va a tener el primer vector: 4\n",
            "Ingrese los valores que va a tener la lista vector: 1\n",
            "Ingrese los valores que va a tener la lista vector: 2\n",
            "Ingrese los valores que va a tener la lista vector: -1\n",
            "Ingrese los valores que va a tener la lista vector: -2\n",
            "El vector con todos los valores es: [1.0, 2.0, -1.0, -2.0]\n",
            "El vector con los valores negativos es: [-1.0, -2.0]\n",
            "El vector con los valores positivos es: [1.0, 2.0]\n"
          ]
        }
      ]
    },
    {
      "cell_type": "markdown",
      "source": [
        "2. Se tienen dos vectores (listas). Se debe crear otros 3 vectores. El primero, con la suma de los elementos respectivos, otro con el producto y el último con la diferencia (si la diferencia es negativa, coloque cero como valor)."
      ],
      "metadata": {
        "id": "xxlxCZOdEyV7"
      }
    },
    {
      "cell_type": "code",
      "source": [
        "class vectores():\n",
        "  def __init__(self):\n",
        "    self.vectorA = []\n",
        "    self.vectorB = []\n",
        "    self.vectorsuma = []\n",
        "    self.vectorresta = []\n",
        "    self.vectorproducto = []\n",
        "\n",
        "  def vectora(self):\n",
        "    elementos_vectora = int(input('Ingrese el numero de elementos que va a tener el primer vector A: '))\n",
        "    contador = 0\n",
        "\n",
        "    while contador < elementos_vectora:\n",
        "      elementos = float(input('Ingrese los valores que va a tener la lista vector A: '))\n",
        "      self.vectorA.append(elementos)\n",
        "      contador += 1\n",
        "\n",
        "  def vectorb(self):\n",
        "    elementos_vectora = int(input('Ingrese el numero de elementos que va a tener el segundo vector B: '))\n",
        "    contador = 0\n",
        "\n",
        "    while contador < elementos_vectora:\n",
        "      elementos = float(input('Ingrese los valores que va a tener la lista vector B: '))\n",
        "      self.vectorB.append(elementos)\n",
        "      contador += 1\n",
        "\n",
        "  def suma(self):\n",
        "    for i in range(len(self.vectorA)):\n",
        "      x = self.vectorA[i] + self.vectorB[i]\n",
        "      self.vectorsuma.append(x)\n",
        "\n",
        "  def resta(self):\n",
        "    for i in range(len(self.vectorA) and len(self.vectorB)):\n",
        "      x = self.vectorA[i] - self.vectorB[i]\n",
        "      if x < 0:\n",
        "        x = 0\n",
        "      self.vectorresta.append(x)\n",
        "\n",
        "  def producto(self):\n",
        "    for i in range(len(self.vectorA) and len(self.vectorB)):\n",
        "      x = self.vectorA[i] * self.vectorB[i]\n",
        "      self.vectorproducto.append(x)\n",
        "\n",
        "\n",
        "\n",
        "  def mostrar_resultados(self):\n",
        "    print(f'El vector suma es= {self.vectorsuma}')\n",
        "    print(f'El vector resta es= {self.vectorresta}')\n",
        "    print(f'El vector producto es= {self.vectorproducto}')\n",
        "\n",
        "p = vectores()\n",
        "p.vectora()\n",
        "p.vectorb()\n",
        "p.suma()\n",
        "p.resta()\n",
        "p.producto()\n",
        "p.mostrar_resultados()\n"
      ],
      "metadata": {
        "colab": {
          "base_uri": "https://localhost:8080/"
        },
        "id": "wTUJ9MPZGjt5",
        "outputId": "dd285f7c-15cf-44ec-b8cc-27107396ad51"
      },
      "execution_count": null,
      "outputs": [
        {
          "output_type": "stream",
          "name": "stdout",
          "text": [
            "Ingrese el numero de elementos que va a tener el primer vector A: 2\n",
            "Ingrese los valores que va a tener la lista vector A: 3\n",
            "Ingrese los valores que va a tener la lista vector A: 4\n",
            "Ingrese el numero de elementos que va a tener el segundo vector B: 2\n",
            "Ingrese los valores que va a tener la lista vector B: 1\n",
            "Ingrese los valores que va a tener la lista vector B: 5\n",
            "El vector suma es= [4.0, 9.0]\n",
            "El vector resta es= [2.0, 0]\n",
            "El vector producto es= [3.0, 20.0]\n"
          ]
        }
      ]
    },
    {
      "cell_type": "markdown",
      "source": [
        "3. Leer un vector (lista) de enteros, escribir los valores múltiplos de 7."
      ],
      "metadata": {
        "id": "uT-eSiTSey5f"
      }
    },
    {
      "cell_type": "code",
      "source": [
        "class vector():\n",
        "  def __init__(self):\n",
        "    self.lista = []\n",
        "    self.mltp7 = []\n",
        "\n",
        "  def agregar_lista(self, item):\n",
        "    self.lista.append(item)\n",
        "\n",
        "  def mltp_7(self):\n",
        "    for i in self.lista:\n",
        "      if i % 7 == 0:\n",
        "        self.mltp7.append(i)\n",
        "\n",
        "  def mostrar_multiplos_de_7(self):\n",
        "    print(f'Los multiplos de 7 que se encuentran en el vector (lista) inicial son: {self.mltp7}')\n",
        "\n",
        "x = vector()\n",
        "num_elementos = int(input('Ingrese la cantidad de elementos que va a ingresar en el vector (lista): '))\n",
        "contador = 0\n",
        "\n",
        "while contador < num_elementos:\n",
        "  elemento = int(input('Ingrese el valor del elemento que se va añadir al vector: '))\n",
        "  x.agregar_lista(elemento)\n",
        "  contador += 1\n",
        "\n",
        "x.mltp_7()\n",
        "x.mostrar_multiplos_de_7()"
      ],
      "metadata": {
        "colab": {
          "base_uri": "https://localhost:8080/"
        },
        "id": "kYUIRh1lfvME",
        "outputId": "889b962f-9ef4-4bc1-9eed-cd33f6d3bec0"
      },
      "execution_count": null,
      "outputs": [
        {
          "output_type": "stream",
          "name": "stdout",
          "text": [
            "Ingrese la cantidad de elementos que va a ingresar en el vector (lista): 5\n",
            "Ingrese el valor del elemento que se va añadir al vector: 15\n",
            "Ingrese el valor del elemento que se va añadir al vector: 14\n",
            "Ingrese el valor del elemento que se va añadir al vector: 7\n",
            "Ingrese el valor del elemento que se va añadir al vector: 1\n",
            "Ingrese el valor del elemento que se va añadir al vector: 21\n",
            "Los multiplos de 7 que se encuentran en el vector (lista) inicial son: [14, 7, 21]\n"
          ]
        }
      ]
    },
    {
      "cell_type": "markdown",
      "source": [
        "**Ejercicios del 52 al 70**\n",
        "\n",
        "4. Leer una matriz de números enteros, formar un vector (lista) con los números impares que se encuentren en la matriz. Escribir el vector (lista) resultante."
      ],
      "metadata": {
        "id": "A5Zvpfq7elEm"
      }
    },
    {
      "cell_type": "code",
      "source": [
        "class Matriz():\n",
        "  def __init__(self):\n",
        "    self.matriz = []\n",
        "\n",
        "  def leer_matriz(self, filas, columnas):\n",
        "        for i in range(filas):\n",
        "            fila = []\n",
        "            for j in range(columnas):\n",
        "                elemento = int(input(f\"Ingrese el elemento para la fila {i + 1} y columna {j + 1}: \"))\n",
        "                fila.append(elemento)\n",
        "            self.matriz.append(fila)\n",
        "\n",
        "  def obtener_impares(self):\n",
        "       impares = []\n",
        "       for fila in self.matriz:\n",
        "           for elemento in fila:\n",
        "               if elemento % 2 != 0:\n",
        "                   impares.append(elemento)\n",
        "       return impares\n",
        "\n",
        "mi_matriz = Matriz()\n",
        "\n",
        "filas = int(input(\"Ingrese el número de filas de la matriz: \"))\n",
        "columnas = int(input(\"Ingrese el número de columnas de la matriz: \"))\n",
        "mi_matriz.leer_matriz(filas, columnas)\n",
        "\n",
        "impares = mi_matriz.obtener_impares()\n",
        "\n",
        "# Imprimir el vector resultante con números impares\n",
        "print(\"El vector resultante con números impares es:\")\n",
        "print(impares)"
      ],
      "metadata": {
        "colab": {
          "base_uri": "https://localhost:8080/"
        },
        "id": "ttwD1zKummk7",
        "outputId": "c654ae50-7cd7-45e5-9480-cf37b05beff8"
      },
      "execution_count": null,
      "outputs": [
        {
          "output_type": "stream",
          "name": "stdout",
          "text": [
            "Ingrese el número de filas de la matriz: 2\n",
            "Ingrese el número de columnas de la matriz: 2\n",
            "Ingrese el elemento para la fila 1 y columna 1: 5\n",
            "Ingrese el elemento para la fila 1 y columna 2: 3\n",
            "Ingrese el elemento para la fila 2 y columna 1: 4\n",
            "Ingrese el elemento para la fila 2 y columna 2: 2\n",
            "El vector resultante con números impares es:\n",
            "[5, 3]\n"
          ]
        }
      ]
    },
    {
      "cell_type": "markdown",
      "source": [
        "5. Leer una matriz cuadrada, generar un vector con la diagonal principal."
      ],
      "metadata": {
        "id": "Xvnz7BNQqFs3"
      }
    },
    {
      "cell_type": "code",
      "source": [
        "class MatrizCuadrada:\n",
        "    def __init__(self, orden):\n",
        "        self.orden = orden\n",
        "        self.matriz = []\n",
        "\n",
        "    def leer_matriz(self):\n",
        "        for i in range(self.orden):\n",
        "            fila = []\n",
        "            for j in range(self.orden):\n",
        "                elemento = int(input(f\"Ingrese el elemento para la fila {i + 1} y columna {j + 1}: \"))\n",
        "                fila.append(elemento)\n",
        "            self.matriz.append(fila)\n",
        "\n",
        "    def obtener_diagonal_principal(self):\n",
        "        diagonal = []\n",
        "        for i in range(self.orden):\n",
        "            diagonal.append(self.matriz[i][i])\n",
        "        return diagonal\n",
        "\n",
        "# Crear una instancia de la clase\n",
        "orden = int(input(\"Ingrese el orden de la matriz cuadrada: \"))\n",
        "mi_matriz = MatrizCuadrada(orden)\n",
        "\n",
        "# Leer la matriz cuadrada\n",
        "mi_matriz.leer_matriz()\n",
        "\n",
        "# Obtener la diagonal principal\n",
        "diagonal_principal = mi_matriz.obtener_diagonal_principal()\n",
        "\n",
        "# Imprimir el vector con la diagonal principal\n",
        "print(\"El vector con la diagonal principal es:\", diagonal_principal)\n"
      ],
      "metadata": {
        "colab": {
          "base_uri": "https://localhost:8080/"
        },
        "id": "de4ss0qVqFmo",
        "outputId": "b1d05852-0b8b-4171-e2c8-7054b136e1df"
      },
      "execution_count": null,
      "outputs": [
        {
          "output_type": "stream",
          "name": "stdout",
          "text": [
            "Ingrese el orden de la matriz cuadrada: 2\n",
            "Ingrese el elemento para la fila 1 y columna 1: 4\n",
            "Ingrese el elemento para la fila 1 y columna 2: 5\n",
            "Ingrese el elemento para la fila 2 y columna 1: 9\n",
            "Ingrese el elemento para la fila 2 y columna 2: 6\n",
            "El vector con la diagonal principal es: [4, 6]\n"
          ]
        }
      ]
    }
  ]
}