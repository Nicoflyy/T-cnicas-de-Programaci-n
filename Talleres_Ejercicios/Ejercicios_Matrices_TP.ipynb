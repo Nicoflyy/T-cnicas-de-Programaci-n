{
  "nbformat": 4,
  "nbformat_minor": 0,
  "metadata": {
    "colab": {
      "provenance": [],
      "authorship_tag": "ABX9TyME/3lGu2YhOjbk2dp1PB+U",
      "include_colab_link": true
    },
    "kernelspec": {
      "name": "python3",
      "display_name": "Python 3"
    },
    "language_info": {
      "name": "python"
    }
  },
  "cells": [
    {
      "cell_type": "markdown",
      "metadata": {
        "id": "view-in-github",
        "colab_type": "text"
      },
      "source": [
        "<a href=\"https://colab.research.google.com/github/Nicoflyy/T-cnicas-de-Programaci-n/blob/main/Talleres_Ejercicios/Ejercicios_Matrices_TP.ipynb\" target=\"_parent\"><img src=\"https://colab.research.google.com/assets/colab-badge.svg\" alt=\"Open In Colab\"/></a>"
      ]
    },
    {
      "cell_type": "markdown",
      "source": [
        "52. Realizar un algoritmo que lea 2 matrices. Calcular y escribir una nueva matriz que sea la\n",
        "suma de estas matrices."
      ],
      "metadata": {
        "id": "QE5MBFzdSGLr"
      }
    },
    {
      "cell_type": "code",
      "execution_count": 15,
      "metadata": {
        "colab": {
          "base_uri": "https://localhost:8080/"
        },
        "id": "VOGERBToRIag",
        "outputId": "c0724b32-e8f7-4a3e-d534-7330ca788ccc"
      },
      "outputs": [
        {
          "output_type": "stream",
          "name": "stdout",
          "text": [
            "Matriz resultante de la suma:\n",
            "[10, 10, 10]\n",
            "[10, 10, 10]\n",
            "[10, 10, 10]\n"
          ]
        }
      ],
      "source": [
        "# prompt: Realizar un algoritmo que lea 2 matrices. Calcular y escribir una nueva matriz que sea la\n",
        "# suma de estas matrices.\n",
        "\n",
        "def sumar_matrices(matriz1, matriz2):\n",
        "  \"\"\"\n",
        "  Suma dos matrices y devuelve la matriz resultante.\n",
        "\n",
        "  Args:\n",
        "    matriz1: La primera matriz.\n",
        "    matriz2: La segunda matriz.\n",
        "\n",
        "  Returns:\n",
        "    La matriz resultante de la suma de las dos matrices.\n",
        "    None si las matrices no tienen las mismas dimensiones.\n",
        "  \"\"\"\n",
        "  if len(matriz1) != len(matriz2) or len(matriz1[0]) != len(matriz2[0]):\n",
        "    print(\"Las matrices no tienen las mismas dimensiones.\")\n",
        "    return None\n",
        "\n",
        "  matriz_suma = []\n",
        "  for i in range(len(matriz1)):\n",
        "    fila_suma = []\n",
        "    for j in range(len(matriz1[0])):\n",
        "      fila_suma.append(matriz1[i][j] + matriz2[i][j])\n",
        "    matriz_suma.append(fila_suma)\n",
        "\n",
        "  return matriz_suma\n",
        "\n",
        "\n",
        "# Ejemplo de uso:\n",
        "matriz1 = [[1, 2, 3], [4, 5, 6], [7, 8, 9]]\n",
        "matriz2 = [[9, 8, 7], [6, 5, 4], [3, 2, 1]]\n",
        "\n",
        "matriz_suma = sumar_matrices(matriz1, matriz2)\n",
        "\n",
        "if matriz_suma:\n",
        "  print(\"Matriz resultante de la suma:\")\n",
        "  for fila in matriz_suma:\n",
        "    print(fila)\n"
      ]
    },
    {
      "cell_type": "markdown",
      "source": [
        "53. Realizar un algoritmo que lea una matriz, calcule y escriba la suma de los elementos de\n",
        "la primera fila y el producto de los elementos de la última columna. Escribir la matriz\n",
        "original."
      ],
      "metadata": {
        "id": "PtDXo9EGSus8"
      }
    },
    {
      "source": [
        "def calcular_suma_y_producto(matriz):\n",
        "  \"\"\"\n",
        "  Calcula la suma de los elementos de la primera fila y el producto de los elementos de la última columna de una matriz.\n",
        "\n",
        "  Args:\n",
        "    matriz: La matriz.\n",
        "\n",
        "  Returns:\n",
        "    Una tupla con la suma de la primera fila y el producto de la última columna.\n",
        "  \"\"\"\n",
        "\n",
        "  suma_fila = sum(matriz[0])\n",
        "\n",
        "  producto_columna = 1\n",
        "  for fila in matriz:\n",
        "    producto_columna *= fila[-1]\n",
        "\n",
        "  return suma_fila, producto_columna\n",
        "\n",
        "\n",
        "# Ejemplo de uso:\n",
        "matriz = [[1, 2, 3], [4, 5, 6], [7, 8, 9]]\n",
        "\n",
        "suma, producto = calcular_suma_y_producto(matriz)\n",
        "\n",
        "print(\"Matriz original:\")\n",
        "for fila in matriz:\n",
        "  print(fila)\n",
        "\n",
        "print(\"Suma de la primera fila:\", suma)\n",
        "print(\"Producto de la última columna:\", producto)"
      ],
      "cell_type": "code",
      "metadata": {
        "colab": {
          "base_uri": "https://localhost:8080/"
        },
        "id": "OmtIPNT4Ss55",
        "outputId": "2f178e62-fb1d-484a-ae3b-b4209cfe3bdc"
      },
      "execution_count": 16,
      "outputs": [
        {
          "output_type": "stream",
          "name": "stdout",
          "text": [
            "Matriz original:\n",
            "[1, 2, 3]\n",
            "[4, 5, 6]\n",
            "[7, 8, 9]\n",
            "Suma de la primera fila: 6\n",
            "Producto de la última columna: 162\n"
          ]
        }
      ]
    },
    {
      "cell_type": "markdown",
      "source": [
        "54. Realizar un algoritmo que lea una matriz, calcule y escriba el elemento mayor de cada\n",
        "fila y el elemento menor de cada columna."
      ],
      "metadata": {
        "id": "CxvNTWQFS5w7"
      }
    },
    {
      "source": [
        "def calcular_mayor_y_menor(matriz):\n",
        "  \"\"\"\n",
        "  Calcula el elemento mayor de cada fila y el elemento menor de cada columna de una matriz.\n",
        "\n",
        "  Args:\n",
        "    matriz: La matriz a procesar.\n",
        "\n",
        "  Returns:\n",
        "    Una tupla con dos listas: la primera lista contiene el mayor de cada fila y la segunda el menor de cada columna.\n",
        "  \"\"\"\n",
        "  mayor_fila = []\n",
        "  for fila in matriz:\n",
        "    mayor_fila.append(max(fila))\n",
        "\n",
        "  menor_columna = []\n",
        "  for j in range(len(matriz[0])):\n",
        "    columna = [matriz[i][j] for i in range(len(matriz))]\n",
        "    menor_columna.append(min(columna))\n",
        "\n",
        "  return mayor_fila, menor_columna\n",
        "\n",
        "# Ejemplo de uso\n",
        "matriz = [[1, 2, 3], [4, 5, 6], [7, 8, 9]]\n",
        "\n",
        "mayor_fila, menor_columna = calcular_mayor_y_menor(matriz)\n",
        "\n",
        "print(\"Matriz original:\")\n",
        "for fila in matriz:\n",
        "  print(fila)\n",
        "\n",
        "print(\"Mayor de cada fila:\", mayor_fila)\n",
        "print(\"Menor de cada columna:\", menor_columna)"
      ],
      "cell_type": "code",
      "metadata": {
        "colab": {
          "base_uri": "https://localhost:8080/"
        },
        "id": "9gXD3PcPTDZ-",
        "outputId": "33505b64-c03e-43c4-fb9c-61ee56dc3314"
      },
      "execution_count": 17,
      "outputs": [
        {
          "output_type": "stream",
          "name": "stdout",
          "text": [
            "Matriz original:\n",
            "[1, 2, 3]\n",
            "[4, 5, 6]\n",
            "[7, 8, 9]\n",
            "Mayor de cada fila: [3, 6, 9]\n",
            "Menor de cada columna: [1, 2, 3]\n"
          ]
        }
      ]
    },
    {
      "cell_type": "markdown",
      "source": [
        "55. Realizar un algoritmo que lea 2 matrices. Calcular y escribir otra matriz que sea el\n",
        "producto matricial de la primera por la segunda."
      ],
      "metadata": {
        "id": "gV9dceRYTFCP"
      }
    },
    {
      "source": [
        "def producto_matricial(matriz1, matriz2):\n",
        "  \"\"\"\n",
        "  Calcula el producto matricial de dos matrices.\n",
        "\n",
        "  Args:\n",
        "    matriz1: La primera matriz.\n",
        "    matriz2: La segunda matriz.\n",
        "\n",
        "  Returns:\n",
        "    La matriz resultante del producto matricial.\n",
        "    None si las matrices no son compatibles para la multiplicación.\n",
        "  \"\"\"\n",
        "  if len(matriz1[0]) != len(matriz2):\n",
        "    print(\"Las matrices no son compatibles para la multiplicación.\")\n",
        "    return None\n",
        "\n",
        "  matriz_producto = []\n",
        "  for i in range(len(matriz1)):\n",
        "    fila_producto = []\n",
        "    for j in range(len(matriz2[0])):\n",
        "      suma = 0\n",
        "      for k in range(len(matriz2)):\n",
        "        suma += matriz1[i][k] * matriz2[k][j]\n",
        "      fila_producto.append(suma)\n",
        "    matriz_producto.append(fila_producto)\n",
        "\n",
        "  return matriz_producto\n",
        "\n",
        "# Ejemplo de uso\n",
        "matriz1 = [[1, 2, 3], [4, 5, 6]]\n",
        "matriz2 = [[7, 8], [9, 10], [11, 12]]\n",
        "\n",
        "matriz_producto = producto_matricial(matriz1, matriz2)\n",
        "\n",
        "if matriz_producto:\n",
        "  print(\"Matriz resultante del producto:\")\n",
        "  for fila in matriz_producto:\n",
        "    print(fila)"
      ],
      "cell_type": "code",
      "metadata": {
        "colab": {
          "base_uri": "https://localhost:8080/"
        },
        "id": "YFckgVfsTO5p",
        "outputId": "f1ee6f0a-e3c8-4820-b450-0f2915c69185"
      },
      "execution_count": 18,
      "outputs": [
        {
          "output_type": "stream",
          "name": "stdout",
          "text": [
            "Matriz resultante del producto:\n",
            "[58, 64]\n",
            "[139, 154]\n"
          ]
        }
      ]
    },
    {
      "cell_type": "markdown",
      "source": [
        "56.Leer una matriz de n filas por 12 columnas. Cada elemento contiene el valor de las ventas\n",
        "de cada uno de los n vendedores de una compañía para cada uno de los 12 meses del año.\n",
        "Se debe calcular: El total de ventas para cada vendedor en el año, el total de ventas para\n",
        "cada mes y total de ventas de toda la compañía."
      ],
      "metadata": {
        "id": "365sas6OTPs6"
      }
    },
    {
      "source": [
        "def calcular_ventas(matriz):\n",
        "  \"\"\"\n",
        "  Calcula el total de ventas para cada vendedor, mes y la compañía.\n",
        "\n",
        "  Args:\n",
        "    matriz: La matriz de ventas.\n",
        "\n",
        "  Returns:\n",
        "    Una tupla con tres listas: ventas por vendedor, ventas por mes y total de ventas de la compañía.\n",
        "  \"\"\"\n",
        "\n",
        "  ventas_vendedor = [sum(fila) for fila in matriz]\n",
        "\n",
        "  ventas_mes = []\n",
        "  for j in range(len(matriz[0])):\n",
        "    suma = 0\n",
        "    for i in range(len(matriz)):\n",
        "      suma += matriz[i][j]\n",
        "    ventas_mes.append(suma)\n",
        "\n",
        "  total_ventas = sum(ventas_vendedor)\n",
        "\n",
        "  return ventas_vendedor, ventas_mes, total_ventas\n",
        "\n",
        "# Ejemplo de uso\n",
        "matriz = [[10, 20, 30, 40, 50, 60, 70, 80, 90, 100, 110, 120],\n",
        "          [15, 25, 35, 45, 55, 65, 75, 85, 95, 105, 115, 125]]\n",
        "\n",
        "ventas_vendedor, ventas_mes, total_ventas = calcular_ventas(matriz)\n",
        "\n",
        "print(\"Matriz original:\")\n",
        "for fila in matriz:\n",
        "  print(fila)\n",
        "\n",
        "print(\"Total de ventas por vendedor:\", ventas_vendedor)\n",
        "print(\"Total de ventas por mes:\", ventas_mes)\n",
        "print(\"Total de ventas de la compañía:\", total_ventas)"
      ],
      "cell_type": "code",
      "metadata": {
        "colab": {
          "base_uri": "https://localhost:8080/"
        },
        "id": "tVeQaWB0TYPD",
        "outputId": "360b4198-fb85-45b7-c797-1add0b7b3d1e"
      },
      "execution_count": 19,
      "outputs": [
        {
          "output_type": "stream",
          "name": "stdout",
          "text": [
            "Matriz original:\n",
            "[10, 20, 30, 40, 50, 60, 70, 80, 90, 100, 110, 120]\n",
            "[15, 25, 35, 45, 55, 65, 75, 85, 95, 105, 115, 125]\n",
            "Total de ventas por vendedor: [780, 840]\n",
            "Total de ventas por mes: [25, 45, 65, 85, 105, 125, 145, 165, 185, 205, 225, 245]\n",
            "Total de ventas de la compañía: 1620\n"
          ]
        }
      ]
    },
    {
      "cell_type": "markdown",
      "source": [
        "57. Leer una matriz, calcular y escribir su matriz transpuesta."
      ],
      "metadata": {
        "id": "LTvoyvLgTZEf"
      }
    },
    {
      "source": [
        "def transponer_matriz(matriz):\n",
        "  \"\"\"\n",
        "  Calcula la matriz transpuesta de una matriz dada.\n",
        "\n",
        "  Args:\n",
        "    matriz: La matriz a transponer.\n",
        "\n",
        "  Returns:\n",
        "    La matriz transpuesta.\n",
        "  \"\"\"\n",
        "\n",
        "  matriz_transpuesta = []\n",
        "  for j in range(len(matriz[0])):\n",
        "    fila_transpuesta = []\n",
        "    for i in range(len(matriz)):\n",
        "      fila_transpuesta.append(matriz[i][j])\n",
        "    matriz_transpuesta.append(fila_transpuesta)\n",
        "\n",
        "  return matriz_transpuesta\n",
        "\n",
        "# Ejemplo de uso\n",
        "matriz = [[1, 2, 3], [4, 5, 6], [7, 8, 9]]\n",
        "\n",
        "matriz_transpuesta = transponer_matriz(matriz)\n",
        "\n",
        "print(\"Matriz original:\")\n",
        "for fila in matriz:\n",
        "  print(fila)\n",
        "\n",
        "print(\"Matriz transpuesta:\")\n",
        "for fila in matriz_transpuesta:\n",
        "  print(fila)"
      ],
      "cell_type": "code",
      "metadata": {
        "colab": {
          "base_uri": "https://localhost:8080/"
        },
        "id": "IMS5dsSDTjtc",
        "outputId": "09b9b7d0-f90f-419d-ad40-29c396f3fd82"
      },
      "execution_count": 20,
      "outputs": [
        {
          "output_type": "stream",
          "name": "stdout",
          "text": [
            "Matriz original:\n",
            "[1, 2, 3]\n",
            "[4, 5, 6]\n",
            "[7, 8, 9]\n",
            "Matriz transpuesta:\n",
            "[1, 4, 7]\n",
            "[2, 5, 8]\n",
            "[3, 6, 9]\n"
          ]
        }
      ]
    },
    {
      "cell_type": "markdown",
      "source": [
        "58. Leer una matriz de números enteros, formar un vector (lista) con los números impares\n",
        "que se encuentren en la matriz. Escribir el vector (lista) resultante."
      ],
      "metadata": {
        "id": "CZjQHfIzTk4r"
      }
    },
    {
      "source": [
        "def encontrar_impares(matriz):\n",
        "  \"\"\"\n",
        "  Encuentra los números impares en una matriz y los almacena en una lista.\n",
        "\n",
        "  Args:\n",
        "    matriz: La matriz a procesar.\n",
        "\n",
        "  Returns:\n",
        "    Una lista con los números impares de la matriz.\n",
        "  \"\"\"\n",
        "\n",
        "  impares = []\n",
        "  for fila in matriz:\n",
        "    for elemento in fila:\n",
        "      if elemento % 2 != 0:\n",
        "        impares.append(elemento)\n",
        "\n",
        "  return impares\n",
        "\n",
        "# Ejemplo de uso\n",
        "matriz = [[1, 2, 3], [4, 5, 6], [7, 8, 9]]\n",
        "\n",
        "impares = encontrar_impares(matriz)\n",
        "\n",
        "print(\"Matriz original:\")\n",
        "for fila in matriz:\n",
        "  print(fila)\n",
        "\n",
        "print(\"Números impares:\", impares)"
      ],
      "cell_type": "code",
      "metadata": {
        "colab": {
          "base_uri": "https://localhost:8080/"
        },
        "id": "4jFO4FyQUJLD",
        "outputId": "733dfaf7-e7e4-4090-96e4-fe3da5f0143e"
      },
      "execution_count": 21,
      "outputs": [
        {
          "output_type": "stream",
          "name": "stdout",
          "text": [
            "Matriz original:\n",
            "[1, 2, 3]\n",
            "[4, 5, 6]\n",
            "[7, 8, 9]\n",
            "Números impares: [1, 3, 5, 7, 9]\n"
          ]
        }
      ]
    },
    {
      "cell_type": "markdown",
      "source": [
        "59. Para una matriz Leer generar un vector (lista), donde cada elemento corresponda a la\n",
        "suma de los elementos de las filas.\n"
      ],
      "metadata": {
        "id": "rJJjwqaAUKDk"
      }
    },
    {
      "source": [
        "def sumar_filas(matriz):\n",
        "  \"\"\"\n",
        "  Calcula la suma de los elementos de cada fila de una matriz.\n",
        "\n",
        "  Args:\n",
        "    matriz: La matriz a procesar.\n",
        "\n",
        "  Returns:\n",
        "    Una lista con la suma de cada fila.\n",
        "  \"\"\"\n",
        "\n",
        "  suma_filas = []\n",
        "  for fila in matriz:\n",
        "    suma_filas.append(sum(fila))\n",
        "\n",
        "  return suma_filas\n",
        "\n",
        "# Ejemplo de uso\n",
        "matriz = [[1, 2, 3], [4, 5, 6], [7, 8, 9]]\n",
        "\n",
        "suma_filas = sumar_filas(matriz)\n",
        "\n",
        "print(\"Matriz original:\")\n",
        "for fila in matriz:\n",
        "  print(fila)\n",
        "\n",
        "print(\"Suma de las filas:\", suma_filas)"
      ],
      "cell_type": "code",
      "metadata": {
        "colab": {
          "base_uri": "https://localhost:8080/"
        },
        "id": "O5wYFNh0UPNa",
        "outputId": "ff144bb5-bd95-48fb-8aef-847647addb9d"
      },
      "execution_count": 22,
      "outputs": [
        {
          "output_type": "stream",
          "name": "stdout",
          "text": [
            "Matriz original:\n",
            "[1, 2, 3]\n",
            "[4, 5, 6]\n",
            "[7, 8, 9]\n",
            "Suma de las filas: [6, 15, 24]\n"
          ]
        }
      ]
    },
    {
      "cell_type": "markdown",
      "source": [
        "60. Para una matriz de enteros, calcular y escribir cuántos elementos son múltiplos de 5."
      ],
      "metadata": {
        "id": "yp_eqjxnUP8O"
      }
    },
    {
      "source": [
        "def contar_multiplos_de_5(matriz):\n",
        "  \"\"\"\n",
        "  Cuenta la cantidad de elementos que son múltiplos de 5 en una matriz.\n",
        "\n",
        "  Args:\n",
        "    matriz: La matriz a procesar.\n",
        "\n",
        "  Returns:\n",
        "    La cantidad de elementos múltiplos de 5.\n",
        "  \"\"\"\n",
        "  contador = 0\n",
        "  for fila in matriz:\n",
        "    for elemento in fila:\n",
        "      if elemento % 5 == 0:\n",
        "        contador += 1\n",
        "  return contador\n",
        "\n",
        "# Ejemplo de uso\n",
        "matriz = [[1, 2, 3], [4, 5, 6], [7, 8, 9], [5, 10, 15]]\n",
        "\n",
        "multiplos_de_5 = contar_multiplos_de_5(matriz)\n",
        "\n",
        "print(\"Matriz original:\")\n",
        "for fila in matriz:\n",
        "  print(fila)\n",
        "\n",
        "print(\"Cantidad de múltiplos de 5:\", multiplos_de_5)"
      ],
      "cell_type": "code",
      "metadata": {
        "colab": {
          "base_uri": "https://localhost:8080/"
        },
        "id": "BVMfNphpUvVz",
        "outputId": "29e2d0bf-0c12-4c4a-c672-3efb2cd6ab83"
      },
      "execution_count": 23,
      "outputs": [
        {
          "output_type": "stream",
          "name": "stdout",
          "text": [
            "Matriz original:\n",
            "[1, 2, 3]\n",
            "[4, 5, 6]\n",
            "[7, 8, 9]\n",
            "[5, 10, 15]\n",
            "Cantidad de múltiplos de 5: 4\n"
          ]
        }
      ]
    },
    {
      "cell_type": "markdown",
      "source": [
        "61. Para una matriz, calcular e imprimir los elementos que circundan la matriz, es decir, los\n",
        "elementos de la primera y última fila, y los de la primera y última columna, sin repetir los\n",
        "elementos de los cuatro extremos."
      ],
      "metadata": {
        "id": "cZBIwce4UwKn"
      }
    },
    {
      "source": [
        "def elementos_circundantes(matriz):\n",
        "  \"\"\"\n",
        "  Calcula e imprime los elementos que circundan una matriz sin repetir las esquinas.\n",
        "\n",
        "  Args:\n",
        "    matriz: La matriz a procesar.\n",
        "  \"\"\"\n",
        "\n",
        "  if len(matriz) <= 2 or len(matriz[0]) <= 2:\n",
        "    print(\"La matriz es demasiado pequeña para tener elementos circundantes.\")\n",
        "    return\n",
        "\n",
        "  elementos = []\n",
        "\n",
        "  # Primera fila (sin esquinas)\n",
        "  elementos.extend(matriz[0][1:-1])\n",
        "\n",
        "  # Última fila (sin esquinas)\n",
        "  elementos.extend(matriz[-1][1:-1])\n",
        "\n",
        "  # Primera y última columna (sin esquinas)\n",
        "  for i in range(1, len(matriz) - 1):\n",
        "    elementos.append(matriz[i][0])\n",
        "    elementos.append(matriz[i][-1])\n",
        "\n",
        "  print(\"Matriz original:\")\n",
        "  for fila in matriz:\n",
        "    print(fila)\n",
        "\n",
        "  print(\"Elementos circundantes:\", elementos)\n",
        "\n",
        "# Ejemplo de uso\n",
        "matriz = [[1, 2, 3, 4], [5, 6, 7, 8], [9, 10, 11, 12], [13, 14, 15, 16]]\n",
        "\n",
        "elementos_circundantes(matriz)"
      ],
      "cell_type": "code",
      "metadata": {
        "colab": {
          "base_uri": "https://localhost:8080/"
        },
        "id": "FkH3-vDvU27V",
        "outputId": "df1f34a1-b5b9-4743-9ff8-ed7d3012f19f"
      },
      "execution_count": 24,
      "outputs": [
        {
          "output_type": "stream",
          "name": "stdout",
          "text": [
            "Matriz original:\n",
            "[1, 2, 3, 4]\n",
            "[5, 6, 7, 8]\n",
            "[9, 10, 11, 12]\n",
            "[13, 14, 15, 16]\n",
            "Elementos circundantes: [2, 3, 14, 15, 5, 8, 9, 12]\n"
          ]
        }
      ]
    },
    {
      "cell_type": "markdown",
      "source": [
        "62. Leer una matriz cuadrada, generar un vector con la diagonal principal."
      ],
      "metadata": {
        "id": "dlasGnCHU3rZ"
      }
    },
    {
      "source": [
        "def diagonal_principal(matriz):\n",
        "  \"\"\"\n",
        "  Extrae la diagonal principal de una matriz cuadrada.\n",
        "\n",
        "  Args:\n",
        "    matriz: La matriz cuadrada.\n",
        "\n",
        "  Returns:\n",
        "    Una lista con los elementos de la diagonal principal.\n",
        "  \"\"\"\n",
        "  if len(matriz) != len(matriz[0]):\n",
        "    print(\"La matriz no es cuadrada.\")\n",
        "    return []\n",
        "\n",
        "  diagonal = []\n",
        "  for i in range(len(matriz)):\n",
        "    diagonal.append(matriz[i][i])\n",
        "  return diagonal\n",
        "\n",
        "# Ejemplo de uso\n",
        "matriz = [[1, 2, 3], [4, 5, 6], [7, 8, 9]]\n",
        "\n",
        "diagonal = diagonal_principal(matriz)\n",
        "\n",
        "print(\"Matriz original:\")\n",
        "for fila in matriz:\n",
        "  print(fila)\n",
        "\n",
        "print(\"Diagonal principal:\", diagonal)"
      ],
      "cell_type": "code",
      "metadata": {
        "colab": {
          "base_uri": "https://localhost:8080/"
        },
        "id": "vAQbjnCSVFKv",
        "outputId": "467f9f4a-2c64-4cc0-c190-492ffe56f093"
      },
      "execution_count": 25,
      "outputs": [
        {
          "output_type": "stream",
          "name": "stdout",
          "text": [
            "Matriz original:\n",
            "[1, 2, 3]\n",
            "[4, 5, 6]\n",
            "[7, 8, 9]\n",
            "Diagonal principal: [1, 5, 9]\n"
          ]
        }
      ]
    },
    {
      "cell_type": "markdown",
      "source": [
        "63. Para una matriz, determinar si es un cuadrado mágico."
      ],
      "metadata": {
        "id": "kkXPXUYZVF6T"
      }
    },
    {
      "source": [
        "def es_cuadrado_magico(matriz):\n",
        "  \"\"\"\n",
        "  Determina si una matriz es un cuadrado mágico.\n",
        "\n",
        "  Args:\n",
        "    matriz: La matriz a evaluar.\n",
        "\n",
        "  Returns:\n",
        "    True si es un cuadrado mágico, False en caso contrario.\n",
        "  \"\"\"\n",
        "\n",
        "  if len(matriz) != len(matriz[0]):\n",
        "    return False\n",
        "\n",
        "  n = len(matriz)\n",
        "  suma_magica = sum(matriz[0])\n",
        "\n",
        "  # Verificar filas\n",
        "  for fila in matriz:\n",
        "    if sum(fila) != suma_magica:\n",
        "      return False\n",
        "\n",
        "  # Verificar columnas\n",
        "  for j in range(n):\n",
        "    suma_columna = 0\n",
        "    for i in range(n):\n",
        "      suma_columna += matriz[i][j]\n",
        "    if suma_columna != suma_magica:\n",
        "      return False\n",
        "\n",
        "  # Verificar diagonal principal\n",
        "  suma_diagonal = 0\n",
        "  for i in range(n):\n",
        "    suma_diagonal += matriz[i][i]\n",
        "  if suma_diagonal != suma_magica:\n",
        "    return False\n",
        "\n",
        "  # Verificar diagonal secundaria\n",
        "  suma_diagonal = 0\n",
        "  for i in range(n):\n",
        "    suma_diagonal += matriz[i][n - 1 - i]\n",
        "  if suma_diagonal != suma_magica:\n",
        "    return False\n",
        "\n",
        "  return True\n",
        "\n",
        "# Ejemplo de uso\n",
        "matriz = [[2, 7, 6], [9, 5, 1], [4, 3, 8]]\n",
        "\n",
        "if es_cuadrado_magico(matriz):\n",
        "  print(\"La matriz es un cuadrado mágico.\")\n",
        "else:\n",
        "  print(\"La matriz no es un cuadrado mágico.\")"
      ],
      "cell_type": "code",
      "metadata": {
        "colab": {
          "base_uri": "https://localhost:8080/"
        },
        "id": "sEwEEOoQVQuH",
        "outputId": "b1dc0542-ccd7-49cf-ea07-fe1e18180a60"
      },
      "execution_count": 26,
      "outputs": [
        {
          "output_type": "stream",
          "name": "stdout",
          "text": [
            "La matriz es un cuadrado mágico.\n"
          ]
        }
      ]
    },
    {
      "cell_type": "markdown",
      "source": [
        "64. Leer una matriz cuadrada de orden 2 o 3. Calcular y escribir su determinante."
      ],
      "metadata": {
        "id": "gt3K5alOVRVe"
      }
    },
    {
      "source": [
        "def calcular_determinante(matriz):\n",
        "  \"\"\"\n",
        "  Calcula el determinante de una matriz cuadrada de orden 2 o 3.\n",
        "\n",
        "  Args:\n",
        "    matriz: La matriz cuadrada.\n",
        "\n",
        "  Returns:\n",
        "    El determinante de la matriz.\n",
        "  \"\"\"\n",
        "  n = len(matriz)\n",
        "  if n == 2:\n",
        "    determinante = matriz[0][0] * matriz[1][1] - matriz[0][1] * matriz[1][0]\n",
        "  elif n == 3:\n",
        "    determinante = matriz[0][0] * (matriz[1][1] * matriz[2][2] - matriz[1][2] * matriz[2][1]) - \\\n",
        "                   matriz[0][1] * (matriz[1][0] * matriz[2][2] - matriz[1][2] * matriz[2][0]) + \\\n",
        "                   matriz[0][2] * (matriz[1][0] * matriz[2][1] - matriz[1][1] * matriz[2][0])\n",
        "  else:\n",
        "    print(\"La matriz debe ser de orden 2 o 3.\")\n",
        "    return None\n",
        "  return determinante\n",
        "\n",
        "# Ejemplo de uso\n",
        "matriz = [[1, 2], [3, 4]]\n",
        "\n",
        "determinante = calcular_determinante(matriz)\n",
        "\n",
        "print(\"Matriz original:\")\n",
        "for fila in matriz:\n",
        "  print(fila)\n",
        "\n",
        "if determinante is not None:\n",
        "  print(\"Determinante:\", determinante)"
      ],
      "cell_type": "code",
      "metadata": {
        "colab": {
          "base_uri": "https://localhost:8080/"
        },
        "id": "S7qIUld2VY8S",
        "outputId": "e488c6a1-c021-46c9-8c79-1d42d20da63f"
      },
      "execution_count": 27,
      "outputs": [
        {
          "output_type": "stream",
          "name": "stdout",
          "text": [
            "Matriz original:\n",
            "[1, 2]\n",
            "[3, 4]\n",
            "Determinante: -2\n"
          ]
        }
      ]
    },
    {
      "cell_type": "markdown",
      "source": [
        "65. Leer una matriz cuadrada de orden 2 o 3. Calcular y escribir su inversa.\n"
      ],
      "metadata": {
        "id": "QUwtb6NbVaEO"
      }
    },
    {
      "source": [
        "def calcular_inversa(matriz):\n",
        "  \"\"\"\n",
        "  Calcula la inversa de una matriz cuadrada de orden 2 o 3.\n",
        "\n",
        "  Args:\n",
        "    matriz: La matriz cuadrada.\n",
        "\n",
        "  Returns:\n",
        "    La matriz inversa.\n",
        "    None si la matriz no es invertible.\n",
        "  \"\"\"\n",
        "\n",
        "  n = len(matriz)\n",
        "  if n == 2:\n",
        "    determinante = matriz[0][0] * matriz[1][1] - matriz[0][1] * matriz[1][0]\n",
        "    if determinante == 0:\n",
        "      print(\"La matriz no es invertible.\")\n",
        "      return None\n",
        "    inversa = [[matriz[1][1]/determinante, -matriz[0][1]/determinante],\n",
        "               [-matriz[1][0]/determinante, matriz[0][0]/determinante]]\n",
        "  elif n == 3:\n",
        "    determinante = matriz[0][0] * (matriz[1][1] * matriz[2][2] - matriz[1][2] * matriz[2][1]) - \\\n",
        "                   matriz[0][1] * (matriz[1][0] * matriz[2][2] - matriz[1][2] * matriz[2][0]) + \\\n",
        "                   matriz[0][2] * (matriz[1][0] * matriz[2][1] - matriz[1][1] * matriz[2][0])\n",
        "    if determinante == 0:\n",
        "      print(\"La matriz no es invertible.\")\n",
        "      return None\n",
        "    inversa = [[(matriz[1][1] * matriz[2][2] - matriz[1][2] * matriz[2][1])/determinante,\n",
        "                -(matriz[0][1] * matriz[2][2] - matriz[0][2] * matriz[2][1])/determinante,\n",
        "(matriz[0][1] * matriz[1][2] - matriz[0][2] * matriz[1][1])/determinante],\n",
        "[-(matriz[1][0] * matriz[2][2] - matriz[1][2] * matriz[2][0]) / determinante,\n",
        " (matriz[0][0] * matriz[2][2] - matriz[0][2] * matriz[2][0]) / determinante,\n",
        " -(matriz[0][0] * matriz[1][2] - matriz[0][2] * matriz[1][0]) / determinante]"
      ],
      "cell_type": "code",
      "metadata": {
        "colab": {
          "base_uri": "https://localhost:8080/",
          "height": 106
        },
        "id": "LShULTc-VzXc",
        "outputId": "4cc8c6aa-4d0c-4840-bc31-0b61b8c34b80"
      },
      "execution_count": 31,
      "outputs": [
        {
          "output_type": "error",
          "ename": "SyntaxError",
          "evalue": "incomplete input (<ipython-input-31-a5006639fda2>, line 33)",
          "traceback": [
            "\u001b[0;36m  File \u001b[0;32m\"<ipython-input-31-a5006639fda2>\"\u001b[0;36m, line \u001b[0;32m33\u001b[0m\n\u001b[0;31m    -(matriz[0][0] * matriz[1][2] - matriz[0][2] * matriz[1][0]) / determinante]\u001b[0m\n\u001b[0m                                                                                ^\u001b[0m\n\u001b[0;31mSyntaxError\u001b[0m\u001b[0;31m:\u001b[0m incomplete input\n"
          ]
        }
      ]
    },
    {
      "cell_type": "markdown",
      "source": [
        "66. Leer dos matrices, determinar y escribir si son iguales o no.\n"
      ],
      "metadata": {
        "id": "HcC7mde2V0lT"
      }
    },
    {
      "source": [
        "def son_matrices_iguales(matriz1, matriz2):\n",
        "  \"\"\"\n",
        "  Determina si dos matrices son iguales.\n",
        "\n",
        "  Args:\n",
        "    matriz1: La primera matriz.\n",
        "    matriz2: La segunda matriz.\n",
        "\n",
        "  Returns:\n",
        "    True si las matrices son iguales, False en caso contrario.\n",
        "  \"\"\"\n",
        "  if len(matriz1) != len(matriz2) or len(matriz1[0]) != len(matriz2[0]):\n",
        "    return False\n",
        "\n",
        "  for i in range(len(matriz1)):\n",
        "    for j in range(len(matriz1[0])):\n",
        "      if matriz1[i][j] != matriz2[i][j]:\n",
        "        return False\n",
        "\n",
        "  return True\n",
        "\n",
        "# Ejemplo de uso\n",
        "matriz1 = [[1, 2, 3], [4, 5, 6], [7, 8, 9]]\n",
        "matriz2 = [[1, 2, 3], [4, 5, 6], [7, 8, 9]]\n",
        "\n",
        "if son_matrices_iguales(matriz1, matriz2):\n",
        "  print(\"Las matrices son iguales.\")\n",
        "else:\n",
        "  print(\"Las matrices no son iguales.\")"
      ],
      "cell_type": "code",
      "metadata": {
        "id": "EZlgd2-oWKCm"
      },
      "execution_count": null,
      "outputs": []
    },
    {
      "cell_type": "markdown",
      "source": [
        "67. Leer una matriz, calcular y escribir la suma de los elementos positivos y la suma de los\n",
        "elementos negativos."
      ],
      "metadata": {
        "id": "VD79wIWXWLJ5"
      }
    },
    {
      "source": [
        "def sumar_positivos_y_negativos(matriz):\n",
        "  \"\"\"\n",
        "  Calcula la suma de los elementos positivos y la suma de los elementos negativos de una matriz.\n",
        "\n",
        "  Args:\n",
        "    matriz: La matriz a procesar.\n",
        "\n",
        "  Returns:\n",
        "    Una tupla con la suma de los positivos y la suma de los negativos.\n",
        "  \"\"\"\n",
        "\n",
        "  suma_positivos = 0\n",
        "  suma_negativos = 0\n",
        "\n",
        "  for fila in matriz:\n",
        "    for elemento in fila:\n",
        "      if elemento > 0:\n",
        "        suma_positivos += elemento\n",
        "      elif elemento < 0:\n",
        "        suma_negativos += elemento\n",
        "\n",
        "  return suma_positivos, suma_negativos\n",
        "\n",
        "# Ejemplo de uso\n",
        "matriz = [[1, -2, 3], [4, -5, 6], [-7, 8, -9]]\n",
        "\n",
        "suma_positivos, suma_negativos = sumar_positivos_y_negativos(matriz)\n",
        "\n",
        "print(\"Matriz original:\")\n",
        "for fila in matriz:\n",
        "  print(fila)\n",
        "\n",
        "print(\"Suma de los elementos positivos:\", suma_positivos)\n",
        "print(\"Suma de los elementos negativos:\", suma_negativos)"
      ],
      "cell_type": "code",
      "metadata": {
        "id": "-6vMLp4KWTLS"
      },
      "execution_count": null,
      "outputs": []
    },
    {
      "cell_type": "markdown",
      "source": [
        "68. Leer una matriz, generar y escribir una matriz triangular superior de esa matriz.\n"
      ],
      "metadata": {
        "id": "jNYcu9kdWnIn"
      }
    },
    {
      "source": [
        "def matriz_triangular_superior(matriz):\n",
        "  \"\"\"\n",
        "  Genera una matriz triangular superior a partir de una matriz dada.\n",
        "\n",
        "  Args:\n",
        "    matriz: La matriz a procesar.\n",
        "\n",
        "  Returns:\n",
        "    La matriz triangular superior.\n",
        "  \"\"\"\n",
        "\n",
        "  n = len(matriz)\n",
        "  triangular = []\n",
        "  for i in range(n):\n",
        "    fila = []\n",
        "    for j in range(n):\n",
        "      if j >= i:\n",
        "        fila.append(matriz[i][j])\n",
        "      else:\n",
        "        fila.append(0)\n",
        "    triangular.append(fila)\n",
        "  return triangular\n",
        "\n",
        "# Ejemplo de uso\n",
        "matriz = [[1, 2, 3], [4, 5, 6], [7, 8, 9]]\n",
        "\n",
        "triangular = matriz_triangular_superior(matriz)\n",
        "\n",
        "print(\"Matriz original:\")\n",
        "for fila in matriz:\n",
        "  print(fila)\n",
        "\n",
        "print(\"Matriz triangular superior:\")\n",
        "for fila in triangular:\n",
        "  print(fila)"
      ],
      "cell_type": "code",
      "metadata": {
        "id": "QQ5Jg34kWz_y"
      },
      "execution_count": null,
      "outputs": []
    },
    {
      "cell_type": "markdown",
      "source": [
        "69. Leer una matriz, generar y escribir una matriz diagonal de esa matriz."
      ],
      "metadata": {
        "id": "7ty2_hucW3i3"
      }
    },
    {
      "source": [
        "def matriz_diagonal(matriz):\n",
        "  \"\"\"\n",
        "  Genera una matriz diagonal a partir de una matriz dada.\n",
        "\n",
        "  Args:\n",
        "    matriz: La matriz a procesar.\n",
        "\n",
        "  Returns:\n",
        "    La matriz diagonal.\n",
        "  \"\"\"\n",
        "\n",
        "  n = len(matriz)\n",
        "  diagonal = []\n",
        "  for i in range(n):\n",
        "    fila = []\n",
        "    for j in range(n):\n",
        "      if j == i:\n",
        "        fila.append(matriz[i][j])\n",
        "      else:\n",
        "        fila.append(0)\n",
        "    diagonal.append(fila)\n",
        "  return diagonal\n",
        "\n",
        "# Ejemplo de uso\n",
        "matriz = [[1, 2, 3], [4, 5, 6], [7, 8, 9]]\n",
        "\n",
        "diagonal = matriz_diagonal(matriz)\n",
        "\n",
        "print(\"Matriz original:\")\n",
        "for fila in matriz:\n",
        "  print(fila)\n",
        "\n",
        "print(\"Matriz diagonal:\")\n",
        "for fila in diagonal:\n",
        "  print(fila)"
      ],
      "cell_type": "code",
      "metadata": {
        "id": "n4I44VJgXRkm"
      },
      "execution_count": null,
      "outputs": []
    },
    {
      "cell_type": "markdown",
      "source": [
        "70. Leer el primer día de un año dado (Lunes a Domingo), generar y escribir el calendario\n",
        "correspondiente."
      ],
      "metadata": {
        "id": "OmVIyhKhXWN0"
      }
    },
    {
      "source": [
        "def generar_calendario(primer_dia):\n",
        "  \"\"\"\n",
        "  Genera un calendario para un año dado el primer día.\n",
        "\n",
        "  Args:\n",
        "    primer_dia: El primer día del año (1 para Lunes, 7 para Domingo).\n",
        "  \"\"\"\n",
        "\n",
        "  dias_mes = [31, 28, 31, 30, 31, 30, 31, 31, 30, 31, 30, 31]\n",
        "  meses = [\"Enero\", \"Febrero\", \"Marzo\", \"Abril\", \"Mayo\", \"Junio\",\n",
        "           \"Julio\", \"Agosto\", \"Septiembre\", \"Octubre\", \"Noviembre\", \"Diciembre\"]\n",
        "\n",
        "  dia_actual = primer_dia\n",
        "\n",
        "  for i in range(12):\n",
        "    print(\"\\n\", meses[i])\n",
        "    print(\" L  M  X  J  V  S  D\")\n",
        "\n",
        "    # Imprimir espacios en blanco antes del primer día del mes\n",
        "    for j in range(dia_actual - 1):\n",
        "      print(\"   \", end=\"\")\n",
        "\n",
        "    for dia in range(1, dias_mes[i] + 1):\n",
        "      print(\"{:02d} \".format(dia), end=\"\")\n",
        "      dia_actual += 1\n",
        "      if dia_actual > 7:\n",
        "        dia_actual = 1\n",
        "        print()\n",
        "\n",
        "# Ejemplo de uso\n",
        "primer_dia = 3  # Martes\n",
        "\n",
        "generar_calendario(primer_dia)"
      ],
      "cell_type": "code",
      "metadata": {
        "id": "dwdmC_tzXgw6"
      },
      "execution_count": null,
      "outputs": []
    }
  ]
}