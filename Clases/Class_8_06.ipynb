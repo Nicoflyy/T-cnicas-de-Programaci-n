{
  "nbformat": 4,
  "nbformat_minor": 0,
  "metadata": {
    "colab": {
      "provenance": [],
      "authorship_tag": "ABX9TyN+2jLz+NLqeTn+x/l0K+qH",
      "include_colab_link": true
    },
    "kernelspec": {
      "name": "python3",
      "display_name": "Python 3"
    },
    "language_info": {
      "name": "python"
    }
  },
  "cells": [
    {
      "cell_type": "markdown",
      "metadata": {
        "id": "view-in-github",
        "colab_type": "text"
      },
      "source": [
        "<a href=\"https://colab.research.google.com/github/Nicoflyy/T-cnicas-de-Programaci-n/blob/main/Clases/Class_8_06.ipynb\" target=\"_parent\"><img src=\"https://colab.research.google.com/assets/colab-badge.svg\" alt=\"Open In Colab\"/></a>"
      ]
    },
    {
      "cell_type": "markdown",
      "source": [
        "**Busqueda Secuencial**\n",
        "Para cualquier tipo de listas.\n",
        "\n",
        "**Busqeuda en Binaria.**\n",
        "Solo para listas ordenadas y su funciíon se basa de Log en base 2 de N elementos.\n",
        "\n",
        "**Ejemplo**\n",
        "Lista = [10 , 19, 23, 40, 41, 53, 61]\n",
        "\n",
        "\n",
        "* Encontrar el valor 53.\n",
        "Izq / Der / Mit / Val\n",
        "---\n",
        "\n",
        "\n",
        "\n",
        "\n",
        "\n",
        "* Encontrar el valor 10.\n",
        "\n",
        "\n"
      ],
      "metadata": {
        "id": "HRsLBwQlsfrO"
      }
    },
    {
      "cell_type": "code",
      "source": [
        "#Busqeuda Secuencial.\n",
        "\n",
        "def busSec(V, val):\n",
        "  for i in range(len(V)):\n",
        "    if V[i] == val:\n",
        "      return i\n",
        "  return False\n",
        "\n",
        "lista = [10 , 19, 23, 40, 41, 53, 61]\n",
        "v = int(input('Ingrese el valor a buscar: '))\n",
        "res = busSec(lista, v)\n",
        "\n",
        "if res >= 0:\n",
        "  print(f'{v} está en la posición {res}.')\n",
        "else:\n",
        "  print(f'{v} no se encuentra en la lista.')\n"
      ],
      "metadata": {
        "id": "NaEBKE3Jtcn6"
      },
      "execution_count": null,
      "outputs": []
    },
    {
      "cell_type": "code",
      "source": [
        "#Busqueda Binaria.\n",
        "\n",
        "def busBi(L, val):\n",
        "  izq = 0\n",
        "  der = len(L)-1\n",
        "  mit = (izq+der)//2\n",
        "\n",
        "  while izq<=der:\n",
        "    if L[mit] == val:\n",
        "      return mit\n",
        "    elif val < L[mit]:\n",
        "      der = mit-1\n",
        "    else:\n",
        "      isq = mit+1\n",
        "    mit = (izq+der)//2\n",
        "  return -1\n",
        "\n",
        "lista = [10 , 19, 23, 40, 41, 53, 61]\n",
        "v = int(input('Ingrese el valor a buscar: '))\n",
        "res = busBi(lista, v)\n",
        "\n",
        "print(f'{v} se encuentra en la posición {res}.')"
      ],
      "metadata": {
        "colab": {
          "base_uri": "https://localhost:8080/",
          "height": 366
        },
        "id": "4li8xL_-y65r",
        "outputId": "de636412-5456-4852-fcf9-c9a1b0508bf5"
      },
      "execution_count": null,
      "outputs": [
        {
          "name": "stdout",
          "output_type": "stream",
          "text": [
            "Ingrese el valor a buscar: 23\n"
          ]
        },
        {
          "output_type": "error",
          "ename": "KeyboardInterrupt",
          "evalue": "",
          "traceback": [
            "\u001b[0;31m---------------------------------------------------------------------------\u001b[0m",
            "\u001b[0;31mKeyboardInterrupt\u001b[0m                         Traceback (most recent call last)",
            "\u001b[0;32m<ipython-input-3-ac16e14674e9>\u001b[0m in \u001b[0;36m<cell line: 20>\u001b[0;34m()\u001b[0m\n\u001b[1;32m     18\u001b[0m \u001b[0mlista\u001b[0m \u001b[0;34m=\u001b[0m \u001b[0;34m[\u001b[0m\u001b[0;36m10\u001b[0m \u001b[0;34m,\u001b[0m \u001b[0;36m19\u001b[0m\u001b[0;34m,\u001b[0m \u001b[0;36m23\u001b[0m\u001b[0;34m,\u001b[0m \u001b[0;36m40\u001b[0m\u001b[0;34m,\u001b[0m \u001b[0;36m41\u001b[0m\u001b[0;34m,\u001b[0m \u001b[0;36m53\u001b[0m\u001b[0;34m,\u001b[0m \u001b[0;36m61\u001b[0m\u001b[0;34m]\u001b[0m\u001b[0;34m\u001b[0m\u001b[0;34m\u001b[0m\u001b[0m\n\u001b[1;32m     19\u001b[0m \u001b[0mv\u001b[0m \u001b[0;34m=\u001b[0m \u001b[0mint\u001b[0m\u001b[0;34m(\u001b[0m\u001b[0minput\u001b[0m\u001b[0;34m(\u001b[0m\u001b[0;34m'Ingrese el valor a buscar: '\u001b[0m\u001b[0;34m)\u001b[0m\u001b[0;34m)\u001b[0m\u001b[0;34m\u001b[0m\u001b[0;34m\u001b[0m\u001b[0m\n\u001b[0;32m---> 20\u001b[0;31m \u001b[0mres\u001b[0m \u001b[0;34m=\u001b[0m \u001b[0mbusBi\u001b[0m\u001b[0;34m(\u001b[0m\u001b[0mlista\u001b[0m\u001b[0;34m,\u001b[0m \u001b[0mv\u001b[0m\u001b[0;34m)\u001b[0m\u001b[0;34m\u001b[0m\u001b[0;34m\u001b[0m\u001b[0m\n\u001b[0m\u001b[1;32m     21\u001b[0m \u001b[0;34m\u001b[0m\u001b[0m\n\u001b[1;32m     22\u001b[0m \u001b[0mprint\u001b[0m\u001b[0;34m(\u001b[0m\u001b[0;34mf'{v} se encuentra en la posición {res}.'\u001b[0m\u001b[0;34m)\u001b[0m\u001b[0;34m\u001b[0m\u001b[0;34m\u001b[0m\u001b[0m\n",
            "\u001b[0;32m<ipython-input-3-ac16e14674e9>\u001b[0m in \u001b[0;36mbusBi\u001b[0;34m(L, val)\u001b[0m\n\u001b[1;32m      6\u001b[0m   \u001b[0mmit\u001b[0m \u001b[0;34m=\u001b[0m \u001b[0;34m(\u001b[0m\u001b[0mizq\u001b[0m\u001b[0;34m+\u001b[0m\u001b[0mder\u001b[0m\u001b[0;34m)\u001b[0m\u001b[0;34m//\u001b[0m\u001b[0;36m2\u001b[0m\u001b[0;34m\u001b[0m\u001b[0;34m\u001b[0m\u001b[0m\n\u001b[1;32m      7\u001b[0m \u001b[0;34m\u001b[0m\u001b[0m\n\u001b[0;32m----> 8\u001b[0;31m   \u001b[0;32mwhile\u001b[0m \u001b[0mizq\u001b[0m\u001b[0;34m<=\u001b[0m\u001b[0mder\u001b[0m\u001b[0;34m:\u001b[0m\u001b[0;34m\u001b[0m\u001b[0;34m\u001b[0m\u001b[0m\n\u001b[0m\u001b[1;32m      9\u001b[0m     \u001b[0;32mif\u001b[0m \u001b[0mL\u001b[0m\u001b[0;34m[\u001b[0m\u001b[0mmit\u001b[0m\u001b[0;34m]\u001b[0m \u001b[0;34m==\u001b[0m \u001b[0mval\u001b[0m\u001b[0;34m:\u001b[0m\u001b[0;34m\u001b[0m\u001b[0;34m\u001b[0m\u001b[0m\n\u001b[1;32m     10\u001b[0m       \u001b[0;32mreturn\u001b[0m \u001b[0mmit\u001b[0m\u001b[0;34m\u001b[0m\u001b[0;34m\u001b[0m\u001b[0m\n",
            "\u001b[0;31mKeyboardInterrupt\u001b[0m: "
          ]
        }
      ]
    }
  ]
}