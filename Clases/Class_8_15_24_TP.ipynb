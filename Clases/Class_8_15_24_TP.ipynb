{
  "nbformat": 4,
  "nbformat_minor": 0,
  "metadata": {
    "colab": {
      "provenance": [],
      "authorship_tag": "ABX9TyNC5FSyFR90B7xOE1VEG4cF",
      "include_colab_link": true
    },
    "kernelspec": {
      "name": "python3",
      "display_name": "Python 3"
    },
    "language_info": {
      "name": "python"
    }
  },
  "cells": [
    {
      "cell_type": "markdown",
      "metadata": {
        "id": "view-in-github",
        "colab_type": "text"
      },
      "source": [
        "<a href=\"https://colab.research.google.com/github/Nicoflyy/T-cnicas-de-Programaci-n/blob/main/Clases/Class_8_15_24_TP.ipynb\" target=\"_parent\"><img src=\"https://colab.research.google.com/assets/colab-badge.svg\" alt=\"Open In Colab\"/></a>"
      ]
    },
    {
      "cell_type": "markdown",
      "source": [
        "**Busqeuda Hash.**\n",
        "___\n",
        "- La bsuqeuda hash toma 0 (1) tiempo.\n",
        "- Este concepto se conoce como busqueda por transformarción de claves.\n",
        "- Cualquiera que sea el número de elementos, toma la misma cantidad de tiempo.\n",
        "- Google brinda resultados de busqueda en cerca de mil millones de sitios web en segundos, principalmemte, debido a las técnicas de busqueda hash.\n",
        "\n",
        "\n",
        "**Según wikipedia.**\n",
        "\n",
        "Es cualquier función que se puede utilizar para asiggnar datos digitales de tamaño arbitrario a datos digitales de tamaño fijo.\n",
        "\n",
        "- las funciones hash se pueden indicar mediante la siguiente notación: **h(item)**\n",
        "- Es una función que tiene la entrada del elemento y el resultado es un entero en el rango de 0 a n-1\n",
        "- El entero se convierte en in índice en una matriz, lista o tabla de ranuras.\n",
        "- Para almacenar elementos entoeros, vamos a utilizar:\n",
        "  - h(item) = item % m, en el siguiente ejemplo nuestro **n** será 17\n",
        "  "
      ],
      "metadata": {
        "id": "rfY9Feob2IsO"
      }
    },
    {
      "cell_type": "code",
      "execution_count": 13,
      "metadata": {
        "colab": {
          "base_uri": "https://localhost:8080/",
          "height": 575
        },
        "id": "wCA3kE5d2A8m",
        "outputId": "319322c3-c63c-4a09-81aa-3c7ce20b811c"
      },
      "outputs": [
        {
          "name": "stdout",
          "output_type": "stream",
          "text": [
            "457 coocada enla posición 2\n",
            "131 coocada enla posición 1\n",
            "102 coocada enla posición 11\n",
            "770 coocada enla posición 3\n",
            "628 coocada enla posición 4\n",
            "402 coocada enla posición 12\n",
            "796 en colosión con la posición 3\n",
            "645 coocada enla posición 8\n",
            "736 en colosión con la posición 8\n",
            "495 en colosión con la posición 1\n",
            "755 en colosión con la posición 1\n",
            "Ingrese la cedula.: 645\n",
            "645 es de Esteban\n",
            "¿Desea continuar? (Y/N): y\n",
            "Ingrese la cedula.: 645\n",
            "645 es de Esteban\n",
            "¿Desea continuar? (Y/N): y\n",
            "Ingrese la cedula.: 131\n",
            "131 es de Luis\n",
            "¿Desea continuar? (Y/N): y\n",
            "Ingrese la cedula.: 102\n"
          ]
        },
        {
          "output_type": "error",
          "ename": "IndexError",
          "evalue": "list index out of range",
          "traceback": [
            "\u001b[0;31m---------------------------------------------------------------------------\u001b[0m",
            "\u001b[0;31mIndexError\u001b[0m                                Traceback (most recent call last)",
            "\u001b[0;32m<ipython-input-13-bd0b19f1f4d0>\u001b[0m in \u001b[0;36m<cell line: 17>\u001b[0;34m()\u001b[0m\n\u001b[1;32m     19\u001b[0m   \u001b[0mindH\u001b[0m \u001b[0;34m=\u001b[0m \u001b[0mhash\u001b[0m\u001b[0;34m(\u001b[0m\u001b[0mcedula\u001b[0m\u001b[0;34m)\u001b[0m\u001b[0;34m\u001b[0m\u001b[0;34m\u001b[0m\u001b[0m\n\u001b[1;32m     20\u001b[0m   \u001b[0;32mif\u001b[0m \u001b[0mtHash\u001b[0m\u001b[0;34m[\u001b[0m\u001b[0mindH\u001b[0m\u001b[0;34m]\u001b[0m \u001b[0;34m==\u001b[0m \u001b[0mcedula\u001b[0m\u001b[0;34m:\u001b[0m\u001b[0;34m\u001b[0m\u001b[0;34m\u001b[0m\u001b[0m\n\u001b[0;32m---> 21\u001b[0;31m     \u001b[0mprint\u001b[0m\u001b[0;34m(\u001b[0m\u001b[0;34mf'{cedula} es de {nom[indH]}'\u001b[0m\u001b[0;34m)\u001b[0m\u001b[0;34m\u001b[0m\u001b[0;34m\u001b[0m\u001b[0m\n\u001b[0m\u001b[1;32m     22\u001b[0m   \u001b[0;32melse\u001b[0m\u001b[0;34m:\u001b[0m\u001b[0;34m\u001b[0m\u001b[0;34m\u001b[0m\u001b[0m\n\u001b[1;32m     23\u001b[0m     \u001b[0mprint\u001b[0m\u001b[0;34m(\u001b[0m\u001b[0;34mf'{cedula} no se encuentra en la lista'\u001b[0m\u001b[0;34m)\u001b[0m\u001b[0;34m\u001b[0m\u001b[0;34m\u001b[0m\u001b[0m\n",
            "\u001b[0;31mIndexError\u001b[0m: list index out of range"
          ]
        }
      ],
      "source": [
        "def hash(ced):\n",
        "  return ced % 13    #Para utilizar esta función hash es recomndable modular siempre con el números primos\n",
        "\n",
        "cedulas = [457, 131, 102, 770, 628, 402, 796, 645, 736, 495, 755]\n",
        "nom = ['Santiago', 'Luis', 'Carolina', 'Nathaly', 'Diego', 'Santiago', 'Nicolas', 'Alejandro', 'Esteban', 'Brayan', 'Juan Pablo']\n",
        "\n",
        "tHash = [None] * 19\n",
        "\n",
        "for i in range(len(cedulas)):\n",
        "  indHash = hash(cedulas[i])\n",
        "  if tHash[indHash] == None:\n",
        "    tHash[indHash] = cedulas[i]\n",
        "    print(f'{cedulas[i]} coocada enla posición {indHash}')\n",
        "  else:\n",
        "    print(f'{cedulas[i]} en colosión con la posición {indHash}')\n",
        "\n",
        "while True:\n",
        "  cedula = int(input('Ingrese la cedula.: '))\n",
        "  indH = hash(cedula)\n",
        "  if tHash[indH] == cedula:\n",
        "    print(f'{cedula} es de {nom[indH]}')\n",
        "  else:\n",
        "    print(f'{cedula} no se encuentra en la lista')\n",
        "  opc = input('¿Desea continuar? (Y/N): ')\n",
        "  if opc.upper() != 'Y':\n",
        "    break"
      ]
    },
    {
      "cell_type": "code",
      "source": [],
      "metadata": {
        "id": "mFF4FXCnHOIs"
      },
      "execution_count": null,
      "outputs": []
    }
  ]
}