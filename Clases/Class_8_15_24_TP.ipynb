{
  "nbformat": 4,
  "nbformat_minor": 0,
  "metadata": {
    "colab": {
      "provenance": [],
      "authorship_tag": "ABX9TyOsIMlKeQLRnBYsxzrEXpLM",
      "include_colab_link": true
    },
    "kernelspec": {
      "name": "python3",
      "display_name": "Python 3"
    },
    "language_info": {
      "name": "python"
    }
  },
  "cells": [
    {
      "cell_type": "markdown",
      "metadata": {
        "id": "view-in-github",
        "colab_type": "text"
      },
      "source": [
        "<a href=\"https://colab.research.google.com/github/Nicoflyy/T-cnicas-de-Programaci-n/blob/main/Clases/Class_8_15_24_TP.ipynb\" target=\"_parent\"><img src=\"https://colab.research.google.com/assets/colab-badge.svg\" alt=\"Open In Colab\"/></a>"
      ]
    },
    {
      "cell_type": "markdown",
      "source": [
        "**Busqeuda Hash.**\n",
        "___\n",
        "- La bsuqeuda hash toma 0 (1) tiempo.\n",
        "- Este concepto se conoce como busqueda por transformarción de claves.\n",
        "- Cualquiera que sea el número de elementos, toma la misma cantidad de tiempo.\n",
        "- Google brinda resultados de busqueda en cerca de mil millones de sitios web en segundos, principalmemte, debido a las técnicas de busqueda hash.\n",
        "\n",
        "\n",
        "**Según wikipedia.**\n",
        "\n",
        "Es cualquier función que se puede utilizar para asiggnar datos digitales de tamaño arbitrario a datos digitales de tamaño fijo.\n",
        "\n",
        "- las funciones hash se pueden indicar mediante la siguiente notación: **h(item)**\n",
        "- Es una función que tiene la entrada del elemento y el resultado es un entero en el rango de 0 a n-1\n",
        "- El entero se convierte en in índice en una matriz, lista o tabla de ranuras.\n",
        "- Para almacenar elementos entoeros, vamos a utilizar:\n",
        "  - h(item) = item % m, en el siguiente ejemplo nuestro **n** será 17\n",
        "  "
      ],
      "metadata": {
        "id": "rfY9Feob2IsO"
      }
    },
    {
      "cell_type": "code",
      "execution_count": 14,
      "metadata": {
        "colab": {
          "base_uri": "https://localhost:8080/"
        },
        "id": "wCA3kE5d2A8m",
        "outputId": "ff9ccc87-aff8-4d59-e001-ed05ba797672"
      },
      "outputs": [
        {
          "name": "stdout",
          "output_type": "stream",
          "text": [
            "457 coocada enla posición 6\n",
            "131 coocada enla posición 10\n",
            "102 coocada enla posición 3\n",
            "770 coocada enla posición 0\n",
            "628 coocada enla posición 1\n",
            "402 en colosión con la posición 6\n",
            "796 coocada enla posición 4\n",
            "645 coocada enla posición 7\n",
            "736 en colosión con la posición 10\n",
            "495 en colosión con la posición 0\n",
            "755 en colosión con la posición 7\n",
            "Ingrese la cedula.: 102\n",
            "102 es de Nathaly\n",
            "¿Desea continuar? (Y/N): y\n",
            "Ingrese la cedula.: 770\n",
            "770 es de Santiago\n",
            "¿Desea continuar? (Y/N): n\n"
          ]
        }
      ],
      "source": [
        "def hash(ced):\n",
        "  return ced % 11    #Para utilizar esta función hash es recomndable modular siempre con el números primos\n",
        "\n",
        "cedulas = [457, 131, 102, 770, 628, 402, 796, 645, 736, 495, 755]\n",
        "nom = ['Santiago', 'Luis', 'Carolina', 'Nathaly', 'Diego', 'Santiago', 'Nicolas', 'Alejandro', 'Esteban', 'Brayan', 'Juan Pablo']\n",
        "\n",
        "tHash = [None] * 19\n",
        "\n",
        "for i in range(len(cedulas)):\n",
        "  indHash = hash(cedulas[i])\n",
        "  if tHash[indHash] == None:\n",
        "    tHash[indHash] = cedulas[i]\n",
        "    print(f'{cedulas[i]} coocada enla posición {indHash}')\n",
        "  else:\n",
        "    print(f'{cedulas[i]} en colosión con la posición {indHash}')\n",
        "\n",
        "while True:\n",
        "  cedula = int(input('Ingrese la cedula.: '))\n",
        "  indH = hash(cedula)\n",
        "  if tHash[indH] == cedula:\n",
        "    print(f'{cedula} es de {nom[indH]}')\n",
        "  else:\n",
        "    print(f'{cedula} no se encuentra en la lista')\n",
        "  opc = input('¿Desea continuar? (Y/N): ')\n",
        "  if opc.upper() != 'Y':\n",
        "    break"
      ]
    },
    {
      "cell_type": "markdown",
      "source": [],
      "metadata": {
        "id": "tygYCMWrIXBv"
      }
    },
    {
      "cell_type": "code",
      "source": [],
      "metadata": {
        "id": "mFF4FXCnHOIs"
      },
      "execution_count": null,
      "outputs": []
    }
  ]
}